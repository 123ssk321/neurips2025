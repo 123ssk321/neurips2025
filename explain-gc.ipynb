{
 "cells": [
  {
   "cell_type": "code",
   "execution_count": 1,
   "id": "initial_id",
   "metadata": {
    "ExecuteTime": {
     "end_time": "2025-05-16T01:38:25.904429Z",
     "start_time": "2025-05-16T01:38:25.751806Z"
    },
    "collapsed": true
   },
   "outputs": [],
   "source": [
    "import os\n",
    "%load_ext autoreload\n",
    "%autoreload 2\n",
    "#os.environ['CUDA_LAUNCH_BLOCKING'] = '1'"
   ]
  },
  {
   "cell_type": "markdown",
   "id": "b6b9d29eb4238df2",
   "metadata": {},
   "source": [
    "# Import Libraries"
   ]
  },
  {
   "cell_type": "code",
   "execution_count": 2,
   "id": "7f6e5f3f134d8937",
   "metadata": {
    "ExecuteTime": {
     "end_time": "2025-05-16T01:38:43.098997Z",
     "start_time": "2025-05-16T01:38:25.904429Z"
    }
   },
   "outputs": [],
   "source": [
    "import pandas as pd\n",
    "import torch\n",
    "import torch_geometric as pyg\n",
    "\n",
    "from torch_geometric.explain import ExplainerConfig, ModelConfig\n",
    "from torch_geometric.explain.config import ModelMode \n",
    "\n",
    "from model_store import get_gnn, model_names\n",
    "from data_store import get_gc_dataset, gc_datasets\n",
    "from explainer_store import get_explainer, explainer_names\n",
    "from explain_gc import evaluate_gc_explainer, evaluate_gc_explainer_on_data\n",
    "from utils import setup_models, get_motif_nodes"
   ]
  },
  {
   "cell_type": "code",
   "execution_count": 3,
   "id": "791ca815b9cef262",
   "metadata": {
    "ExecuteTime": {
     "end_time": "2025-05-16T01:38:43.362999Z",
     "start_time": "2025-05-16T01:38:43.098997Z"
    }
   },
   "outputs": [],
   "source": [
    "device = 'cpu'#torch.device('cuda' if torch.cuda.is_available() else 'cpu')"
   ]
  },
  {
   "cell_type": "code",
   "execution_count": 4,
   "id": "44cb2974ffcd6a86",
   "metadata": {
    "ExecuteTime": {
     "end_time": "2025-05-16T01:38:43.619757Z",
     "start_time": "2025-05-16T01:38:43.362999Z"
    }
   },
   "outputs": [],
   "source": [
    "dataset_path = 'datasets/'\n",
    "model_path = 'models/'\n",
    "model_name = 'all'\n",
    "stds = ['00', '01', '02', '03', '04', '05', '06', '07', '08', '09', '10']\n",
    "std = stds[4]"
   ]
  },
  {
   "cell_type": "code",
   "execution_count": 5,
   "id": "fa31da9eb88f8535",
   "metadata": {
    "ExecuteTime": {
     "end_time": "2025-05-16T01:38:44.647592Z",
     "start_time": "2025-05-16T01:38:44.154635Z"
    }
   },
   "outputs": [],
   "source": [
    "gcn = pyg.nn.GCN(in_channels=-1, hidden_channels=1, num_layers=1)\n",
    "grapsage = pyg.nn.GraphSAGE(in_channels=-1, hidden_channels=1, num_layers=1)\n",
    "gat = pyg.nn.GAT(in_channels=-1, hidden_channels=1, num_layers=1)\n",
    "gin = pyg.nn.GIN(in_channels=-1, hidden_channels=1, num_layers=1)"
   ]
  },
  {
   "cell_type": "markdown",
   "id": "19df23615f647196",
   "metadata": {},
   "source": [
    "# Explain Graph Classification Predictions"
   ]
  },
  {
   "cell_type": "code",
   "execution_count": 6,
   "id": "db234f2a0408f5de",
   "metadata": {
    "ExecuteTime": {
     "end_time": "2025-05-16T01:38:44.911581Z",
     "start_time": "2025-05-16T01:38:44.647592Z"
    }
   },
   "outputs": [],
   "source": [
    "metric_names = ['accuracy', 'precision', 'recall', 'iou', 'fid+', 'fid-', 'unfaithfulness', 'characterization_score',\n",
    "                'inference_time']\n",
    "explainer_config = ExplainerConfig(\n",
    "    explanation_type='phenomenon',\n",
    "    node_mask_type='object',\n",
    "    edge_mask_type='object',\n",
    ")"
   ]
  },
  {
   "cell_type": "code",
   "execution_count": 7,
   "id": "8ace3b3bed16588b",
   "metadata": {
    "ExecuteTime": {
     "end_time": "2025-05-16T01:38:45.182563Z",
     "start_time": "2025-05-16T01:38:44.911581Z"
    }
   },
   "outputs": [],
   "source": [
    "def evaluation_df(eval_data, dataset_names, metric_names):\n",
    "    # Flatten the nested dictionary into a list of rows\n",
    "    rows = []\n",
    "    for (explainer, model), dataset_metrics in eval_data.items():\n",
    "        for dataset in dataset_names:\n",
    "            row = {\n",
    "                'explainer': explainer,\n",
    "                'dataset': dataset\n",
    "            }\n",
    "\n",
    "            # Split the model name into 'model' (before the hyphen) and 'std' (after the hyphen)\n",
    "            model_parts = model.split('-')\n",
    "            if len(model_parts) == 2:\n",
    "                row['model'] = model_parts[0]  # e.g., 'gcn'\n",
    "                row['std'] = model_parts[1]  # e.g., '00' (store as 'std')\n",
    "            else:\n",
    "                row['model'] = model  # If no hyphen, keep the entire model as 'model'\n",
    "                row['std'] = None  # No model ID, set 'std' as None\n",
    "\n",
    "            # Add metric values to the row\n",
    "            for metric in metric_names:\n",
    "                row[metric] = dataset_metrics.get((dataset, metric), None)\n",
    "\n",
    "            rows.append(row)\n",
    "\n",
    "    # Create DataFrame from the list of rows\n",
    "    dataframe = pd.DataFrame(rows)\n",
    "\n",
    "    # Reorder columns: model and std columns should come before accuracy\n",
    "    column_order = ['explainer', 'dataset', 'model', 'std'] + metric_names\n",
    "    dataframe = dataframe[column_order]\n",
    "\n",
    "    return dataframe"
   ]
  },
  {
   "cell_type": "markdown",
   "id": "581d502098624aa4",
   "metadata": {},
   "source": [
    "# Load Graph Classification Datasets"
   ]
  },
  {
   "cell_type": "code",
   "execution_count": 8,
   "id": "3f24aedf2928ae8a",
   "metadata": {
    "ExecuteTime": {
     "end_time": "2025-05-16T01:50:24.956850Z",
     "start_time": "2025-05-16T01:50:10.136667Z"
    }
   },
   "outputs": [
    {
     "name": "stdout",
     "output_type": "stream",
     "text": [
      "Loading ba_2motif dataset with 04 standard deviation from datasets/ba_2motif/ba_2motif04.pth\n",
      "Number of mutagen graphs with NO2 and NH2 1015\n",
      "$$$$$$$$$$$$$$$$$$$$$$$$$$$$$$$$$$$$$$$$$$$$$$$$$$$$$$$$$$$$$$$$$$$$$$$$$$$$$$$$$$$$$$$$$$$$$$$$$$$$$\n",
      "mutag pickle file information\n",
      "Adjacency matrix shape: (1015, 418, 418)\n",
      "Features matrix shape: (1015, 418, 14)\n",
      "Labels shape: (1015, 2)\n",
      "Number of graphs: 1015\n",
      "Number of classes: 2\n",
      "Number of nodes: 418\n",
      "Number of edges: 454560\n"
     ]
    }
   ],
   "source": [
    "datasets = get_gc_dataset(dataset_path, 'all', explain=True, std_str=std)\n",
    "for i, (dataset_name, data_list, num_classes) in enumerate(datasets):\n",
    "    for j, data in enumerate(data_list):\n",
    "        if 'ba' in dataset_name:\n",
    "            data.edge_mask = torch.logical_and(data.edge_index[0] >= 20, data.edge_index[1] >= 20)\n",
    "        data_list[i] = data.to(device)\n",
    "    datasets[i] = (dataset_name, data_list, num_classes)"
   ]
  },
  {
   "cell_type": "markdown",
   "id": "d7a7c1c88addf09",
   "metadata": {},
   "source": [
    "# Load Graph Classification Models"
   ]
  },
  {
   "cell_type": "code",
   "execution_count": 9,
   "id": "d777c8b0072e894f",
   "metadata": {
    "ExecuteTime": {
     "end_time": "2025-05-16T01:50:25.352096Z",
     "start_time": "2025-05-16T01:50:24.963173Z"
    }
   },
   "outputs": [],
   "source": [
    "task = 'gc'\n",
    "dataset_models = []"
   ]
  },
  {
   "cell_type": "markdown",
   "id": "60785308bdc0a604",
   "metadata": {},
   "source": [
    "### BA-2motif"
   ]
  },
  {
   "cell_type": "code",
   "execution_count": 10,
   "id": "6bfdf923c4fbb724",
   "metadata": {
    "ExecuteTime": {
     "end_time": "2025-05-15T12:58:44.390262Z",
     "start_time": "2025-05-15T12:58:43.564437Z"
    }
   },
   "outputs": [],
   "source": [
    "ba2_models = get_gnn(model_path, task, model_name, 'ba_2motif', std=std)\n",
    "ba2_models = setup_models(ba2_models, device)\n",
    "dataset_models.append(ba2_models)"
   ]
  },
  {
   "cell_type": "markdown",
   "id": "f827568fb5a955c4",
   "metadata": {},
   "source": [
    "### MUTAG"
   ]
  },
  {
   "cell_type": "code",
   "execution_count": 11,
   "id": "d92e0ce1d00a0be",
   "metadata": {
    "ExecuteTime": {
     "end_time": "2025-05-16T01:50:26.053897Z",
     "start_time": "2025-05-16T01:50:25.352096Z"
    }
   },
   "outputs": [],
   "source": [
    "mu_models = get_gnn(model_path, task, model_name, 'mutag')\n",
    "mu_models = setup_models(mu_models, device)\n",
    "dataset_models.append(mu_models)"
   ]
  },
  {
   "cell_type": "code",
   "execution_count": 34,
   "id": "23da745daf206ad7",
   "metadata": {
    "ExecuteTime": {
     "end_time": "2025-05-16T01:50:26.310669Z",
     "start_time": "2025-05-16T01:50:26.057304Z"
    }
   },
   "outputs": [],
   "source": [
    "model_config = ModelConfig(\n",
    "    mode='binary_classification',\n",
    "    task_level='graph',\n",
    "    return_type='raw'\n",
    ")"
   ]
  },
  {
   "cell_type": "code",
   "execution_count": 25,
   "id": "f093bc97c7877def",
   "metadata": {
    "ExecuteTime": {
     "end_time": "2025-05-16T01:50:37.150680Z",
     "start_time": "2025-05-16T01:50:36.832067Z"
    }
   },
   "outputs": [
    {
     "data": {
      "text/plain": [
       "('mutag',\n",
       " [Data(x=[28, 14], edge_index=[2, 58], y=[1], edge_mask=[58], num_classes=2, num_nodes=28),\n",
       "  Data(x=[26, 14], edge_index=[2, 56], y=[1], edge_mask=[56], num_classes=2, num_nodes=26),\n",
       "  Data(x=[33, 14], edge_index=[2, 70], y=[1], edge_mask=[70], num_classes=2, num_nodes=33),\n",
       "  Data(x=[26, 14], edge_index=[2, 56], y=[1], edge_mask=[56], num_classes=2, num_nodes=26),\n",
       "  Data(x=[20, 14], edge_index=[2, 42], y=[1], edge_mask=[42], num_classes=2, num_nodes=20),\n",
       "  Data(x=[29, 14], edge_index=[2, 60], y=[1], edge_mask=[60], num_classes=2, num_nodes=29),\n",
       "  Data(x=[35, 14], edge_index=[2, 76], y=[1], edge_mask=[76], num_classes=2, num_nodes=35),\n",
       "  Data(x=[18, 14], edge_index=[2, 36], y=[1], edge_mask=[36], num_classes=2, num_nodes=18),\n",
       "  Data(x=[27, 14], edge_index=[2, 56], y=[1], edge_mask=[56], num_classes=2, num_nodes=27),\n",
       "  Data(x=[30, 14], edge_index=[2, 64], y=[1], edge_mask=[64], num_classes=2, num_nodes=30),\n",
       "  Data(x=[17, 14], edge_index=[2, 34], y=[1], edge_mask=[34], num_classes=2, num_nodes=17),\n",
       "  Data(x=[22, 14], edge_index=[2, 44], y=[1], edge_mask=[44], num_classes=2, num_nodes=22),\n",
       "  Data(x=[30, 14], edge_index=[2, 64], y=[1], edge_mask=[64], num_classes=2, num_nodes=30),\n",
       "  Data(x=[22, 14], edge_index=[2, 46], y=[1], edge_mask=[46], num_classes=2, num_nodes=22),\n",
       "  Data(x=[31, 14], edge_index=[2, 62], y=[1], edge_mask=[62], num_classes=2, num_nodes=31),\n",
       "  Data(x=[28, 14], edge_index=[2, 62], y=[1], edge_mask=[62], num_classes=2, num_nodes=28),\n",
       "  Data(x=[40, 14], edge_index=[2, 88], y=[1], edge_mask=[88], num_classes=2, num_nodes=40),\n",
       "  Data(x=[26, 14], edge_index=[2, 56], y=[1], edge_mask=[56], num_classes=2, num_nodes=26),\n",
       "  Data(x=[26, 14], edge_index=[2, 56], y=[1], edge_mask=[56], num_classes=2, num_nodes=26),\n",
       "  Data(x=[23, 14], edge_index=[2, 46], y=[1], edge_mask=[46], num_classes=2, num_nodes=23),\n",
       "  Data(x=[16, 14], edge_index=[2, 32], y=[1], edge_mask=[32], num_classes=2, num_nodes=16),\n",
       "  Data(x=[42, 14], edge_index=[2, 92], y=[1], edge_mask=[92], num_classes=2, num_nodes=42),\n",
       "  Data(x=[32, 14], edge_index=[2, 68], y=[1], edge_mask=[68], num_classes=2, num_nodes=32),\n",
       "  Data(x=[19, 14], edge_index=[2, 38], y=[1], edge_mask=[38], num_classes=2, num_nodes=19),\n",
       "  Data(x=[106, 14], edge_index=[2, 212], y=[1], edge_mask=[212], num_classes=2, num_nodes=106),\n",
       "  Data(x=[23, 14], edge_index=[2, 46], y=[1], edge_mask=[46], num_classes=2, num_nodes=23),\n",
       "  Data(x=[27, 14], edge_index=[2, 60], y=[1], edge_mask=[60], num_classes=2, num_nodes=27),\n",
       "  Data(x=[16, 14], edge_index=[2, 32], y=[1], edge_mask=[32], num_classes=2, num_nodes=16),\n",
       "  Data(x=[30, 14], edge_index=[2, 64], y=[1], edge_mask=[64], num_classes=2, num_nodes=30),\n",
       "  Data(x=[31, 14], edge_index=[2, 64], y=[1], edge_mask=[64], num_classes=2, num_nodes=31),\n",
       "  Data(x=[26, 14], edge_index=[2, 56], y=[1], edge_mask=[56], num_classes=2, num_nodes=26),\n",
       "  Data(x=[30, 14], edge_index=[2, 62], y=[1], edge_mask=[62], num_classes=2, num_nodes=30),\n",
       "  Data(x=[19, 14], edge_index=[2, 38], y=[1], edge_mask=[38], num_classes=2, num_nodes=19),\n",
       "  Data(x=[24, 14], edge_index=[2, 50], y=[1], edge_mask=[50], num_classes=2, num_nodes=24),\n",
       "  Data(x=[44, 14], edge_index=[2, 94], y=[1], edge_mask=[94], num_classes=2, num_nodes=44),\n",
       "  Data(x=[21, 14], edge_index=[2, 44], y=[1], edge_mask=[44], num_classes=2, num_nodes=21),\n",
       "  Data(x=[67, 14], edge_index=[2, 132], y=[1], edge_mask=[132], num_classes=2, num_nodes=67),\n",
       "  Data(x=[18, 14], edge_index=[2, 36], y=[1], edge_mask=[36], num_classes=2, num_nodes=18),\n",
       "  Data(x=[14, 14], edge_index=[2, 28], y=[1], edge_mask=[28], num_classes=2, num_nodes=14),\n",
       "  Data(x=[28, 14], edge_index=[2, 54], y=[1], edge_mask=[54], num_classes=2, num_nodes=28),\n",
       "  Data(x=[28, 14], edge_index=[2, 60], y=[1], edge_mask=[60], num_classes=2, num_nodes=28),\n",
       "  Data(x=[20, 14], edge_index=[2, 36], y=[1], edge_mask=[36], num_classes=2, num_nodes=20),\n",
       "  Data(x=[78, 14], edge_index=[2, 166], y=[1], edge_mask=[166], num_classes=2, num_nodes=78),\n",
       "  Data(x=[44, 14], edge_index=[2, 94], y=[1], edge_mask=[94], num_classes=2, num_nodes=44),\n",
       "  Data(x=[15, 14], edge_index=[2, 30], y=[1], edge_mask=[30], num_classes=2, num_nodes=15),\n",
       "  Data(x=[35, 14], edge_index=[2, 78], y=[1], edge_mask=[78], num_classes=2, num_nodes=35),\n",
       "  Data(x=[24, 14], edge_index=[2, 52], y=[1], edge_mask=[52], num_classes=2, num_nodes=24),\n",
       "  Data(x=[26, 14], edge_index=[2, 56], y=[1], edge_mask=[56], num_classes=2, num_nodes=26),\n",
       "  Data(x=[19, 14], edge_index=[2, 38], y=[1], edge_mask=[38], num_classes=2, num_nodes=19),\n",
       "  Data(x=[20, 14], edge_index=[2, 42], y=[1], edge_mask=[42], num_classes=2, num_nodes=20),\n",
       "  Data(x=[19, 14], edge_index=[2, 38], y=[1], edge_mask=[38], num_classes=2, num_nodes=19),\n",
       "  Data(x=[23, 14], edge_index=[2, 48], y=[1], edge_mask=[48], num_classes=2, num_nodes=23),\n",
       "  Data(x=[28, 14], edge_index=[2, 62], y=[1], edge_mask=[62], num_classes=2, num_nodes=28),\n",
       "  Data(x=[31, 14], edge_index=[2, 66], y=[1], edge_mask=[66], num_classes=2, num_nodes=31),\n",
       "  Data(x=[15, 14], edge_index=[2, 28], y=[1], edge_mask=[28], num_classes=2, num_nodes=15),\n",
       "  Data(x=[16, 14], edge_index=[2, 32], y=[1], edge_mask=[32], num_classes=2, num_nodes=16),\n",
       "  Data(x=[69, 14], edge_index=[2, 144], y=[1], edge_mask=[144], num_classes=2, num_nodes=69),\n",
       "  Data(x=[34, 14], edge_index=[2, 74], y=[1], edge_mask=[74], num_classes=2, num_nodes=34),\n",
       "  Data(x=[20, 14], edge_index=[2, 40], y=[1], edge_mask=[40], num_classes=2, num_nodes=20),\n",
       "  Data(x=[36, 14], edge_index=[2, 80], y=[1], edge_mask=[80], num_classes=2, num_nodes=36),\n",
       "  Data(x=[20, 14], edge_index=[2, 40], y=[1], edge_mask=[40], num_classes=2, num_nodes=20),\n",
       "  Data(x=[24, 14], edge_index=[2, 46], y=[1], edge_mask=[46], num_classes=2, num_nodes=24),\n",
       "  Data(x=[23, 14], edge_index=[2, 46], y=[1], edge_mask=[46], num_classes=2, num_nodes=23),\n",
       "  Data(x=[18, 14], edge_index=[2, 36], y=[1], edge_mask=[36], num_classes=2, num_nodes=18),\n",
       "  Data(x=[27, 14], edge_index=[2, 54], y=[1], edge_mask=[54], num_classes=2, num_nodes=27),\n",
       "  Data(x=[28, 14], edge_index=[2, 58], y=[1], edge_mask=[58], num_classes=2, num_nodes=28),\n",
       "  Data(x=[39, 14], edge_index=[2, 84], y=[1], edge_mask=[84], num_classes=2, num_nodes=39),\n",
       "  Data(x=[20, 14], edge_index=[2, 40], y=[1], edge_mask=[40], num_classes=2, num_nodes=20),\n",
       "  Data(x=[34, 14], edge_index=[2, 70], y=[1], edge_mask=[70], num_classes=2, num_nodes=34),\n",
       "  Data(x=[36, 14], edge_index=[2, 76], y=[1], edge_mask=[76], num_classes=2, num_nodes=36),\n",
       "  Data(x=[20, 14], edge_index=[2, 42], y=[1], edge_mask=[42], num_classes=2, num_nodes=20),\n",
       "  Data(x=[25, 14], edge_index=[2, 54], y=[1], edge_mask=[54], num_classes=2, num_nodes=25),\n",
       "  Data(x=[41, 14], edge_index=[2, 84], y=[1], edge_mask=[84], num_classes=2, num_nodes=41),\n",
       "  Data(x=[34, 14], edge_index=[2, 76], y=[1], edge_mask=[76], num_classes=2, num_nodes=34),\n",
       "  Data(x=[24, 14], edge_index=[2, 50], y=[1], edge_mask=[50], num_classes=2, num_nodes=24),\n",
       "  Data(x=[44, 14], edge_index=[2, 92], y=[1], edge_mask=[92], num_classes=2, num_nodes=44),\n",
       "  Data(x=[28, 14], edge_index=[2, 62], y=[1], edge_mask=[62], num_classes=2, num_nodes=28),\n",
       "  Data(x=[24, 14], edge_index=[2, 46], y=[1], edge_mask=[46], num_classes=2, num_nodes=24),\n",
       "  Data(x=[22, 14], edge_index=[2, 48], y=[1], edge_mask=[48], num_classes=2, num_nodes=22),\n",
       "  Data(x=[30, 14], edge_index=[2, 62], y=[1], edge_mask=[62], num_classes=2, num_nodes=30),\n",
       "  Data(x=[21, 14], edge_index=[2, 42], y=[1], edge_mask=[42], num_classes=2, num_nodes=21),\n",
       "  Data(x=[30, 14], edge_index=[2, 66], y=[1], edge_mask=[66], num_classes=2, num_nodes=30),\n",
       "  Data(x=[40, 14], edge_index=[2, 82], y=[1], edge_mask=[82], num_classes=2, num_nodes=40),\n",
       "  Data(x=[20, 14], edge_index=[2, 40], y=[1], edge_mask=[40], num_classes=2, num_nodes=20),\n",
       "  Data(x=[33, 14], edge_index=[2, 66], y=[1], edge_mask=[66], num_classes=2, num_nodes=33),\n",
       "  Data(x=[30, 14], edge_index=[2, 64], y=[1], edge_mask=[64], num_classes=2, num_nodes=30),\n",
       "  Data(x=[28, 14], edge_index=[2, 58], y=[1], edge_mask=[58], num_classes=2, num_nodes=28),\n",
       "  Data(x=[30, 14], edge_index=[2, 64], y=[1], edge_mask=[64], num_classes=2, num_nodes=30),\n",
       "  Data(x=[30, 14], edge_index=[2, 62], y=[1], edge_mask=[62], num_classes=2, num_nodes=30),\n",
       "  Data(x=[25, 14], edge_index=[2, 50], y=[1], edge_mask=[50], num_classes=2, num_nodes=25),\n",
       "  Data(x=[25, 14], edge_index=[2, 52], y=[1], edge_mask=[52], num_classes=2, num_nodes=25),\n",
       "  Data(x=[34, 14], edge_index=[2, 70], y=[1], edge_mask=[70], num_classes=2, num_nodes=34),\n",
       "  Data(x=[35, 14], edge_index=[2, 80], y=[1], edge_mask=[80], num_classes=2, num_nodes=35),\n",
       "  Data(x=[29, 14], edge_index=[2, 62], y=[1], edge_mask=[62], num_classes=2, num_nodes=29),\n",
       "  Data(x=[16, 14], edge_index=[2, 32], y=[1], edge_mask=[32], num_classes=2, num_nodes=16),\n",
       "  Data(x=[31, 14], edge_index=[2, 64], y=[1], edge_mask=[64], num_classes=2, num_nodes=31),\n",
       "  Data(x=[18, 14], edge_index=[2, 34], y=[1], edge_mask=[34], num_classes=2, num_nodes=18),\n",
       "  Data(x=[35, 14], edge_index=[2, 76], y=[1], edge_mask=[76], num_classes=2, num_nodes=35),\n",
       "  Data(x=[45, 14], edge_index=[2, 88], y=[1], edge_mask=[88], num_classes=2, num_nodes=45),\n",
       "  Data(x=[10, 14], edge_index=[2, 18], y=[1], edge_mask=[18], num_classes=2, num_nodes=10),\n",
       "  Data(x=[16, 14], edge_index=[2, 32], y=[1], edge_mask=[32], num_classes=2, num_nodes=16),\n",
       "  Data(x=[27, 14], edge_index=[2, 56], y=[1], edge_mask=[56], num_classes=2, num_nodes=27),\n",
       "  Data(x=[21, 14], edge_index=[2, 42], y=[1], edge_mask=[42], num_classes=2, num_nodes=21),\n",
       "  Data(x=[28, 14], edge_index=[2, 62], y=[1], edge_mask=[62], num_classes=2, num_nodes=28),\n",
       "  Data(x=[31, 14], edge_index=[2, 64], y=[1], edge_mask=[64], num_classes=2, num_nodes=31),\n",
       "  Data(x=[30, 14], edge_index=[2, 62], y=[1], edge_mask=[62], num_classes=2, num_nodes=30),\n",
       "  Data(x=[31, 14], edge_index=[2, 62], y=[1], edge_mask=[62], num_classes=2, num_nodes=31),\n",
       "  Data(x=[28, 14], edge_index=[2, 58], y=[1], edge_mask=[58], num_classes=2, num_nodes=28),\n",
       "  Data(x=[25, 14], edge_index=[2, 54], y=[1], edge_mask=[54], num_classes=2, num_nodes=25),\n",
       "  Data(x=[18, 14], edge_index=[2, 36], y=[1], edge_mask=[36], num_classes=2, num_nodes=18),\n",
       "  Data(x=[18, 14], edge_index=[2, 36], y=[1], edge_mask=[36], num_classes=2, num_nodes=18),\n",
       "  Data(x=[28, 14], edge_index=[2, 62], y=[1], edge_mask=[62], num_classes=2, num_nodes=28),\n",
       "  Data(x=[21, 14], edge_index=[2, 44], y=[1], edge_mask=[44], num_classes=2, num_nodes=21),\n",
       "  Data(x=[19, 14], edge_index=[2, 38], y=[1], edge_mask=[38], num_classes=2, num_nodes=19),\n",
       "  Data(x=[15, 14], edge_index=[2, 28], y=[1], edge_mask=[28], num_classes=2, num_nodes=15),\n",
       "  Data(x=[28, 14], edge_index=[2, 60], y=[1], edge_mask=[60], num_classes=2, num_nodes=28),\n",
       "  Data(x=[19, 14], edge_index=[2, 40], y=[1], edge_mask=[40], num_classes=2, num_nodes=19),\n",
       "  Data(x=[27, 14], edge_index=[2, 56], y=[1], edge_mask=[56], num_classes=2, num_nodes=27),\n",
       "  Data(x=[47, 14], edge_index=[2, 92], y=[1], edge_mask=[92], num_classes=2, num_nodes=47),\n",
       "  Data(x=[27, 14], edge_index=[2, 58], y=[1], edge_mask=[58], num_classes=2, num_nodes=27),\n",
       "  Data(x=[14, 14], edge_index=[2, 28], y=[1], edge_mask=[28], num_classes=2, num_nodes=14),\n",
       "  Data(x=[15, 14], edge_index=[2, 30], y=[1], edge_mask=[30], num_classes=2, num_nodes=15),\n",
       "  Data(x=[34, 14], edge_index=[2, 70], y=[1], edge_mask=[70], num_classes=2, num_nodes=34),\n",
       "  Data(x=[16, 14], edge_index=[2, 34], y=[1], edge_mask=[34], num_classes=2, num_nodes=16),\n",
       "  Data(x=[21, 14], edge_index=[2, 42], y=[1], edge_mask=[42], num_classes=2, num_nodes=21),\n",
       "  Data(x=[30, 14], edge_index=[2, 64], y=[1], edge_mask=[64], num_classes=2, num_nodes=30),\n",
       "  Data(x=[31, 14], edge_index=[2, 66], y=[1], edge_mask=[66], num_classes=2, num_nodes=31),\n",
       "  Data(x=[38, 14], edge_index=[2, 84], y=[1], edge_mask=[84], num_classes=2, num_nodes=38),\n",
       "  Data(x=[17, 14], edge_index=[2, 34], y=[1], edge_mask=[34], num_classes=2, num_nodes=17),\n",
       "  Data(x=[27, 14], edge_index=[2, 58], y=[1], edge_mask=[58], num_classes=2, num_nodes=27),\n",
       "  Data(x=[30, 14], edge_index=[2, 66], y=[1], edge_mask=[66], num_classes=2, num_nodes=30),\n",
       "  Data(x=[24, 14], edge_index=[2, 46], y=[1], edge_mask=[46], num_classes=2, num_nodes=24),\n",
       "  Data(x=[34, 14], edge_index=[2, 76], y=[1], edge_mask=[76], num_classes=2, num_nodes=34),\n",
       "  Data(x=[16, 14], edge_index=[2, 32], y=[1], edge_mask=[32], num_classes=2, num_nodes=16),\n",
       "  Data(x=[36, 14], edge_index=[2, 80], y=[1], edge_mask=[80], num_classes=2, num_nodes=36),\n",
       "  Data(x=[25, 14], edge_index=[2, 52], y=[1], edge_mask=[52], num_classes=2, num_nodes=25),\n",
       "  Data(x=[24, 14], edge_index=[2, 48], y=[1], edge_mask=[48], num_classes=2, num_nodes=24),\n",
       "  Data(x=[20, 14], edge_index=[2, 42], y=[1], edge_mask=[42], num_classes=2, num_nodes=20),\n",
       "  Data(x=[38, 14], edge_index=[2, 82], y=[1], edge_mask=[82], num_classes=2, num_nodes=38),\n",
       "  Data(x=[17, 14], edge_index=[2, 34], y=[1], edge_mask=[34], num_classes=2, num_nodes=17),\n",
       "  Data(x=[30, 14], edge_index=[2, 60], y=[1], edge_mask=[60], num_classes=2, num_nodes=30),\n",
       "  Data(x=[19, 14], edge_index=[2, 38], y=[1], edge_mask=[38], num_classes=2, num_nodes=19),\n",
       "  Data(x=[26, 14], edge_index=[2, 56], y=[1], edge_mask=[56], num_classes=2, num_nodes=26),\n",
       "  Data(x=[13, 14], edge_index=[2, 24], y=[1], edge_mask=[24], num_classes=2, num_nodes=13),\n",
       "  Data(x=[24, 14], edge_index=[2, 50], y=[1], edge_mask=[50], num_classes=2, num_nodes=24),\n",
       "  Data(x=[19, 14], edge_index=[2, 36], y=[1], edge_mask=[36], num_classes=2, num_nodes=19),\n",
       "  Data(x=[27, 14], edge_index=[2, 52], y=[1], edge_mask=[52], num_classes=2, num_nodes=27),\n",
       "  Data(x=[24, 14], edge_index=[2, 48], y=[1], edge_mask=[48], num_classes=2, num_nodes=24),\n",
       "  Data(x=[7, 14], edge_index=[2, 12], y=[1], edge_mask=[12], num_classes=2, num_nodes=7),\n",
       "  Data(x=[20, 14], edge_index=[2, 42], y=[1], edge_mask=[42], num_classes=2, num_nodes=20),\n",
       "  Data(x=[32, 14], edge_index=[2, 64], y=[1], edge_mask=[64], num_classes=2, num_nodes=32),\n",
       "  Data(x=[60, 14], edge_index=[2, 124], y=[1], edge_mask=[124], num_classes=2, num_nodes=60),\n",
       "  Data(x=[32, 14], edge_index=[2, 66], y=[1], edge_mask=[66], num_classes=2, num_nodes=32),\n",
       "  Data(x=[67, 14], edge_index=[2, 142], y=[1], edge_mask=[142], num_classes=2, num_nodes=67),\n",
       "  Data(x=[15, 14], edge_index=[2, 30], y=[1], edge_mask=[30], num_classes=2, num_nodes=15),\n",
       "  Data(x=[33, 14], edge_index=[2, 70], y=[1], edge_mask=[70], num_classes=2, num_nodes=33),\n",
       "  Data(x=[20, 14], edge_index=[2, 42], y=[1], edge_mask=[42], num_classes=2, num_nodes=20),\n",
       "  Data(x=[30, 14], edge_index=[2, 58], y=[1], edge_mask=[58], num_classes=2, num_nodes=30),\n",
       "  Data(x=[30, 14], edge_index=[2, 60], y=[1], edge_mask=[60], num_classes=2, num_nodes=30),\n",
       "  Data(x=[26, 14], edge_index=[2, 54], y=[1], edge_mask=[54], num_classes=2, num_nodes=26),\n",
       "  Data(x=[32, 14], edge_index=[2, 70], y=[1], edge_mask=[70], num_classes=2, num_nodes=32),\n",
       "  Data(x=[25, 14], edge_index=[2, 48], y=[1], edge_mask=[48], num_classes=2, num_nodes=25),\n",
       "  Data(x=[32, 14], edge_index=[2, 66], y=[1], edge_mask=[66], num_classes=2, num_nodes=32),\n",
       "  Data(x=[28, 14], edge_index=[2, 62], y=[1], edge_mask=[62], num_classes=2, num_nodes=28),\n",
       "  Data(x=[28, 14], edge_index=[2, 60], y=[1], edge_mask=[60], num_classes=2, num_nodes=28),\n",
       "  Data(x=[16, 14], edge_index=[2, 32], y=[1], edge_mask=[32], num_classes=2, num_nodes=16),\n",
       "  Data(x=[27, 14], edge_index=[2, 58], y=[1], edge_mask=[58], num_classes=2, num_nodes=27),\n",
       "  Data(x=[28, 14], edge_index=[2, 62], y=[1], edge_mask=[62], num_classes=2, num_nodes=28),\n",
       "  Data(x=[28, 14], edge_index=[2, 58], y=[1], edge_mask=[58], num_classes=2, num_nodes=28),\n",
       "  Data(x=[18, 14], edge_index=[2, 38], y=[1], edge_mask=[38], num_classes=2, num_nodes=18),\n",
       "  Data(x=[24, 14], edge_index=[2, 52], y=[1], edge_mask=[52], num_classes=2, num_nodes=24),\n",
       "  Data(x=[17, 14], edge_index=[2, 36], y=[1], edge_mask=[36], num_classes=2, num_nodes=17),\n",
       "  Data(x=[18, 14], edge_index=[2, 36], y=[1], edge_mask=[36], num_classes=2, num_nodes=18),\n",
       "  Data(x=[20, 14], edge_index=[2, 42], y=[1], edge_mask=[42], num_classes=2, num_nodes=20),\n",
       "  Data(x=[21, 14], edge_index=[2, 44], y=[1], edge_mask=[44], num_classes=2, num_nodes=21),\n",
       "  Data(x=[29, 14], edge_index=[2, 64], y=[1], edge_mask=[64], num_classes=2, num_nodes=29),\n",
       "  Data(x=[24, 14], edge_index=[2, 46], y=[1], edge_mask=[46], num_classes=2, num_nodes=24),\n",
       "  Data(x=[12, 14], edge_index=[2, 22], y=[1], edge_mask=[22], num_classes=2, num_nodes=12),\n",
       "  Data(x=[20, 14], edge_index=[2, 42], y=[1], edge_mask=[42], num_classes=2, num_nodes=20),\n",
       "  Data(x=[30, 14], edge_index=[2, 58], y=[1], edge_mask=[58], num_classes=2, num_nodes=30),\n",
       "  Data(x=[20, 14], edge_index=[2, 40], y=[1], edge_mask=[40], num_classes=2, num_nodes=20),\n",
       "  Data(x=[30, 14], edge_index=[2, 62], y=[1], edge_mask=[62], num_classes=2, num_nodes=30),\n",
       "  Data(x=[50, 14], edge_index=[2, 104], y=[1], edge_mask=[104], num_classes=2, num_nodes=50),\n",
       "  Data(x=[16, 14], edge_index=[2, 32], y=[1], edge_mask=[32], num_classes=2, num_nodes=16),\n",
       "  Data(x=[27, 14], edge_index=[2, 56], y=[1], edge_mask=[56], num_classes=2, num_nodes=27),\n",
       "  Data(x=[16, 14], edge_index=[2, 32], y=[1], edge_mask=[32], num_classes=2, num_nodes=16),\n",
       "  Data(x=[22, 14], edge_index=[2, 48], y=[1], edge_mask=[48], num_classes=2, num_nodes=22),\n",
       "  Data(x=[28, 14], edge_index=[2, 62], y=[1], edge_mask=[62], num_classes=2, num_nodes=28),\n",
       "  Data(x=[88, 14], edge_index=[2, 186], y=[1], edge_mask=[186], num_classes=2, num_nodes=88),\n",
       "  Data(x=[34, 14], edge_index=[2, 70], y=[1], edge_mask=[70], num_classes=2, num_nodes=34),\n",
       "  Data(x=[69, 14], edge_index=[2, 140], y=[1], edge_mask=[140], num_classes=2, num_nodes=69),\n",
       "  Data(x=[30, 14], edge_index=[2, 62], y=[1], edge_mask=[62], num_classes=2, num_nodes=30),\n",
       "  Data(x=[44, 14], edge_index=[2, 92], y=[1], edge_mask=[92], num_classes=2, num_nodes=44),\n",
       "  Data(x=[27, 14], edge_index=[2, 56], y=[1], edge_mask=[56], num_classes=2, num_nodes=27),\n",
       "  Data(x=[28, 14], edge_index=[2, 56], y=[1], edge_mask=[56], num_classes=2, num_nodes=28),\n",
       "  Data(x=[24, 14], edge_index=[2, 48], y=[1], edge_mask=[48], num_classes=2, num_nodes=24),\n",
       "  Data(x=[30, 14], edge_index=[2, 60], y=[1], edge_mask=[60], num_classes=2, num_nodes=30),\n",
       "  Data(x=[31, 14], edge_index=[2, 66], y=[1], edge_mask=[66], num_classes=2, num_nodes=31),\n",
       "  Data(x=[25, 14], edge_index=[2, 52], y=[1], edge_mask=[52], num_classes=2, num_nodes=25),\n",
       "  Data(x=[19, 14], edge_index=[2, 36], y=[1], edge_mask=[36], num_classes=2, num_nodes=19),\n",
       "  Data(x=[29, 14], edge_index=[2, 60], y=[1], edge_mask=[60], num_classes=2, num_nodes=29),\n",
       "  Data(x=[20, 14], edge_index=[2, 40], y=[1], edge_mask=[40], num_classes=2, num_nodes=20),\n",
       "  Data(x=[21, 14], edge_index=[2, 44], y=[1], edge_mask=[44], num_classes=2, num_nodes=21),\n",
       "  Data(x=[12, 14], edge_index=[2, 22], y=[1], edge_mask=[22], num_classes=2, num_nodes=12),\n",
       "  Data(x=[18, 14], edge_index=[2, 36], y=[1], edge_mask=[36], num_classes=2, num_nodes=18),\n",
       "  Data(x=[25, 14], edge_index=[2, 54], y=[1], edge_mask=[54], num_classes=2, num_nodes=25),\n",
       "  Data(x=[28, 14], edge_index=[2, 56], y=[1], edge_mask=[56], num_classes=2, num_nodes=28),\n",
       "  Data(x=[34, 14], edge_index=[2, 76], y=[1], edge_mask=[76], num_classes=2, num_nodes=34),\n",
       "  Data(x=[24, 14], edge_index=[2, 50], y=[1], edge_mask=[50], num_classes=2, num_nodes=24),\n",
       "  Data(x=[31, 14], edge_index=[2, 60], y=[1], edge_mask=[60], num_classes=2, num_nodes=31),\n",
       "  Data(x=[26, 14], edge_index=[2, 56], y=[1], edge_mask=[56], num_classes=2, num_nodes=26),\n",
       "  Data(x=[17, 14], edge_index=[2, 34], y=[1], edge_mask=[34], num_classes=2, num_nodes=17),\n",
       "  Data(x=[20, 14], edge_index=[2, 40], y=[1], edge_mask=[40], num_classes=2, num_nodes=20),\n",
       "  Data(x=[38, 14], edge_index=[2, 84], y=[1], edge_mask=[84], num_classes=2, num_nodes=38),\n",
       "  Data(x=[24, 14], edge_index=[2, 52], y=[1], edge_mask=[52], num_classes=2, num_nodes=24),\n",
       "  Data(x=[30, 14], edge_index=[2, 64], y=[1], edge_mask=[64], num_classes=2, num_nodes=30),\n",
       "  Data(x=[24, 14], edge_index=[2, 52], y=[1], edge_mask=[52], num_classes=2, num_nodes=24),\n",
       "  Data(x=[79, 14], edge_index=[2, 168], y=[1], edge_mask=[168], num_classes=2, num_nodes=79),\n",
       "  Data(x=[26, 14], edge_index=[2, 56], y=[1], edge_mask=[56], num_classes=2, num_nodes=26),\n",
       "  Data(x=[18, 14], edge_index=[2, 36], y=[1], edge_mask=[36], num_classes=2, num_nodes=18),\n",
       "  Data(x=[18, 14], edge_index=[2, 36], y=[1], edge_mask=[36], num_classes=2, num_nodes=18),\n",
       "  Data(x=[13, 14], edge_index=[2, 24], y=[1], edge_mask=[24], num_classes=2, num_nodes=13),\n",
       "  Data(x=[20, 14], edge_index=[2, 42], y=[1], edge_mask=[42], num_classes=2, num_nodes=20),\n",
       "  Data(x=[26, 14], edge_index=[2, 56], y=[1], edge_mask=[56], num_classes=2, num_nodes=26),\n",
       "  Data(x=[30, 14], edge_index=[2, 62], y=[1], edge_mask=[62], num_classes=2, num_nodes=30),\n",
       "  Data(x=[18, 14], edge_index=[2, 36], y=[1], edge_mask=[36], num_classes=2, num_nodes=18),\n",
       "  Data(x=[25, 14], edge_index=[2, 54], y=[1], edge_mask=[54], num_classes=2, num_nodes=25),\n",
       "  Data(x=[23, 14], edge_index=[2, 46], y=[1], edge_mask=[46], num_classes=2, num_nodes=23),\n",
       "  Data(x=[18, 14], edge_index=[2, 36], y=[1], edge_mask=[36], num_classes=2, num_nodes=18),\n",
       "  Data(x=[25, 14], edge_index=[2, 54], y=[1], edge_mask=[54], num_classes=2, num_nodes=25),\n",
       "  Data(x=[48, 14], edge_index=[2, 100], y=[1], edge_mask=[100], num_classes=2, num_nodes=48),\n",
       "  Data(x=[30, 14], edge_index=[2, 64], y=[1], edge_mask=[64], num_classes=2, num_nodes=30),\n",
       "  Data(x=[29, 14], edge_index=[2, 64], y=[1], edge_mask=[64], num_classes=2, num_nodes=29),\n",
       "  Data(x=[26, 14], edge_index=[2, 52], y=[1], edge_mask=[52], num_classes=2, num_nodes=26),\n",
       "  Data(x=[34, 14], edge_index=[2, 76], y=[1], edge_mask=[76], num_classes=2, num_nodes=34),\n",
       "  Data(x=[21, 14], edge_index=[2, 40], y=[1], edge_mask=[40], num_classes=2, num_nodes=21),\n",
       "  Data(x=[10, 14], edge_index=[2, 20], y=[1], edge_mask=[20], num_classes=2, num_nodes=10),\n",
       "  Data(x=[28, 14], edge_index=[2, 60], y=[1], edge_mask=[60], num_classes=2, num_nodes=28),\n",
       "  Data(x=[29, 14], edge_index=[2, 60], y=[1], edge_mask=[60], num_classes=2, num_nodes=29),\n",
       "  Data(x=[21, 14], edge_index=[2, 40], y=[1], edge_mask=[40], num_classes=2, num_nodes=21),\n",
       "  Data(x=[23, 14], edge_index=[2, 50], y=[1], edge_mask=[50], num_classes=2, num_nodes=23),\n",
       "  Data(x=[22, 14], edge_index=[2, 42], y=[1], edge_mask=[42], num_classes=2, num_nodes=22),\n",
       "  Data(x=[25, 14], edge_index=[2, 52], y=[1], edge_mask=[52], num_classes=2, num_nodes=25),\n",
       "  Data(x=[25, 14], edge_index=[2, 54], y=[1], edge_mask=[54], num_classes=2, num_nodes=25),\n",
       "  Data(x=[48, 14], edge_index=[2, 96], y=[1], edge_mask=[96], num_classes=2, num_nodes=48),\n",
       "  Data(x=[19, 14], edge_index=[2, 40], y=[1], edge_mask=[40], num_classes=2, num_nodes=19),\n",
       "  Data(x=[26, 14], edge_index=[2, 54], y=[1], edge_mask=[54], num_classes=2, num_nodes=26),\n",
       "  Data(x=[34, 14], edge_index=[2, 70], y=[1], edge_mask=[70], num_classes=2, num_nodes=34),\n",
       "  Data(x=[29, 14], edge_index=[2, 60], y=[1], edge_mask=[60], num_classes=2, num_nodes=29),\n",
       "  Data(x=[17, 14], edge_index=[2, 34], y=[1], edge_mask=[34], num_classes=2, num_nodes=17),\n",
       "  Data(x=[28, 14], edge_index=[2, 58], y=[1], edge_mask=[58], num_classes=2, num_nodes=28),\n",
       "  Data(x=[33, 14], edge_index=[2, 66], y=[1], edge_mask=[66], num_classes=2, num_nodes=33),\n",
       "  Data(x=[15, 14], edge_index=[2, 32], y=[1], edge_mask=[32], num_classes=2, num_nodes=15),\n",
       "  Data(x=[28, 14], edge_index=[2, 58], y=[1], edge_mask=[58], num_classes=2, num_nodes=28),\n",
       "  Data(x=[27, 14], edge_index=[2, 56], y=[1], edge_mask=[56], num_classes=2, num_nodes=27),\n",
       "  Data(x=[23, 14], edge_index=[2, 42], y=[1], edge_mask=[42], num_classes=2, num_nodes=23),\n",
       "  Data(x=[36, 14], edge_index=[2, 70], y=[1], edge_mask=[70], num_classes=2, num_nodes=36),\n",
       "  Data(x=[25, 14], edge_index=[2, 52], y=[1], edge_mask=[52], num_classes=2, num_nodes=25),\n",
       "  Data(x=[19, 14], edge_index=[2, 40], y=[1], edge_mask=[40], num_classes=2, num_nodes=19),\n",
       "  Data(x=[25, 14], edge_index=[2, 54], y=[1], edge_mask=[54], num_classes=2, num_nodes=25),\n",
       "  Data(x=[14, 14], edge_index=[2, 28], y=[1], edge_mask=[28], num_classes=2, num_nodes=14),\n",
       "  Data(x=[23, 14], edge_index=[2, 50], y=[1], edge_mask=[50], num_classes=2, num_nodes=23),\n",
       "  Data(x=[26, 14], edge_index=[2, 54], y=[1], edge_mask=[54], num_classes=2, num_nodes=26),\n",
       "  Data(x=[18, 14], edge_index=[2, 36], y=[1], edge_mask=[36], num_classes=2, num_nodes=18),\n",
       "  Data(x=[27, 14], edge_index=[2, 60], y=[1], edge_mask=[60], num_classes=2, num_nodes=27),\n",
       "  Data(x=[20, 14], edge_index=[2, 40], y=[1], edge_mask=[40], num_classes=2, num_nodes=20),\n",
       "  Data(x=[18, 14], edge_index=[2, 36], y=[1], edge_mask=[36], num_classes=2, num_nodes=18),\n",
       "  Data(x=[32, 14], edge_index=[2, 66], y=[1], edge_mask=[66], num_classes=2, num_nodes=32),\n",
       "  Data(x=[16, 14], edge_index=[2, 32], y=[1], edge_mask=[32], num_classes=2, num_nodes=16),\n",
       "  Data(x=[20, 14], edge_index=[2, 42], y=[1], edge_mask=[42], num_classes=2, num_nodes=20),\n",
       "  Data(x=[30, 14], edge_index=[2, 64], y=[1], edge_mask=[64], num_classes=2, num_nodes=30),\n",
       "  Data(x=[22, 14], edge_index=[2, 42], y=[1], edge_mask=[42], num_classes=2, num_nodes=22),\n",
       "  Data(x=[19, 14], edge_index=[2, 40], y=[1], edge_mask=[40], num_classes=2, num_nodes=19),\n",
       "  Data(x=[22, 14], edge_index=[2, 46], y=[1], edge_mask=[46], num_classes=2, num_nodes=22),\n",
       "  Data(x=[18, 14], edge_index=[2, 34], y=[1], edge_mask=[34], num_classes=2, num_nodes=18),\n",
       "  Data(x=[23, 14], edge_index=[2, 46], y=[1], edge_mask=[46], num_classes=2, num_nodes=23),\n",
       "  Data(x=[30, 14], edge_index=[2, 64], y=[1], edge_mask=[64], num_classes=2, num_nodes=30),\n",
       "  Data(x=[12, 14], edge_index=[2, 22], y=[1], edge_mask=[22], num_classes=2, num_nodes=12),\n",
       "  Data(x=[28, 14], edge_index=[2, 58], y=[1], edge_mask=[58], num_classes=2, num_nodes=28),\n",
       "  Data(x=[28, 14], edge_index=[2, 62], y=[1], edge_mask=[62], num_classes=2, num_nodes=28),\n",
       "  Data(x=[15, 14], edge_index=[2, 30], y=[1], edge_mask=[30], num_classes=2, num_nodes=15),\n",
       "  Data(x=[19, 14], edge_index=[2, 38], y=[1], edge_mask=[38], num_classes=2, num_nodes=19),\n",
       "  Data(x=[14, 14], edge_index=[2, 28], y=[1], edge_mask=[28], num_classes=2, num_nodes=14),\n",
       "  Data(x=[33, 14], edge_index=[2, 70], y=[1], edge_mask=[70], num_classes=2, num_nodes=33),\n",
       "  Data(x=[26, 14], edge_index=[2, 56], y=[1], edge_mask=[56], num_classes=2, num_nodes=26),\n",
       "  Data(x=[29, 14], edge_index=[2, 64], y=[1], edge_mask=[64], num_classes=2, num_nodes=29),\n",
       "  Data(x=[36, 14], edge_index=[2, 80], y=[1], edge_mask=[80], num_classes=2, num_nodes=36),\n",
       "  Data(x=[21, 14], edge_index=[2, 42], y=[1], edge_mask=[42], num_classes=2, num_nodes=21),\n",
       "  Data(x=[25, 14], edge_index=[2, 54], y=[1], edge_mask=[54], num_classes=2, num_nodes=25),\n",
       "  Data(x=[19, 14], edge_index=[2, 38], y=[1], edge_mask=[38], num_classes=2, num_nodes=19),\n",
       "  Data(x=[17, 14], edge_index=[2, 34], y=[1], edge_mask=[34], num_classes=2, num_nodes=17),\n",
       "  Data(x=[30, 14], edge_index=[2, 64], y=[1], edge_mask=[64], num_classes=2, num_nodes=30),\n",
       "  Data(x=[20, 14], edge_index=[2, 42], y=[1], edge_mask=[42], num_classes=2, num_nodes=20),\n",
       "  Data(x=[30, 14], edge_index=[2, 64], y=[1], edge_mask=[64], num_classes=2, num_nodes=30),\n",
       "  Data(x=[21, 14], edge_index=[2, 42], y=[1], edge_mask=[42], num_classes=2, num_nodes=21),\n",
       "  Data(x=[36, 14], edge_index=[2, 80], y=[1], edge_mask=[80], num_classes=2, num_nodes=36),\n",
       "  Data(x=[20, 14], edge_index=[2, 40], y=[1], edge_mask=[40], num_classes=2, num_nodes=20),\n",
       "  Data(x=[25, 14], edge_index=[2, 52], y=[1], edge_mask=[52], num_classes=2, num_nodes=25),\n",
       "  Data(x=[17, 14], edge_index=[2, 36], y=[1], edge_mask=[36], num_classes=2, num_nodes=17),\n",
       "  Data(x=[29, 14], edge_index=[2, 60], y=[1], edge_mask=[60], num_classes=2, num_nodes=29),\n",
       "  Data(x=[29, 14], edge_index=[2, 58], y=[1], edge_mask=[58], num_classes=2, num_nodes=29),\n",
       "  Data(x=[24, 14], edge_index=[2, 48], y=[1], edge_mask=[48], num_classes=2, num_nodes=24),\n",
       "  Data(x=[28, 14], edge_index=[2, 56], y=[1], edge_mask=[56], num_classes=2, num_nodes=28),\n",
       "  Data(x=[28, 14], edge_index=[2, 60], y=[1], edge_mask=[60], num_classes=2, num_nodes=28),\n",
       "  Data(x=[28, 14], edge_index=[2, 60], y=[1], edge_mask=[60], num_classes=2, num_nodes=28),\n",
       "  Data(x=[27, 14], edge_index=[2, 58], y=[1], edge_mask=[58], num_classes=2, num_nodes=27),\n",
       "  Data(x=[20, 14], edge_index=[2, 42], y=[1], edge_mask=[42], num_classes=2, num_nodes=20),\n",
       "  Data(x=[25, 14], edge_index=[2, 52], y=[1], edge_mask=[52], num_classes=2, num_nodes=25),\n",
       "  Data(x=[32, 14], edge_index=[2, 66], y=[1], edge_mask=[66], num_classes=2, num_nodes=32),\n",
       "  Data(x=[45, 14], edge_index=[2, 92], y=[1], edge_mask=[92], num_classes=2, num_nodes=45),\n",
       "  Data(x=[15, 14], edge_index=[2, 28], y=[1], edge_mask=[28], num_classes=2, num_nodes=15),\n",
       "  Data(x=[28, 14], edge_index=[2, 60], y=[1], edge_mask=[60], num_classes=2, num_nodes=28),\n",
       "  Data(x=[20, 14], edge_index=[2, 42], y=[1], edge_mask=[42], num_classes=2, num_nodes=20),\n",
       "  Data(x=[42, 14], edge_index=[2, 88], y=[1], edge_mask=[88], num_classes=2, num_nodes=42),\n",
       "  Data(x=[27, 14], edge_index=[2, 58], y=[1], edge_mask=[58], num_classes=2, num_nodes=27),\n",
       "  Data(x=[26, 14], edge_index=[2, 54], y=[1], edge_mask=[54], num_classes=2, num_nodes=26),\n",
       "  Data(x=[26, 14], edge_index=[2, 54], y=[1], edge_mask=[54], num_classes=2, num_nodes=26),\n",
       "  Data(x=[23, 14], edge_index=[2, 50], y=[1], edge_mask=[50], num_classes=2, num_nodes=23),\n",
       "  Data(x=[24, 14], edge_index=[2, 52], y=[1], edge_mask=[52], num_classes=2, num_nodes=24),\n",
       "  Data(x=[44, 14], edge_index=[2, 94], y=[1], edge_mask=[94], num_classes=2, num_nodes=44),\n",
       "  Data(x=[29, 14], edge_index=[2, 60], y=[1], edge_mask=[60], num_classes=2, num_nodes=29),\n",
       "  Data(x=[17, 14], edge_index=[2, 34], y=[1], edge_mask=[34], num_classes=2, num_nodes=17),\n",
       "  Data(x=[56, 14], edge_index=[2, 110], y=[1], edge_mask=[110], num_classes=2, num_nodes=56),\n",
       "  Data(x=[35, 14], edge_index=[2, 72], y=[1], edge_mask=[72], num_classes=2, num_nodes=35),\n",
       "  Data(x=[49, 14], edge_index=[2, 98], y=[1], edge_mask=[98], num_classes=2, num_nodes=49),\n",
       "  Data(x=[31, 14], edge_index=[2, 64], y=[1], edge_mask=[64], num_classes=2, num_nodes=31),\n",
       "  Data(x=[27, 14], edge_index=[2, 58], y=[1], edge_mask=[58], num_classes=2, num_nodes=27),\n",
       "  Data(x=[28, 14], edge_index=[2, 56], y=[1], edge_mask=[56], num_classes=2, num_nodes=28),\n",
       "  Data(x=[26, 14], edge_index=[2, 56], y=[1], edge_mask=[56], num_classes=2, num_nodes=26),\n",
       "  Data(x=[18, 14], edge_index=[2, 38], y=[1], edge_mask=[38], num_classes=2, num_nodes=18),\n",
       "  Data(x=[28, 14], edge_index=[2, 60], y=[1], edge_mask=[60], num_classes=2, num_nodes=28),\n",
       "  Data(x=[27, 14], edge_index=[2, 56], y=[1], edge_mask=[56], num_classes=2, num_nodes=27),\n",
       "  Data(x=[19, 14], edge_index=[2, 40], y=[1], edge_mask=[40], num_classes=2, num_nodes=19),\n",
       "  Data(x=[30, 14], edge_index=[2, 60], y=[1], edge_mask=[60], num_classes=2, num_nodes=30),\n",
       "  Data(x=[21, 14], edge_index=[2, 40], y=[1], edge_mask=[40], num_classes=2, num_nodes=21),\n",
       "  Data(x=[30, 14], edge_index=[2, 62], y=[1], edge_mask=[62], num_classes=2, num_nodes=30),\n",
       "  Data(x=[29, 14], edge_index=[2, 60], y=[1], edge_mask=[60], num_classes=2, num_nodes=29),\n",
       "  Data(x=[26, 14], edge_index=[2, 54], y=[1], edge_mask=[54], num_classes=2, num_nodes=26),\n",
       "  Data(x=[68, 14], edge_index=[2, 144], y=[1], edge_mask=[144], num_classes=2, num_nodes=68),\n",
       "  Data(x=[21, 14], edge_index=[2, 42], y=[1], edge_mask=[42], num_classes=2, num_nodes=21),\n",
       "  Data(x=[38, 14], edge_index=[2, 80], y=[1], edge_mask=[80], num_classes=2, num_nodes=38),\n",
       "  Data(x=[24, 14], edge_index=[2, 48], y=[1], edge_mask=[48], num_classes=2, num_nodes=24),\n",
       "  Data(x=[46, 14], edge_index=[2, 100], y=[1], edge_mask=[100], num_classes=2, num_nodes=46),\n",
       "  Data(x=[25, 14], edge_index=[2, 52], y=[1], edge_mask=[52], num_classes=2, num_nodes=25),\n",
       "  Data(x=[41, 14], edge_index=[2, 86], y=[1], edge_mask=[86], num_classes=2, num_nodes=41),\n",
       "  Data(x=[20, 14], edge_index=[2, 40], y=[1], edge_mask=[40], num_classes=2, num_nodes=20),\n",
       "  Data(x=[25, 14], edge_index=[2, 54], y=[1], edge_mask=[54], num_classes=2, num_nodes=25),\n",
       "  Data(x=[23, 14], edge_index=[2, 46], y=[1], edge_mask=[46], num_classes=2, num_nodes=23),\n",
       "  Data(x=[17, 14], edge_index=[2, 34], y=[1], edge_mask=[34], num_classes=2, num_nodes=17),\n",
       "  Data(x=[26, 14], edge_index=[2, 52], y=[1], edge_mask=[52], num_classes=2, num_nodes=26),\n",
       "  Data(x=[18, 14], edge_index=[2, 36], y=[1], edge_mask=[36], num_classes=2, num_nodes=18),\n",
       "  Data(x=[43, 14], edge_index=[2, 92], y=[1], edge_mask=[92], num_classes=2, num_nodes=43),\n",
       "  Data(x=[32, 14], edge_index=[2, 70], y=[1], edge_mask=[70], num_classes=2, num_nodes=32),\n",
       "  Data(x=[29, 14], edge_index=[2, 60], y=[1], edge_mask=[60], num_classes=2, num_nodes=29),\n",
       "  Data(x=[21, 14], edge_index=[2, 42], y=[1], edge_mask=[42], num_classes=2, num_nodes=21),\n",
       "  Data(x=[28, 14], edge_index=[2, 58], y=[1], edge_mask=[58], num_classes=2, num_nodes=28),\n",
       "  Data(x=[26, 14], edge_index=[2, 56], y=[1], edge_mask=[56], num_classes=2, num_nodes=26),\n",
       "  Data(x=[29, 14], edge_index=[2, 58], y=[1], edge_mask=[58], num_classes=2, num_nodes=29),\n",
       "  Data(x=[21, 14], edge_index=[2, 42], y=[1], edge_mask=[42], num_classes=2, num_nodes=21),\n",
       "  Data(x=[31, 14], edge_index=[2, 64], y=[1], edge_mask=[64], num_classes=2, num_nodes=31),\n",
       "  Data(x=[34, 14], edge_index=[2, 70], y=[1], edge_mask=[70], num_classes=2, num_nodes=34),\n",
       "  Data(x=[24, 14], edge_index=[2, 52], y=[1], edge_mask=[52], num_classes=2, num_nodes=24),\n",
       "  Data(x=[25, 14], edge_index=[2, 54], y=[1], edge_mask=[54], num_classes=2, num_nodes=25),\n",
       "  Data(x=[30, 14], edge_index=[2, 58], y=[1], edge_mask=[58], num_classes=2, num_nodes=30),\n",
       "  Data(x=[26, 14], edge_index=[2, 54], y=[1], edge_mask=[54], num_classes=2, num_nodes=26),\n",
       "  Data(x=[18, 14], edge_index=[2, 36], y=[1], edge_mask=[36], num_classes=2, num_nodes=18),\n",
       "  Data(x=[38, 14], edge_index=[2, 78], y=[1], edge_mask=[78], num_classes=2, num_nodes=38),\n",
       "  Data(x=[35, 14], edge_index=[2, 68], y=[1], edge_mask=[68], num_classes=2, num_nodes=35),\n",
       "  Data(x=[25, 14], edge_index=[2, 54], y=[1], edge_mask=[54], num_classes=2, num_nodes=25),\n",
       "  Data(x=[18, 14], edge_index=[2, 36], y=[1], edge_mask=[36], num_classes=2, num_nodes=18),\n",
       "  Data(x=[19, 14], edge_index=[2, 38], y=[1], edge_mask=[38], num_classes=2, num_nodes=19),\n",
       "  Data(x=[18, 14], edge_index=[2, 36], y=[1], edge_mask=[36], num_classes=2, num_nodes=18),\n",
       "  Data(x=[29, 14], edge_index=[2, 60], y=[1], edge_mask=[60], num_classes=2, num_nodes=29),\n",
       "  Data(x=[50, 14], edge_index=[2, 104], y=[1], edge_mask=[104], num_classes=2, num_nodes=50),\n",
       "  Data(x=[18, 14], edge_index=[2, 36], y=[1], edge_mask=[36], num_classes=2, num_nodes=18),\n",
       "  Data(x=[16, 14], edge_index=[2, 34], y=[1], edge_mask=[34], num_classes=2, num_nodes=16),\n",
       "  Data(x=[14, 14], edge_index=[2, 28], y=[1], edge_mask=[28], num_classes=2, num_nodes=14),\n",
       "  Data(x=[37, 14], edge_index=[2, 80], y=[1], edge_mask=[80], num_classes=2, num_nodes=37),\n",
       "  Data(x=[28, 14], edge_index=[2, 58], y=[1], edge_mask=[58], num_classes=2, num_nodes=28),\n",
       "  Data(x=[25, 14], edge_index=[2, 50], y=[1], edge_mask=[50], num_classes=2, num_nodes=25),\n",
       "  Data(x=[34, 14], edge_index=[2, 76], y=[1], edge_mask=[76], num_classes=2, num_nodes=34),\n",
       "  Data(x=[30, 14], edge_index=[2, 62], y=[1], edge_mask=[62], num_classes=2, num_nodes=30),\n",
       "  Data(x=[26, 14], edge_index=[2, 56], y=[1], edge_mask=[56], num_classes=2, num_nodes=26),\n",
       "  Data(x=[16, 14], edge_index=[2, 32], y=[1], edge_mask=[32], num_classes=2, num_nodes=16),\n",
       "  Data(x=[38, 14], edge_index=[2, 84], y=[1], edge_mask=[84], num_classes=2, num_nodes=38),\n",
       "  Data(x=[28, 14], edge_index=[2, 60], y=[1], edge_mask=[60], num_classes=2, num_nodes=28),\n",
       "  Data(x=[28, 14], edge_index=[2, 62], y=[1], edge_mask=[62], num_classes=2, num_nodes=28),\n",
       "  Data(x=[23, 14], edge_index=[2, 46], y=[1], edge_mask=[46], num_classes=2, num_nodes=23),\n",
       "  Data(x=[20, 14], edge_index=[2, 40], y=[1], edge_mask=[40], num_classes=2, num_nodes=20),\n",
       "  Data(x=[24, 14], edge_index=[2, 52], y=[1], edge_mask=[52], num_classes=2, num_nodes=24),\n",
       "  Data(x=[19, 14], edge_index=[2, 36], y=[1], edge_mask=[36], num_classes=2, num_nodes=19),\n",
       "  Data(x=[29, 14], edge_index=[2, 60], y=[1], edge_mask=[60], num_classes=2, num_nodes=29),\n",
       "  Data(x=[38, 14], edge_index=[2, 84], y=[1], edge_mask=[84], num_classes=2, num_nodes=38),\n",
       "  Data(x=[18, 14], edge_index=[2, 34], y=[1], edge_mask=[34], num_classes=2, num_nodes=18),\n",
       "  Data(x=[19, 14], edge_index=[2, 38], y=[1], edge_mask=[38], num_classes=2, num_nodes=19),\n",
       "  Data(x=[28, 14], edge_index=[2, 58], y=[1], edge_mask=[58], num_classes=2, num_nodes=28),\n",
       "  Data(x=[30, 14], edge_index=[2, 64], y=[1], edge_mask=[64], num_classes=2, num_nodes=30),\n",
       "  Data(x=[43, 14], edge_index=[2, 92], y=[1], edge_mask=[92], num_classes=2, num_nodes=43),\n",
       "  Data(x=[18, 14], edge_index=[2, 38], y=[1], edge_mask=[38], num_classes=2, num_nodes=18),\n",
       "  Data(x=[27, 14], edge_index=[2, 56], y=[1], edge_mask=[56], num_classes=2, num_nodes=27),\n",
       "  Data(x=[21, 14], edge_index=[2, 42], y=[1], edge_mask=[42], num_classes=2, num_nodes=21),\n",
       "  Data(x=[28, 14], edge_index=[2, 62], y=[1], edge_mask=[62], num_classes=2, num_nodes=28),\n",
       "  Data(x=[32, 14], edge_index=[2, 66], y=[1], edge_mask=[66], num_classes=2, num_nodes=32),\n",
       "  Data(x=[20, 14], edge_index=[2, 40], y=[1], edge_mask=[40], num_classes=2, num_nodes=20),\n",
       "  Data(x=[39, 14], edge_index=[2, 78], y=[1], edge_mask=[78], num_classes=2, num_nodes=39),\n",
       "  Data(x=[34, 14], edge_index=[2, 72], y=[1], edge_mask=[72], num_classes=2, num_nodes=34),\n",
       "  Data(x=[23, 14], edge_index=[2, 48], y=[1], edge_mask=[48], num_classes=2, num_nodes=23),\n",
       "  Data(x=[26, 14], edge_index=[2, 56], y=[1], edge_mask=[56], num_classes=2, num_nodes=26),\n",
       "  Data(x=[26, 14], edge_index=[2, 56], y=[1], edge_mask=[56], num_classes=2, num_nodes=26),\n",
       "  Data(x=[26, 14], edge_index=[2, 56], y=[1], edge_mask=[56], num_classes=2, num_nodes=26),\n",
       "  Data(x=[16, 14], edge_index=[2, 32], y=[1], edge_mask=[32], num_classes=2, num_nodes=16),\n",
       "  Data(x=[20, 14], edge_index=[2, 42], y=[1], edge_mask=[42], num_classes=2, num_nodes=20),\n",
       "  Data(x=[14, 14], edge_index=[2, 28], y=[1], edge_mask=[28], num_classes=2, num_nodes=14),\n",
       "  Data(x=[27, 14], edge_index=[2, 52], y=[1], edge_mask=[52], num_classes=2, num_nodes=27),\n",
       "  Data(x=[16, 14], edge_index=[2, 32], y=[1], edge_mask=[32], num_classes=2, num_nodes=16),\n",
       "  Data(x=[27, 14], edge_index=[2, 56], y=[1], edge_mask=[56], num_classes=2, num_nodes=27),\n",
       "  Data(x=[31, 14], edge_index=[2, 64], y=[1], edge_mask=[64], num_classes=2, num_nodes=31),\n",
       "  Data(x=[9, 14], edge_index=[2, 16], y=[1], edge_mask=[16], num_classes=2, num_nodes=9),\n",
       "  Data(x=[25, 14], edge_index=[2, 52], y=[1], edge_mask=[52], num_classes=2, num_nodes=25),\n",
       "  Data(x=[21, 14], edge_index=[2, 42], y=[1], edge_mask=[42], num_classes=2, num_nodes=21),\n",
       "  Data(x=[22, 14], edge_index=[2, 42], y=[1], edge_mask=[42], num_classes=2, num_nodes=22),\n",
       "  Data(x=[26, 14], edge_index=[2, 54], y=[1], edge_mask=[54], num_classes=2, num_nodes=26),\n",
       "  Data(x=[36, 14], edge_index=[2, 74], y=[1], edge_mask=[74], num_classes=2, num_nodes=36),\n",
       "  Data(x=[20, 14], edge_index=[2, 40], y=[1], edge_mask=[40], num_classes=2, num_nodes=20),\n",
       "  Data(x=[21, 14], edge_index=[2, 42], y=[1], edge_mask=[42], num_classes=2, num_nodes=21),\n",
       "  Data(x=[25, 14], edge_index=[2, 52], y=[1], edge_mask=[52], num_classes=2, num_nodes=25),\n",
       "  Data(x=[26, 14], edge_index=[2, 56], y=[1], edge_mask=[56], num_classes=2, num_nodes=26),\n",
       "  Data(x=[14, 14], edge_index=[2, 28], y=[1], edge_mask=[28], num_classes=2, num_nodes=14),\n",
       "  Data(x=[30, 14], edge_index=[2, 66], y=[1], edge_mask=[66], num_classes=2, num_nodes=30),\n",
       "  Data(x=[18, 14], edge_index=[2, 34], y=[1], edge_mask=[34], num_classes=2, num_nodes=18),\n",
       "  Data(x=[17, 14], edge_index=[2, 34], y=[1], edge_mask=[34], num_classes=2, num_nodes=17),\n",
       "  Data(x=[30, 14], edge_index=[2, 64], y=[1], edge_mask=[64], num_classes=2, num_nodes=30),\n",
       "  Data(x=[30, 14], edge_index=[2, 66], y=[1], edge_mask=[66], num_classes=2, num_nodes=30),\n",
       "  Data(x=[36, 14], edge_index=[2, 76], y=[1], edge_mask=[76], num_classes=2, num_nodes=36),\n",
       "  Data(x=[25, 14], edge_index=[2, 50], y=[1], edge_mask=[50], num_classes=2, num_nodes=25),\n",
       "  Data(x=[29, 14], edge_index=[2, 62], y=[1], edge_mask=[62], num_classes=2, num_nodes=29),\n",
       "  Data(x=[44, 14], edge_index=[2, 92], y=[1], edge_mask=[92], num_classes=2, num_nodes=44),\n",
       "  Data(x=[17, 14], edge_index=[2, 36], y=[1], edge_mask=[36], num_classes=2, num_nodes=17),\n",
       "  Data(x=[25, 14], edge_index=[2, 52], y=[1], edge_mask=[52], num_classes=2, num_nodes=25),\n",
       "  Data(x=[20, 14], edge_index=[2, 42], y=[1], edge_mask=[42], num_classes=2, num_nodes=20),\n",
       "  Data(x=[34, 14], edge_index=[2, 76], y=[1], edge_mask=[76], num_classes=2, num_nodes=34),\n",
       "  Data(x=[16, 14], edge_index=[2, 34], y=[1], edge_mask=[34], num_classes=2, num_nodes=16),\n",
       "  Data(x=[19, 14], edge_index=[2, 38], y=[1], edge_mask=[38], num_classes=2, num_nodes=19),\n",
       "  Data(x=[26, 14], edge_index=[2, 52], y=[1], edge_mask=[52], num_classes=2, num_nodes=26),\n",
       "  Data(x=[21, 14], edge_index=[2, 42], y=[1], edge_mask=[42], num_classes=2, num_nodes=21),\n",
       "  Data(x=[20, 14], edge_index=[2, 42], y=[1], edge_mask=[42], num_classes=2, num_nodes=20),\n",
       "  Data(x=[23, 14], edge_index=[2, 48], y=[1], edge_mask=[48], num_classes=2, num_nodes=23),\n",
       "  Data(x=[24, 14], edge_index=[2, 52], y=[1], edge_mask=[52], num_classes=2, num_nodes=24),\n",
       "  Data(x=[31, 14], edge_index=[2, 64], y=[1], edge_mask=[64], num_classes=2, num_nodes=31),\n",
       "  Data(x=[37, 14], edge_index=[2, 72], y=[1], edge_mask=[72], num_classes=2, num_nodes=37),\n",
       "  Data(x=[21, 14], edge_index=[2, 42], y=[1], edge_mask=[42], num_classes=2, num_nodes=21),\n",
       "  Data(x=[28, 14], edge_index=[2, 60], y=[1], edge_mask=[60], num_classes=2, num_nodes=28),\n",
       "  Data(x=[16, 14], edge_index=[2, 32], y=[1], edge_mask=[32], num_classes=2, num_nodes=16),\n",
       "  Data(x=[20, 14], edge_index=[2, 40], y=[1], edge_mask=[40], num_classes=2, num_nodes=20),\n",
       "  Data(x=[37, 14], edge_index=[2, 78], y=[1], edge_mask=[78], num_classes=2, num_nodes=37),\n",
       "  Data(x=[32, 14], edge_index=[2, 68], y=[1], edge_mask=[68], num_classes=2, num_nodes=32),\n",
       "  Data(x=[27, 14], edge_index=[2, 54], y=[1], edge_mask=[54], num_classes=2, num_nodes=27),\n",
       "  Data(x=[36, 14], edge_index=[2, 76], y=[1], edge_mask=[76], num_classes=2, num_nodes=36),\n",
       "  Data(x=[30, 14], edge_index=[2, 66], y=[1], edge_mask=[66], num_classes=2, num_nodes=30),\n",
       "  Data(x=[28, 14], edge_index=[2, 60], y=[1], edge_mask=[60], num_classes=2, num_nodes=28),\n",
       "  Data(x=[18, 14], edge_index=[2, 38], y=[1], edge_mask=[38], num_classes=2, num_nodes=18),\n",
       "  Data(x=[22, 14], edge_index=[2, 48], y=[1], edge_mask=[48], num_classes=2, num_nodes=22),\n",
       "  Data(x=[21, 14], edge_index=[2, 44], y=[1], edge_mask=[44], num_classes=2, num_nodes=21),\n",
       "  Data(x=[19, 14], edge_index=[2, 38], y=[1], edge_mask=[38], num_classes=2, num_nodes=19),\n",
       "  Data(x=[34, 14], edge_index=[2, 76], y=[1], edge_mask=[76], num_classes=2, num_nodes=34),\n",
       "  Data(x=[24, 14], edge_index=[2, 48], y=[1], edge_mask=[48], num_classes=2, num_nodes=24),\n",
       "  Data(x=[22, 14], edge_index=[2, 44], y=[1], edge_mask=[44], num_classes=2, num_nodes=22),\n",
       "  Data(x=[16, 14], edge_index=[2, 34], y=[1], edge_mask=[34], num_classes=2, num_nodes=16),\n",
       "  Data(x=[39, 14], edge_index=[2, 84], y=[1], edge_mask=[84], num_classes=2, num_nodes=39),\n",
       "  Data(x=[16, 14], edge_index=[2, 30], y=[1], edge_mask=[30], num_classes=2, num_nodes=16),\n",
       "  Data(x=[19, 14], edge_index=[2, 38], y=[1], edge_mask=[38], num_classes=2, num_nodes=19),\n",
       "  Data(x=[29, 14], edge_index=[2, 62], y=[1], edge_mask=[62], num_classes=2, num_nodes=29),\n",
       "  Data(x=[28, 14], edge_index=[2, 62], y=[1], edge_mask=[62], num_classes=2, num_nodes=28),\n",
       "  Data(x=[31, 14], edge_index=[2, 64], y=[1], edge_mask=[64], num_classes=2, num_nodes=31),\n",
       "  Data(x=[26, 14], edge_index=[2, 56], y=[1], edge_mask=[56], num_classes=2, num_nodes=26),\n",
       "  Data(x=[37, 14], edge_index=[2, 80], y=[1], edge_mask=[80], num_classes=2, num_nodes=37),\n",
       "  Data(x=[44, 14], edge_index=[2, 90], y=[1], edge_mask=[90], num_classes=2, num_nodes=44),\n",
       "  Data(x=[23, 14], edge_index=[2, 48], y=[1], edge_mask=[48], num_classes=2, num_nodes=23),\n",
       "  Data(x=[22, 14], edge_index=[2, 48], y=[1], edge_mask=[48], num_classes=2, num_nodes=22),\n",
       "  Data(x=[34, 14], edge_index=[2, 76], y=[1], edge_mask=[76], num_classes=2, num_nodes=34),\n",
       "  Data(x=[42, 14], edge_index=[2, 92], y=[1], edge_mask=[92], num_classes=2, num_nodes=42),\n",
       "  Data(x=[43, 14], edge_index=[2, 90], y=[1], edge_mask=[90], num_classes=2, num_nodes=43),\n",
       "  Data(x=[32, 14], edge_index=[2, 66], y=[1], edge_mask=[66], num_classes=2, num_nodes=32),\n",
       "  Data(x=[16, 14], edge_index=[2, 32], y=[1], edge_mask=[32], num_classes=2, num_nodes=16),\n",
       "  Data(x=[26, 14], edge_index=[2, 54], y=[1], edge_mask=[54], num_classes=2, num_nodes=26),\n",
       "  Data(x=[14, 14], edge_index=[2, 28], y=[1], edge_mask=[28], num_classes=2, num_nodes=14),\n",
       "  Data(x=[17, 14], edge_index=[2, 34], y=[1], edge_mask=[34], num_classes=2, num_nodes=17),\n",
       "  Data(x=[33, 14], edge_index=[2, 72], y=[1], edge_mask=[72], num_classes=2, num_nodes=33),\n",
       "  Data(x=[24, 14], edge_index=[2, 50], y=[1], edge_mask=[50], num_classes=2, num_nodes=24),\n",
       "  Data(x=[25, 14], edge_index=[2, 54], y=[1], edge_mask=[54], num_classes=2, num_nodes=25),\n",
       "  Data(x=[60, 14], edge_index=[2, 126], y=[1], edge_mask=[126], num_classes=2, num_nodes=60),\n",
       "  Data(x=[13, 14], edge_index=[2, 26], y=[1], edge_mask=[26], num_classes=2, num_nodes=13),\n",
       "  Data(x=[21, 14], edge_index=[2, 44], y=[1], edge_mask=[44], num_classes=2, num_nodes=21),\n",
       "  Data(x=[24, 14], edge_index=[2, 50], y=[1], edge_mask=[50], num_classes=2, num_nodes=24),\n",
       "  Data(x=[27, 14], edge_index=[2, 58], y=[1], edge_mask=[58], num_classes=2, num_nodes=27),\n",
       "  Data(x=[34, 14], edge_index=[2, 68], y=[1], edge_mask=[68], num_classes=2, num_nodes=34),\n",
       "  Data(x=[27, 14], edge_index=[2, 56], y=[1], edge_mask=[56], num_classes=2, num_nodes=27),\n",
       "  Data(x=[32, 14], edge_index=[2, 70], y=[1], edge_mask=[70], num_classes=2, num_nodes=32),\n",
       "  Data(x=[19, 14], edge_index=[2, 36], y=[1], edge_mask=[36], num_classes=2, num_nodes=19),\n",
       "  Data(x=[19, 14], edge_index=[2, 40], y=[1], edge_mask=[40], num_classes=2, num_nodes=19),\n",
       "  Data(x=[32, 14], edge_index=[2, 64], y=[1], edge_mask=[64], num_classes=2, num_nodes=32),\n",
       "  Data(x=[32, 14], edge_index=[2, 70], y=[1], edge_mask=[70], num_classes=2, num_nodes=32),\n",
       "  Data(x=[23, 14], edge_index=[2, 48], y=[1], edge_mask=[48], num_classes=2, num_nodes=23),\n",
       "  Data(x=[16, 14], edge_index=[2, 32], y=[1], edge_mask=[32], num_classes=2, num_nodes=16),\n",
       "  Data(x=[22, 14], edge_index=[2, 44], y=[1], edge_mask=[44], num_classes=2, num_nodes=22),\n",
       "  Data(x=[29, 14], edge_index=[2, 62], y=[1], edge_mask=[62], num_classes=2, num_nodes=29),\n",
       "  Data(x=[19, 14], edge_index=[2, 40], y=[1], edge_mask=[40], num_classes=2, num_nodes=19),\n",
       "  Data(x=[32, 14], edge_index=[2, 70], y=[1], edge_mask=[70], num_classes=2, num_nodes=32),\n",
       "  Data(x=[19, 14], edge_index=[2, 38], y=[1], edge_mask=[38], num_classes=2, num_nodes=19),\n",
       "  Data(x=[22, 14], edge_index=[2, 46], y=[1], edge_mask=[46], num_classes=2, num_nodes=22),\n",
       "  Data(x=[23, 14], edge_index=[2, 50], y=[1], edge_mask=[50], num_classes=2, num_nodes=23),\n",
       "  Data(x=[13, 14], edge_index=[2, 24], y=[1], edge_mask=[24], num_classes=2, num_nodes=13),\n",
       "  Data(x=[18, 14], edge_index=[2, 36], y=[1], edge_mask=[36], num_classes=2, num_nodes=18),\n",
       "  Data(x=[19, 14], edge_index=[2, 38], y=[1], edge_mask=[38], num_classes=2, num_nodes=19),\n",
       "  Data(x=[13, 14], edge_index=[2, 24], y=[1], edge_mask=[24], num_classes=2, num_nodes=13),\n",
       "  Data(x=[20, 14], edge_index=[2, 42], y=[1], edge_mask=[42], num_classes=2, num_nodes=20),\n",
       "  Data(x=[25, 14], edge_index=[2, 52], y=[1], edge_mask=[52], num_classes=2, num_nodes=25),\n",
       "  Data(x=[33, 14], edge_index=[2, 64], y=[1], edge_mask=[64], num_classes=2, num_nodes=33),\n",
       "  Data(x=[14, 14], edge_index=[2, 26], y=[1], edge_mask=[26], num_classes=2, num_nodes=14),\n",
       "  Data(x=[25, 14], edge_index=[2, 52], y=[1], edge_mask=[52], num_classes=2, num_nodes=25),\n",
       "  Data(x=[22, 14], edge_index=[2, 42], y=[1], edge_mask=[42], num_classes=2, num_nodes=22),\n",
       "  Data(x=[36, 14], edge_index=[2, 80], y=[1], edge_mask=[80], num_classes=2, num_nodes=36),\n",
       "  Data(x=[29, 14], edge_index=[2, 66], y=[1], edge_mask=[66], num_classes=2, num_nodes=29),\n",
       "  Data(x=[76, 14], edge_index=[2, 162], y=[1], edge_mask=[162], num_classes=2, num_nodes=76),\n",
       "  Data(x=[27, 14], edge_index=[2, 54], y=[1], edge_mask=[54], num_classes=2, num_nodes=27),\n",
       "  Data(x=[51, 14], edge_index=[2, 102], y=[1], edge_mask=[102], num_classes=2, num_nodes=51),\n",
       "  Data(x=[32, 14], edge_index=[2, 66], y=[1], edge_mask=[66], num_classes=2, num_nodes=32),\n",
       "  Data(x=[43, 14], edge_index=[2, 84], y=[1], edge_mask=[84], num_classes=2, num_nodes=43),\n",
       "  Data(x=[30, 14], edge_index=[2, 64], y=[1], edge_mask=[64], num_classes=2, num_nodes=30),\n",
       "  Data(x=[28, 14], edge_index=[2, 60], y=[1], edge_mask=[60], num_classes=2, num_nodes=28),\n",
       "  Data(x=[34, 14], edge_index=[2, 72], y=[1], edge_mask=[72], num_classes=2, num_nodes=34),\n",
       "  Data(x=[28, 14], edge_index=[2, 62], y=[1], edge_mask=[62], num_classes=2, num_nodes=28),\n",
       "  Data(x=[24, 14], edge_index=[2, 50], y=[1], edge_mask=[50], num_classes=2, num_nodes=24),\n",
       "  Data(x=[34, 14], edge_index=[2, 76], y=[1], edge_mask=[76], num_classes=2, num_nodes=34),\n",
       "  Data(x=[23, 14], edge_index=[2, 46], y=[1], edge_mask=[46], num_classes=2, num_nodes=23),\n",
       "  Data(x=[25, 14], edge_index=[2, 54], y=[1], edge_mask=[54], num_classes=2, num_nodes=25),\n",
       "  Data(x=[14, 14], edge_index=[2, 28], y=[1], edge_mask=[28], num_classes=2, num_nodes=14),\n",
       "  Data(x=[32, 14], edge_index=[2, 66], y=[1], edge_mask=[66], num_classes=2, num_nodes=32),\n",
       "  Data(x=[30, 14], edge_index=[2, 66], y=[1], edge_mask=[66], num_classes=2, num_nodes=30),\n",
       "  Data(x=[10, 14], edge_index=[2, 18], y=[1], edge_mask=[18], num_classes=2, num_nodes=10),\n",
       "  Data(x=[29, 14], edge_index=[2, 62], y=[1], edge_mask=[62], num_classes=2, num_nodes=29),\n",
       "  Data(x=[64, 14], edge_index=[2, 136], y=[1], edge_mask=[136], num_classes=2, num_nodes=64),\n",
       "  Data(x=[28, 14], edge_index=[2, 60], y=[1], edge_mask=[60], num_classes=2, num_nodes=28),\n",
       "  Data(x=[46, 14], edge_index=[2, 94], y=[1], edge_mask=[94], num_classes=2, num_nodes=46),\n",
       "  Data(x=[18, 14], edge_index=[2, 36], y=[1], edge_mask=[36], num_classes=2, num_nodes=18),\n",
       "  Data(x=[30, 14], edge_index=[2, 60], y=[1], edge_mask=[60], num_classes=2, num_nodes=30),\n",
       "  Data(x=[28, 14], edge_index=[2, 60], y=[1], edge_mask=[60], num_classes=2, num_nodes=28),\n",
       "  Data(x=[32, 14], edge_index=[2, 66], y=[1], edge_mask=[66], num_classes=2, num_nodes=32),\n",
       "  Data(x=[19, 14], edge_index=[2, 38], y=[1], edge_mask=[38], num_classes=2, num_nodes=19),\n",
       "  Data(x=[26, 14], edge_index=[2, 56], y=[1], edge_mask=[56], num_classes=2, num_nodes=26),\n",
       "  Data(x=[44, 14], edge_index=[2, 92], y=[1], edge_mask=[92], num_classes=2, num_nodes=44),\n",
       "  Data(x=[25, 14], edge_index=[2, 54], y=[1], edge_mask=[54], num_classes=2, num_nodes=25),\n",
       "  Data(x=[34, 14], edge_index=[2, 76], y=[1], edge_mask=[76], num_classes=2, num_nodes=34),\n",
       "  Data(x=[21, 14], edge_index=[2, 42], y=[1], edge_mask=[42], num_classes=2, num_nodes=21),\n",
       "  Data(x=[36, 14], edge_index=[2, 66], y=[1], edge_mask=[66], num_classes=2, num_nodes=36),\n",
       "  Data(x=[21, 14], edge_index=[2, 42], y=[1], edge_mask=[42], num_classes=2, num_nodes=21),\n",
       "  Data(x=[31, 14], edge_index=[2, 62], y=[1], edge_mask=[62], num_classes=2, num_nodes=31),\n",
       "  Data(x=[33, 14], edge_index=[2, 70], y=[1], edge_mask=[70], num_classes=2, num_nodes=33),\n",
       "  Data(x=[30, 14], edge_index=[2, 66], y=[1], edge_mask=[66], num_classes=2, num_nodes=30),\n",
       "  Data(x=[20, 14], edge_index=[2, 40], y=[1], edge_mask=[40], num_classes=2, num_nodes=20),\n",
       "  Data(x=[25, 14], edge_index=[2, 52], y=[1], edge_mask=[52], num_classes=2, num_nodes=25),\n",
       "  Data(x=[27, 14], edge_index=[2, 58], y=[1], edge_mask=[58], num_classes=2, num_nodes=27),\n",
       "  Data(x=[23, 14], edge_index=[2, 50], y=[1], edge_mask=[50], num_classes=2, num_nodes=23),\n",
       "  Data(x=[17, 14], edge_index=[2, 34], y=[1], edge_mask=[34], num_classes=2, num_nodes=17),\n",
       "  Data(x=[25, 14], edge_index=[2, 54], y=[1], edge_mask=[54], num_classes=2, num_nodes=25),\n",
       "  Data(x=[28, 14], edge_index=[2, 60], y=[1], edge_mask=[60], num_classes=2, num_nodes=28),\n",
       "  Data(x=[30, 14], edge_index=[2, 60], y=[1], edge_mask=[60], num_classes=2, num_nodes=30),\n",
       "  Data(x=[26, 14], edge_index=[2, 54], y=[1], edge_mask=[54], num_classes=2, num_nodes=26),\n",
       "  Data(x=[86, 14], edge_index=[2, 182], y=[1], edge_mask=[182], num_classes=2, num_nodes=86),\n",
       "  Data(x=[18, 14], edge_index=[2, 36], y=[1], edge_mask=[36], num_classes=2, num_nodes=18),\n",
       "  Data(x=[23, 14], edge_index=[2, 48], y=[1], edge_mask=[48], num_classes=2, num_nodes=23),\n",
       "  Data(x=[38, 14], edge_index=[2, 82], y=[1], edge_mask=[82], num_classes=2, num_nodes=38),\n",
       "  Data(x=[32, 14], edge_index=[2, 66], y=[1], edge_mask=[66], num_classes=2, num_nodes=32),\n",
       "  Data(x=[14, 14], edge_index=[2, 26], y=[1], edge_mask=[26], num_classes=2, num_nodes=14),\n",
       "  Data(x=[31, 14], edge_index=[2, 62], y=[1], edge_mask=[62], num_classes=2, num_nodes=31),\n",
       "  Data(x=[21, 14], edge_index=[2, 42], y=[1], edge_mask=[42], num_classes=2, num_nodes=21),\n",
       "  Data(x=[34, 14], edge_index=[2, 72], y=[1], edge_mask=[72], num_classes=2, num_nodes=34),\n",
       "  Data(x=[31, 14], edge_index=[2, 64], y=[1], edge_mask=[64], num_classes=2, num_nodes=31),\n",
       "  Data(x=[24, 14], edge_index=[2, 52], y=[1], edge_mask=[52], num_classes=2, num_nodes=24),\n",
       "  Data(x=[37, 14], edge_index=[2, 80], y=[1], edge_mask=[80], num_classes=2, num_nodes=37),\n",
       "  Data(x=[86, 14], edge_index=[2, 182], y=[1], edge_mask=[182], num_classes=2, num_nodes=86),\n",
       "  Data(x=[20, 14], edge_index=[2, 38], y=[1], edge_mask=[38], num_classes=2, num_nodes=20),\n",
       "  Data(x=[32, 14], edge_index=[2, 68], y=[1], edge_mask=[68], num_classes=2, num_nodes=32),\n",
       "  Data(x=[23, 14], edge_index=[2, 48], y=[1], edge_mask=[48], num_classes=2, num_nodes=23),\n",
       "  Data(x=[18, 14], edge_index=[2, 38], y=[1], edge_mask=[38], num_classes=2, num_nodes=18),\n",
       "  Data(x=[29, 14], edge_index=[2, 60], y=[1], edge_mask=[60], num_classes=2, num_nodes=29),\n",
       "  Data(x=[27, 14], edge_index=[2, 58], y=[1], edge_mask=[58], num_classes=2, num_nodes=27),\n",
       "  Data(x=[24, 14], edge_index=[2, 52], y=[1], edge_mask=[52], num_classes=2, num_nodes=24),\n",
       "  Data(x=[31, 14], edge_index=[2, 62], y=[1], edge_mask=[62], num_classes=2, num_nodes=31),\n",
       "  Data(x=[35, 14], edge_index=[2, 74], y=[1], edge_mask=[74], num_classes=2, num_nodes=35),\n",
       "  Data(x=[32, 14], edge_index=[2, 68], y=[1], edge_mask=[68], num_classes=2, num_nodes=32),\n",
       "  Data(x=[44, 14], edge_index=[2, 92], y=[1], edge_mask=[92], num_classes=2, num_nodes=44),\n",
       "  Data(x=[17, 14], edge_index=[2, 34], y=[1], edge_mask=[34], num_classes=2, num_nodes=17),\n",
       "  Data(x=[47, 14], edge_index=[2, 98], y=[1], edge_mask=[98], num_classes=2, num_nodes=47),\n",
       "  Data(x=[29, 14], edge_index=[2, 66], y=[1], edge_mask=[66], num_classes=2, num_nodes=29),\n",
       "  Data(x=[28, 14], edge_index=[2, 62], y=[1], edge_mask=[62], num_classes=2, num_nodes=28),\n",
       "  Data(x=[34, 14], edge_index=[2, 76], y=[1], edge_mask=[76], num_classes=2, num_nodes=34),\n",
       "  Data(x=[24, 14], edge_index=[2, 50], y=[1], edge_mask=[50], num_classes=2, num_nodes=24),\n",
       "  Data(x=[26, 14], edge_index=[2, 54], y=[1], edge_mask=[54], num_classes=2, num_nodes=26),\n",
       "  Data(x=[26, 14], edge_index=[2, 54], y=[1], edge_mask=[54], num_classes=2, num_nodes=26),\n",
       "  Data(x=[16, 14], edge_index=[2, 32], y=[1], edge_mask=[32], num_classes=2, num_nodes=16),\n",
       "  Data(x=[26, 14], edge_index=[2, 56], y=[1], edge_mask=[56], num_classes=2, num_nodes=26),\n",
       "  Data(x=[27, 14], edge_index=[2, 56], y=[1], edge_mask=[56], num_classes=2, num_nodes=27),\n",
       "  Data(x=[18, 14], edge_index=[2, 38], y=[1], edge_mask=[38], num_classes=2, num_nodes=18),\n",
       "  Data(x=[18, 14], edge_index=[2, 36], y=[1], edge_mask=[36], num_classes=2, num_nodes=18),\n",
       "  Data(x=[17, 14], edge_index=[2, 36], y=[1], edge_mask=[36], num_classes=2, num_nodes=17),\n",
       "  Data(x=[21, 14], edge_index=[2, 40], y=[1], edge_mask=[40], num_classes=2, num_nodes=21),\n",
       "  Data(x=[20, 14], edge_index=[2, 40], y=[1], edge_mask=[40], num_classes=2, num_nodes=20),\n",
       "  Data(x=[44, 14], edge_index=[2, 92], y=[1], edge_mask=[92], num_classes=2, num_nodes=44),\n",
       "  Data(x=[17, 14], edge_index=[2, 34], y=[1], edge_mask=[34], num_classes=2, num_nodes=17),\n",
       "  Data(x=[36, 14], edge_index=[2, 80], y=[1], edge_mask=[80], num_classes=2, num_nodes=36),\n",
       "  Data(x=[20, 14], edge_index=[2, 42], y=[1], edge_mask=[42], num_classes=2, num_nodes=20),\n",
       "  Data(x=[23, 14], edge_index=[2, 46], y=[1], edge_mask=[46], num_classes=2, num_nodes=23),\n",
       "  Data(x=[53, 14], edge_index=[2, 112], y=[1], edge_mask=[112], num_classes=2, num_nodes=53),\n",
       "  Data(x=[25, 14], edge_index=[2, 54], y=[1], edge_mask=[54], num_classes=2, num_nodes=25),\n",
       "  Data(x=[36, 14], edge_index=[2, 80], y=[1], edge_mask=[80], num_classes=2, num_nodes=36),\n",
       "  Data(x=[22, 14], edge_index=[2, 46], y=[1], edge_mask=[46], num_classes=2, num_nodes=22),\n",
       "  Data(x=[26, 14], edge_index=[2, 56], y=[1], edge_mask=[56], num_classes=2, num_nodes=26),\n",
       "  Data(x=[28, 14], edge_index=[2, 60], y=[1], edge_mask=[60], num_classes=2, num_nodes=28),\n",
       "  Data(x=[42, 14], edge_index=[2, 90], y=[1], edge_mask=[90], num_classes=2, num_nodes=42),\n",
       "  Data(x=[18, 14], edge_index=[2, 34], y=[1], edge_mask=[34], num_classes=2, num_nodes=18),\n",
       "  Data(x=[29, 14], edge_index=[2, 64], y=[1], edge_mask=[64], num_classes=2, num_nodes=29),\n",
       "  Data(x=[24, 14], edge_index=[2, 52], y=[1], edge_mask=[52], num_classes=2, num_nodes=24),\n",
       "  Data(x=[29, 14], edge_index=[2, 60], y=[1], edge_mask=[60], num_classes=2, num_nodes=29),\n",
       "  Data(x=[12, 14], edge_index=[2, 24], y=[1], edge_mask=[24], num_classes=2, num_nodes=12),\n",
       "  Data(x=[28, 14], edge_index=[2, 58], y=[1], edge_mask=[58], num_classes=2, num_nodes=28),\n",
       "  Data(x=[28, 14], edge_index=[2, 58], y=[1], edge_mask=[58], num_classes=2, num_nodes=28),\n",
       "  Data(x=[26, 14], edge_index=[2, 50], y=[1], edge_mask=[50], num_classes=2, num_nodes=26),\n",
       "  Data(x=[30, 14], edge_index=[2, 64], y=[1], edge_mask=[64], num_classes=2, num_nodes=30),\n",
       "  Data(x=[16, 14], edge_index=[2, 32], y=[1], edge_mask=[32], num_classes=2, num_nodes=16),\n",
       "  Data(x=[25, 14], edge_index=[2, 50], y=[1], edge_mask=[50], num_classes=2, num_nodes=25),\n",
       "  Data(x=[17, 14], edge_index=[2, 34], y=[1], edge_mask=[34], num_classes=2, num_nodes=17),\n",
       "  Data(x=[16, 14], edge_index=[2, 32], y=[1], edge_mask=[32], num_classes=2, num_nodes=16),\n",
       "  Data(x=[37, 14], edge_index=[2, 74], y=[1], edge_mask=[74], num_classes=2, num_nodes=37),\n",
       "  Data(x=[38, 14], edge_index=[2, 80], y=[1], edge_mask=[80], num_classes=2, num_nodes=38),\n",
       "  Data(x=[28, 14], edge_index=[2, 62], y=[1], edge_mask=[62], num_classes=2, num_nodes=28),\n",
       "  Data(x=[30, 14], edge_index=[2, 66], y=[1], edge_mask=[66], num_classes=2, num_nodes=30),\n",
       "  Data(x=[27, 14], edge_index=[2, 56], y=[1], edge_mask=[56], num_classes=2, num_nodes=27),\n",
       "  Data(x=[34, 14], edge_index=[2, 72], y=[1], edge_mask=[72], num_classes=2, num_nodes=34),\n",
       "  Data(x=[17, 14], edge_index=[2, 34], y=[1], edge_mask=[34], num_classes=2, num_nodes=17),\n",
       "  Data(x=[24, 14], edge_index=[2, 52], y=[1], edge_mask=[52], num_classes=2, num_nodes=24),\n",
       "  Data(x=[28, 14], edge_index=[2, 58], y=[1], edge_mask=[58], num_classes=2, num_nodes=28),\n",
       "  Data(x=[28, 14], edge_index=[2, 60], y=[1], edge_mask=[60], num_classes=2, num_nodes=28),\n",
       "  Data(x=[34, 14], edge_index=[2, 70], y=[1], edge_mask=[70], num_classes=2, num_nodes=34),\n",
       "  Data(x=[33, 14], edge_index=[2, 68], y=[1], edge_mask=[68], num_classes=2, num_nodes=33),\n",
       "  Data(x=[17, 14], edge_index=[2, 34], y=[1], edge_mask=[34], num_classes=2, num_nodes=17),\n",
       "  Data(x=[32, 14], edge_index=[2, 70], y=[1], edge_mask=[70], num_classes=2, num_nodes=32),\n",
       "  Data(x=[19, 14], edge_index=[2, 38], y=[1], edge_mask=[38], num_classes=2, num_nodes=19),\n",
       "  Data(x=[29, 14], edge_index=[2, 64], y=[1], edge_mask=[64], num_classes=2, num_nodes=29),\n",
       "  Data(x=[32, 14], edge_index=[2, 66], y=[1], edge_mask=[66], num_classes=2, num_nodes=32),\n",
       "  Data(x=[26, 14], edge_index=[2, 52], y=[1], edge_mask=[52], num_classes=2, num_nodes=26),\n",
       "  Data(x=[16, 14], edge_index=[2, 32], y=[1], edge_mask=[32], num_classes=2, num_nodes=16),\n",
       "  Data(x=[41, 14], edge_index=[2, 80], y=[1], edge_mask=[80], num_classes=2, num_nodes=41),\n",
       "  Data(x=[26, 14], edge_index=[2, 56], y=[1], edge_mask=[56], num_classes=2, num_nodes=26),\n",
       "  Data(x=[28, 14], edge_index=[2, 58], y=[1], edge_mask=[58], num_classes=2, num_nodes=28),\n",
       "  Data(x=[17, 14], edge_index=[2, 34], y=[1], edge_mask=[34], num_classes=2, num_nodes=17),\n",
       "  Data(x=[36, 14], edge_index=[2, 76], y=[1], edge_mask=[76], num_classes=2, num_nodes=36),\n",
       "  Data(x=[30, 14], edge_index=[2, 62], y=[1], edge_mask=[62], num_classes=2, num_nodes=30),\n",
       "  Data(x=[28, 14], edge_index=[2, 62], y=[1], edge_mask=[62], num_classes=2, num_nodes=28),\n",
       "  Data(x=[25, 14], edge_index=[2, 54], y=[1], edge_mask=[54], num_classes=2, num_nodes=25),\n",
       "  Data(x=[22, 14], edge_index=[2, 44], y=[1], edge_mask=[44], num_classes=2, num_nodes=22),\n",
       "  Data(x=[16, 14], edge_index=[2, 32], y=[1], edge_mask=[32], num_classes=2, num_nodes=16),\n",
       "  Data(x=[18, 14], edge_index=[2, 38], y=[1], edge_mask=[38], num_classes=2, num_nodes=18),\n",
       "  Data(x=[25, 14], edge_index=[2, 54], y=[1], edge_mask=[54], num_classes=2, num_nodes=25),\n",
       "  Data(x=[30, 14], edge_index=[2, 64], y=[1], edge_mask=[64], num_classes=2, num_nodes=30),\n",
       "  Data(x=[34, 14], edge_index=[2, 68], y=[1], edge_mask=[68], num_classes=2, num_nodes=34),\n",
       "  Data(x=[24, 14], edge_index=[2, 52], y=[1], edge_mask=[52], num_classes=2, num_nodes=24),\n",
       "  Data(x=[16, 14], edge_index=[2, 32], y=[1], edge_mask=[32], num_classes=2, num_nodes=16),\n",
       "  Data(x=[27, 14], edge_index=[2, 58], y=[1], edge_mask=[58], num_classes=2, num_nodes=27),\n",
       "  Data(x=[36, 14], edge_index=[2, 72], y=[1], edge_mask=[72], num_classes=2, num_nodes=36),\n",
       "  Data(x=[67, 14], edge_index=[2, 142], y=[1], edge_mask=[142], num_classes=2, num_nodes=67),\n",
       "  Data(x=[27, 14], edge_index=[2, 58], y=[1], edge_mask=[58], num_classes=2, num_nodes=27),\n",
       "  Data(x=[22, 14], edge_index=[2, 44], y=[1], edge_mask=[44], num_classes=2, num_nodes=22),\n",
       "  Data(x=[59, 14], edge_index=[2, 122], y=[1], edge_mask=[122], num_classes=2, num_nodes=59),\n",
       "  Data(x=[19, 14], edge_index=[2, 38], y=[1], edge_mask=[38], num_classes=2, num_nodes=19),\n",
       "  Data(x=[20, 14], edge_index=[2, 42], y=[1], edge_mask=[42], num_classes=2, num_nodes=20),\n",
       "  Data(x=[27, 14], edge_index=[2, 54], y=[1], edge_mask=[54], num_classes=2, num_nodes=27),\n",
       "  Data(x=[30, 14], edge_index=[2, 64], y=[1], edge_mask=[64], num_classes=2, num_nodes=30),\n",
       "  Data(x=[26, 14], edge_index=[2, 56], y=[1], edge_mask=[56], num_classes=2, num_nodes=26),\n",
       "  Data(x=[36, 14], edge_index=[2, 80], y=[1], edge_mask=[80], num_classes=2, num_nodes=36),\n",
       "  Data(x=[31, 14], edge_index=[2, 64], y=[1], edge_mask=[64], num_classes=2, num_nodes=31),\n",
       "  Data(x=[44, 14], edge_index=[2, 86], y=[1], edge_mask=[86], num_classes=2, num_nodes=44),\n",
       "  Data(x=[26, 14], edge_index=[2, 56], y=[1], edge_mask=[56], num_classes=2, num_nodes=26),\n",
       "  Data(x=[27, 14], edge_index=[2, 58], y=[1], edge_mask=[58], num_classes=2, num_nodes=27),\n",
       "  Data(x=[20, 14], edge_index=[2, 42], y=[1], edge_mask=[42], num_classes=2, num_nodes=20),\n",
       "  Data(x=[30, 14], edge_index=[2, 64], y=[1], edge_mask=[64], num_classes=2, num_nodes=30),\n",
       "  Data(x=[35, 14], edge_index=[2, 74], y=[1], edge_mask=[74], num_classes=2, num_nodes=35),\n",
       "  Data(x=[20, 14], edge_index=[2, 40], y=[1], edge_mask=[40], num_classes=2, num_nodes=20),\n",
       "  Data(x=[21, 14], edge_index=[2, 42], y=[1], edge_mask=[42], num_classes=2, num_nodes=21),\n",
       "  Data(x=[25, 14], edge_index=[2, 54], y=[1], edge_mask=[54], num_classes=2, num_nodes=25),\n",
       "  Data(x=[29, 14], edge_index=[2, 62], y=[1], edge_mask=[62], num_classes=2, num_nodes=29),\n",
       "  Data(x=[26, 14], edge_index=[2, 56], y=[1], edge_mask=[56], num_classes=2, num_nodes=26),\n",
       "  Data(x=[30, 14], edge_index=[2, 64], y=[1], edge_mask=[64], num_classes=2, num_nodes=30),\n",
       "  Data(x=[27, 14], edge_index=[2, 58], y=[1], edge_mask=[58], num_classes=2, num_nodes=27),\n",
       "  Data(x=[7, 14], edge_index=[2, 12], y=[1], edge_mask=[12], num_classes=2, num_nodes=7),\n",
       "  Data(x=[23, 14], edge_index=[2, 50], y=[1], edge_mask=[50], num_classes=2, num_nodes=23),\n",
       "  Data(x=[7, 14], edge_index=[2, 12], y=[1], edge_mask=[12], num_classes=2, num_nodes=7),\n",
       "  Data(x=[16, 14], edge_index=[2, 34], y=[1], edge_mask=[34], num_classes=2, num_nodes=16),\n",
       "  Data(x=[27, 14], edge_index=[2, 52], y=[1], edge_mask=[52], num_classes=2, num_nodes=27),\n",
       "  Data(x=[18, 14], edge_index=[2, 36], y=[1], edge_mask=[36], num_classes=2, num_nodes=18),\n",
       "  Data(x=[34, 14], edge_index=[2, 70], y=[1], edge_mask=[70], num_classes=2, num_nodes=34),\n",
       "  Data(x=[23, 14], edge_index=[2, 46], y=[1], edge_mask=[46], num_classes=2, num_nodes=23),\n",
       "  Data(x=[27, 14], edge_index=[2, 58], y=[1], edge_mask=[58], num_classes=2, num_nodes=27),\n",
       "  Data(x=[31, 14], edge_index=[2, 62], y=[1], edge_mask=[62], num_classes=2, num_nodes=31),\n",
       "  Data(x=[36, 14], edge_index=[2, 78], y=[1], edge_mask=[78], num_classes=2, num_nodes=36),\n",
       "  Data(x=[33, 14], edge_index=[2, 70], y=[1], edge_mask=[70], num_classes=2, num_nodes=33),\n",
       "  Data(x=[31, 14], edge_index=[2, 64], y=[1], edge_mask=[64], num_classes=2, num_nodes=31),\n",
       "  Data(x=[31, 14], edge_index=[2, 66], y=[1], edge_mask=[66], num_classes=2, num_nodes=31),\n",
       "  Data(x=[37, 14], edge_index=[2, 78], y=[1], edge_mask=[78], num_classes=2, num_nodes=37),\n",
       "  Data(x=[29, 14], edge_index=[2, 60], y=[1], edge_mask=[60], num_classes=2, num_nodes=29),\n",
       "  Data(x=[25, 14], edge_index=[2, 54], y=[1], edge_mask=[54], num_classes=2, num_nodes=25),\n",
       "  Data(x=[55, 14], edge_index=[2, 116], y=[1], edge_mask=[116], num_classes=2, num_nodes=55),\n",
       "  Data(x=[19, 14], edge_index=[2, 38], y=[1], edge_mask=[38], num_classes=2, num_nodes=19),\n",
       "  Data(x=[29, 14], edge_index=[2, 60], y=[1], edge_mask=[60], num_classes=2, num_nodes=29),\n",
       "  Data(x=[29, 14], edge_index=[2, 60], y=[1], edge_mask=[60], num_classes=2, num_nodes=29),\n",
       "  Data(x=[78, 14], edge_index=[2, 166], y=[1], edge_mask=[166], num_classes=2, num_nodes=78),\n",
       "  Data(x=[30, 14], edge_index=[2, 64], y=[1], edge_mask=[64], num_classes=2, num_nodes=30),\n",
       "  Data(x=[29, 14], edge_index=[2, 60], y=[1], edge_mask=[60], num_classes=2, num_nodes=29),\n",
       "  Data(x=[15, 14], edge_index=[2, 30], y=[1], edge_mask=[30], num_classes=2, num_nodes=15),\n",
       "  Data(x=[31, 14], edge_index=[2, 64], y=[1], edge_mask=[64], num_classes=2, num_nodes=31),\n",
       "  Data(x=[30, 14], edge_index=[2, 62], y=[1], edge_mask=[62], num_classes=2, num_nodes=30),\n",
       "  Data(x=[17, 14], edge_index=[2, 34], y=[1], edge_mask=[34], num_classes=2, num_nodes=17),\n",
       "  Data(x=[20, 14], edge_index=[2, 40], y=[1], edge_mask=[40], num_classes=2, num_nodes=20),\n",
       "  Data(x=[14, 14], edge_index=[2, 28], y=[1], edge_mask=[28], num_classes=2, num_nodes=14),\n",
       "  Data(x=[34, 14], edge_index=[2, 74], y=[1], edge_mask=[74], num_classes=2, num_nodes=34),\n",
       "  Data(x=[22, 14], edge_index=[2, 46], y=[1], edge_mask=[46], num_classes=2, num_nodes=22),\n",
       "  Data(x=[26, 14], edge_index=[2, 56], y=[1], edge_mask=[56], num_classes=2, num_nodes=26),\n",
       "  Data(x=[26, 14], edge_index=[2, 54], y=[1], edge_mask=[54], num_classes=2, num_nodes=26),\n",
       "  Data(x=[34, 14], edge_index=[2, 76], y=[1], edge_mask=[76], num_classes=2, num_nodes=34),\n",
       "  Data(x=[17, 14], edge_index=[2, 34], y=[1], edge_mask=[34], num_classes=2, num_nodes=17),\n",
       "  Data(x=[28, 14], edge_index=[2, 62], y=[1], edge_mask=[62], num_classes=2, num_nodes=28),\n",
       "  Data(x=[25, 14], edge_index=[2, 54], y=[1], edge_mask=[54], num_classes=2, num_nodes=25),\n",
       "  Data(x=[31, 14], edge_index=[2, 70], y=[1], edge_mask=[70], num_classes=2, num_nodes=31),\n",
       "  Data(x=[16, 14], edge_index=[2, 32], y=[1], edge_mask=[32], num_classes=2, num_nodes=16),\n",
       "  Data(x=[26, 14], edge_index=[2, 56], y=[1], edge_mask=[56], num_classes=2, num_nodes=26),\n",
       "  Data(x=[19, 14], edge_index=[2, 38], y=[1], edge_mask=[38], num_classes=2, num_nodes=19),\n",
       "  Data(x=[25, 14], edge_index=[2, 52], y=[1], edge_mask=[52], num_classes=2, num_nodes=25),\n",
       "  Data(x=[25, 14], edge_index=[2, 52], y=[1], edge_mask=[52], num_classes=2, num_nodes=25),\n",
       "  Data(x=[26, 14], edge_index=[2, 54], y=[1], edge_mask=[54], num_classes=2, num_nodes=26),\n",
       "  Data(x=[36, 14], edge_index=[2, 76], y=[1], edge_mask=[76], num_classes=2, num_nodes=36),\n",
       "  Data(x=[32, 14], edge_index=[2, 70], y=[1], edge_mask=[70], num_classes=2, num_nodes=32),\n",
       "  Data(x=[30, 14], edge_index=[2, 64], y=[1], edge_mask=[64], num_classes=2, num_nodes=30),\n",
       "  Data(x=[29, 14], edge_index=[2, 62], y=[1], edge_mask=[62], num_classes=2, num_nodes=29),\n",
       "  Data(x=[18, 14], edge_index=[2, 36], y=[1], edge_mask=[36], num_classes=2, num_nodes=18),\n",
       "  Data(x=[17, 14], edge_index=[2, 34], y=[1], edge_mask=[34], num_classes=2, num_nodes=17),\n",
       "  Data(x=[12, 14], edge_index=[2, 22], y=[1], edge_mask=[22], num_classes=2, num_nodes=12),\n",
       "  Data(x=[26, 14], edge_index=[2, 56], y=[1], edge_mask=[56], num_classes=2, num_nodes=26),\n",
       "  Data(x=[34, 14], edge_index=[2, 76], y=[1], edge_mask=[76], num_classes=2, num_nodes=34),\n",
       "  Data(x=[19, 14], edge_index=[2, 38], y=[1], edge_mask=[38], num_classes=2, num_nodes=19),\n",
       "  Data(x=[71, 14], edge_index=[2, 152], y=[1], edge_mask=[152], num_classes=2, num_nodes=71),\n",
       "  Data(x=[29, 14], edge_index=[2, 64], y=[1], edge_mask=[64], num_classes=2, num_nodes=29),\n",
       "  Data(x=[17, 14], edge_index=[2, 36], y=[1], edge_mask=[36], num_classes=2, num_nodes=17),\n",
       "  Data(x=[35, 14], edge_index=[2, 72], y=[1], edge_mask=[72], num_classes=2, num_nodes=35),\n",
       "  Data(x=[19, 14], edge_index=[2, 38], y=[1], edge_mask=[38], num_classes=2, num_nodes=19),\n",
       "  Data(x=[18, 14], edge_index=[2, 36], y=[1], edge_mask=[36], num_classes=2, num_nodes=18),\n",
       "  Data(x=[15, 14], edge_index=[2, 30], y=[1], edge_mask=[30], num_classes=2, num_nodes=15),\n",
       "  Data(x=[27, 14], edge_index=[2, 52], y=[1], edge_mask=[52], num_classes=2, num_nodes=27),\n",
       "  Data(x=[30, 14], edge_index=[2, 64], y=[1], edge_mask=[64], num_classes=2, num_nodes=30),\n",
       "  Data(x=[70, 14], edge_index=[2, 150], y=[1], edge_mask=[150], num_classes=2, num_nodes=70),\n",
       "  Data(x=[30, 14], edge_index=[2, 64], y=[1], edge_mask=[64], num_classes=2, num_nodes=30),\n",
       "  Data(x=[20, 14], edge_index=[2, 38], y=[1], edge_mask=[38], num_classes=2, num_nodes=20),\n",
       "  Data(x=[12, 14], edge_index=[2, 24], y=[1], edge_mask=[24], num_classes=2, num_nodes=12),\n",
       "  Data(x=[26, 14], edge_index=[2, 52], y=[1], edge_mask=[52], num_classes=2, num_nodes=26),\n",
       "  Data(x=[35, 14], edge_index=[2, 72], y=[1], edge_mask=[72], num_classes=2, num_nodes=35),\n",
       "  Data(x=[16, 14], edge_index=[2, 32], y=[1], edge_mask=[32], num_classes=2, num_nodes=16),\n",
       "  Data(x=[21, 14], edge_index=[2, 44], y=[1], edge_mask=[44], num_classes=2, num_nodes=21),\n",
       "  Data(x=[82, 14], edge_index=[2, 174], y=[1], edge_mask=[174], num_classes=2, num_nodes=82),\n",
       "  Data(x=[15, 14], edge_index=[2, 28], y=[1], edge_mask=[28], num_classes=2, num_nodes=15),\n",
       "  Data(x=[24, 14], edge_index=[2, 50], y=[1], edge_mask=[50], num_classes=2, num_nodes=24),\n",
       "  Data(x=[52, 14], edge_index=[2, 102], y=[1], edge_mask=[102], num_classes=2, num_nodes=52),\n",
       "  Data(x=[19, 14], edge_index=[2, 38], y=[1], edge_mask=[38], num_classes=2, num_nodes=19),\n",
       "  Data(x=[35, 14], edge_index=[2, 76], y=[1], edge_mask=[76], num_classes=2, num_nodes=35),\n",
       "  Data(x=[32, 14], edge_index=[2, 66], y=[1], edge_mask=[66], num_classes=2, num_nodes=32),\n",
       "  Data(x=[17, 14], edge_index=[2, 34], y=[1], edge_mask=[34], num_classes=2, num_nodes=17),\n",
       "  Data(x=[30, 14], edge_index=[2, 62], y=[1], edge_mask=[62], num_classes=2, num_nodes=30),\n",
       "  Data(x=[34, 14], edge_index=[2, 72], y=[1], edge_mask=[72], num_classes=2, num_nodes=34),\n",
       "  Data(x=[35, 14], edge_index=[2, 72], y=[1], edge_mask=[72], num_classes=2, num_nodes=35),\n",
       "  Data(x=[18, 14], edge_index=[2, 36], y=[1], edge_mask=[36], num_classes=2, num_nodes=18),\n",
       "  Data(x=[30, 14], edge_index=[2, 64], y=[1], edge_mask=[64], num_classes=2, num_nodes=30),\n",
       "  Data(x=[70, 14], edge_index=[2, 148], y=[1], edge_mask=[148], num_classes=2, num_nodes=70),\n",
       "  Data(x=[26, 14], edge_index=[2, 56], y=[1], edge_mask=[56], num_classes=2, num_nodes=26),\n",
       "  Data(x=[22, 14], edge_index=[2, 44], y=[1], edge_mask=[44], num_classes=2, num_nodes=22),\n",
       "  Data(x=[26, 14], edge_index=[2, 56], y=[1], edge_mask=[56], num_classes=2, num_nodes=26),\n",
       "  Data(x=[11, 14], edge_index=[2, 20], y=[1], edge_mask=[20], num_classes=2, num_nodes=11),\n",
       "  Data(x=[30, 14], edge_index=[2, 64], y=[1], edge_mask=[64], num_classes=2, num_nodes=30),\n",
       "  Data(x=[22, 14], edge_index=[2, 44], y=[1], edge_mask=[44], num_classes=2, num_nodes=22),\n",
       "  Data(x=[31, 14], edge_index=[2, 64], y=[1], edge_mask=[64], num_classes=2, num_nodes=31),\n",
       "  Data(x=[40, 14], edge_index=[2, 82], y=[1], edge_mask=[82], num_classes=2, num_nodes=40),\n",
       "  Data(x=[28, 14], edge_index=[2, 62], y=[1], edge_mask=[62], num_classes=2, num_nodes=28),\n",
       "  Data(x=[17, 14], edge_index=[2, 34], y=[1], edge_mask=[34], num_classes=2, num_nodes=17),\n",
       "  Data(x=[14, 14], edge_index=[2, 28], y=[1], edge_mask=[28], num_classes=2, num_nodes=14),\n",
       "  Data(x=[12, 14], edge_index=[2, 22], y=[1], edge_mask=[22], num_classes=2, num_nodes=12),\n",
       "  Data(x=[26, 14], edge_index=[2, 56], y=[1], edge_mask=[56], num_classes=2, num_nodes=26),\n",
       "  Data(x=[13, 14], edge_index=[2, 24], y=[1], edge_mask=[24], num_classes=2, num_nodes=13),\n",
       "  Data(x=[27, 14], edge_index=[2, 58], y=[1], edge_mask=[58], num_classes=2, num_nodes=27),\n",
       "  Data(x=[20, 14], edge_index=[2, 42], y=[1], edge_mask=[42], num_classes=2, num_nodes=20),\n",
       "  Data(x=[14, 14], edge_index=[2, 26], y=[1], edge_mask=[26], num_classes=2, num_nodes=14),\n",
       "  Data(x=[31, 14], edge_index=[2, 66], y=[1], edge_mask=[66], num_classes=2, num_nodes=31),\n",
       "  Data(x=[22, 14], edge_index=[2, 46], y=[1], edge_mask=[46], num_classes=2, num_nodes=22),\n",
       "  Data(x=[27, 14], edge_index=[2, 58], y=[1], edge_mask=[58], num_classes=2, num_nodes=27),\n",
       "  Data(x=[63, 14], edge_index=[2, 134], y=[1], edge_mask=[134], num_classes=2, num_nodes=63),\n",
       "  Data(x=[29, 14], edge_index=[2, 58], y=[1], edge_mask=[58], num_classes=2, num_nodes=29),\n",
       "  Data(x=[24, 14], edge_index=[2, 48], y=[1], edge_mask=[48], num_classes=2, num_nodes=24),\n",
       "  Data(x=[25, 14], edge_index=[2, 54], y=[1], edge_mask=[54], num_classes=2, num_nodes=25),\n",
       "  Data(x=[52, 14], edge_index=[2, 106], y=[1], edge_mask=[106], num_classes=2, num_nodes=52),\n",
       "  Data(x=[20, 14], edge_index=[2, 40], y=[1], edge_mask=[40], num_classes=2, num_nodes=20),\n",
       "  Data(x=[26, 14], edge_index=[2, 56], y=[1], edge_mask=[56], num_classes=2, num_nodes=26),\n",
       "  Data(x=[15, 14], edge_index=[2, 30], y=[1], edge_mask=[30], num_classes=2, num_nodes=15),\n",
       "  Data(x=[28, 14], edge_index=[2, 60], y=[1], edge_mask=[60], num_classes=2, num_nodes=28),\n",
       "  Data(x=[31, 14], edge_index=[2, 64], y=[1], edge_mask=[64], num_classes=2, num_nodes=31),\n",
       "  Data(x=[30, 14], edge_index=[2, 62], y=[1], edge_mask=[62], num_classes=2, num_nodes=30),\n",
       "  Data(x=[30, 14], edge_index=[2, 66], y=[1], edge_mask=[66], num_classes=2, num_nodes=30),\n",
       "  Data(x=[17, 14], edge_index=[2, 34], y=[1], edge_mask=[34], num_classes=2, num_nodes=17),\n",
       "  Data(x=[28, 14], edge_index=[2, 58], y=[1], edge_mask=[58], num_classes=2, num_nodes=28),\n",
       "  Data(x=[35, 14], edge_index=[2, 70], y=[1], edge_mask=[70], num_classes=2, num_nodes=35),\n",
       "  Data(x=[38, 14], edge_index=[2, 74], y=[1], edge_mask=[74], num_classes=2, num_nodes=38),\n",
       "  Data(x=[30, 14], edge_index=[2, 62], y=[1], edge_mask=[62], num_classes=2, num_nodes=30),\n",
       "  Data(x=[11, 14], edge_index=[2, 20], y=[1], edge_mask=[20], num_classes=2, num_nodes=11),\n",
       "  Data(x=[20, 14], edge_index=[2, 40], y=[1], edge_mask=[40], num_classes=2, num_nodes=20),\n",
       "  Data(x=[23, 14], edge_index=[2, 48], y=[1], edge_mask=[48], num_classes=2, num_nodes=23),\n",
       "  Data(x=[30, 14], edge_index=[2, 62], y=[1], edge_mask=[62], num_classes=2, num_nodes=30),\n",
       "  Data(x=[19, 14], edge_index=[2, 38], y=[1], edge_mask=[38], num_classes=2, num_nodes=19),\n",
       "  Data(x=[25, 14], edge_index=[2, 54], y=[1], edge_mask=[54], num_classes=2, num_nodes=25),\n",
       "  Data(x=[32, 14], edge_index=[2, 66], y=[1], edge_mask=[66], num_classes=2, num_nodes=32),\n",
       "  Data(x=[15, 14], edge_index=[2, 30], y=[1], edge_mask=[30], num_classes=2, num_nodes=15),\n",
       "  Data(x=[34, 14], edge_index=[2, 70], y=[1], edge_mask=[70], num_classes=2, num_nodes=34),\n",
       "  Data(x=[23, 14], edge_index=[2, 48], y=[1], edge_mask=[48], num_classes=2, num_nodes=23),\n",
       "  Data(x=[36, 14], edge_index=[2, 80], y=[1], edge_mask=[80], num_classes=2, num_nodes=36),\n",
       "  Data(x=[21, 14], edge_index=[2, 42], y=[1], edge_mask=[42], num_classes=2, num_nodes=21),\n",
       "  Data(x=[34, 14], edge_index=[2, 76], y=[1], edge_mask=[76], num_classes=2, num_nodes=34),\n",
       "  Data(x=[32, 14], edge_index=[2, 66], y=[1], edge_mask=[66], num_classes=2, num_nodes=32),\n",
       "  Data(x=[19, 14], edge_index=[2, 38], y=[1], edge_mask=[38], num_classes=2, num_nodes=19),\n",
       "  Data(x=[16, 14], edge_index=[2, 32], y=[1], edge_mask=[32], num_classes=2, num_nodes=16),\n",
       "  Data(x=[16, 14], edge_index=[2, 34], y=[1], edge_mask=[34], num_classes=2, num_nodes=16),\n",
       "  Data(x=[28, 14], edge_index=[2, 58], y=[1], edge_mask=[58], num_classes=2, num_nodes=28),\n",
       "  Data(x=[22, 14], edge_index=[2, 44], y=[1], edge_mask=[44], num_classes=2, num_nodes=22),\n",
       "  Data(x=[22, 14], edge_index=[2, 44], y=[1], edge_mask=[44], num_classes=2, num_nodes=22),\n",
       "  Data(x=[30, 14], edge_index=[2, 64], y=[1], edge_mask=[64], num_classes=2, num_nodes=30),\n",
       "  Data(x=[20, 14], edge_index=[2, 40], y=[1], edge_mask=[40], num_classes=2, num_nodes=20),\n",
       "  Data(x=[87, 14], edge_index=[2, 180], y=[1], edge_mask=[180], num_classes=2, num_nodes=87),\n",
       "  Data(x=[11, 14], edge_index=[2, 22], y=[1], edge_mask=[22], num_classes=2, num_nodes=11),\n",
       "  Data(x=[19, 14], edge_index=[2, 40], y=[1], edge_mask=[40], num_classes=2, num_nodes=19),\n",
       "  Data(x=[72, 14], edge_index=[2, 154], y=[1], edge_mask=[154], num_classes=2, num_nodes=72),\n",
       "  Data(x=[26, 14], edge_index=[2, 56], y=[1], edge_mask=[56], num_classes=2, num_nodes=26),\n",
       "  Data(x=[28, 14], edge_index=[2, 60], y=[1], edge_mask=[60], num_classes=2, num_nodes=28),\n",
       "  Data(x=[38, 14], edge_index=[2, 84], y=[1], edge_mask=[84], num_classes=2, num_nodes=38),\n",
       "  Data(x=[36, 14], edge_index=[2, 78], y=[1], edge_mask=[78], num_classes=2, num_nodes=36),\n",
       "  Data(x=[31, 14], edge_index=[2, 64], y=[1], edge_mask=[64], num_classes=2, num_nodes=31),\n",
       "  Data(x=[36, 14], edge_index=[2, 80], y=[1], edge_mask=[80], num_classes=2, num_nodes=36),\n",
       "  Data(x=[38, 14], edge_index=[2, 82], y=[1], edge_mask=[82], num_classes=2, num_nodes=38),\n",
       "  Data(x=[30, 14], edge_index=[2, 66], y=[1], edge_mask=[66], num_classes=2, num_nodes=30),\n",
       "  Data(x=[14, 14], edge_index=[2, 28], y=[1], edge_mask=[28], num_classes=2, num_nodes=14),\n",
       "  Data(x=[25, 14], edge_index=[2, 50], y=[1], edge_mask=[50], num_classes=2, num_nodes=25),\n",
       "  Data(x=[21, 14], edge_index=[2, 40], y=[1], edge_mask=[40], num_classes=2, num_nodes=21),\n",
       "  Data(x=[71, 14], edge_index=[2, 150], y=[1], edge_mask=[150], num_classes=2, num_nodes=71),\n",
       "  Data(x=[52, 14], edge_index=[2, 108], y=[1], edge_mask=[108], num_classes=2, num_nodes=52),\n",
       "  Data(x=[25, 14], edge_index=[2, 50], y=[1], edge_mask=[50], num_classes=2, num_nodes=25),\n",
       "  Data(x=[35, 14], edge_index=[2, 72], y=[1], edge_mask=[72], num_classes=2, num_nodes=35),\n",
       "  Data(x=[29, 14], edge_index=[2, 62], y=[1], edge_mask=[62], num_classes=2, num_nodes=29),\n",
       "  Data(x=[22, 14], edge_index=[2, 48], y=[1], edge_mask=[48], num_classes=2, num_nodes=22),\n",
       "  Data(x=[22, 14], edge_index=[2, 44], y=[1], edge_mask=[44], num_classes=2, num_nodes=22),\n",
       "  Data(x=[27, 14], edge_index=[2, 58], y=[1], edge_mask=[58], num_classes=2, num_nodes=27),\n",
       "  Data(x=[18, 14], edge_index=[2, 36], y=[1], edge_mask=[36], num_classes=2, num_nodes=18),\n",
       "  Data(x=[25, 14], edge_index=[2, 54], y=[1], edge_mask=[54], num_classes=2, num_nodes=25),\n",
       "  Data(x=[20, 14], edge_index=[2, 40], y=[1], edge_mask=[40], num_classes=2, num_nodes=20),\n",
       "  Data(x=[59, 14], edge_index=[2, 124], y=[1], edge_mask=[124], num_classes=2, num_nodes=59),\n",
       "  Data(x=[24, 14], edge_index=[2, 48], y=[1], edge_mask=[48], num_classes=2, num_nodes=24),\n",
       "  Data(x=[20, 14], edge_index=[2, 38], y=[1], edge_mask=[38], num_classes=2, num_nodes=20),\n",
       "  Data(x=[26, 14], edge_index=[2, 56], y=[1], edge_mask=[56], num_classes=2, num_nodes=26),\n",
       "  Data(x=[34, 14], edge_index=[2, 70], y=[1], edge_mask=[70], num_classes=2, num_nodes=34),\n",
       "  Data(x=[33, 14], edge_index=[2, 68], y=[1], edge_mask=[68], num_classes=2, num_nodes=33),\n",
       "  Data(x=[31, 14], edge_index=[2, 64], y=[1], edge_mask=[64], num_classes=2, num_nodes=31),\n",
       "  Data(x=[25, 14], edge_index=[2, 52], y=[1], edge_mask=[52], num_classes=2, num_nodes=25),\n",
       "  Data(x=[28, 14], edge_index=[2, 56], y=[1], edge_mask=[56], num_classes=2, num_nodes=28),\n",
       "  Data(x=[16, 14], edge_index=[2, 32], y=[1], edge_mask=[32], num_classes=2, num_nodes=16),\n",
       "  Data(x=[24, 14], edge_index=[2, 50], y=[1], edge_mask=[50], num_classes=2, num_nodes=24),\n",
       "  Data(x=[27, 14], edge_index=[2, 58], y=[1], edge_mask=[58], num_classes=2, num_nodes=27),\n",
       "  Data(x=[27, 14], edge_index=[2, 56], y=[1], edge_mask=[56], num_classes=2, num_nodes=27),\n",
       "  Data(x=[18, 14], edge_index=[2, 34], y=[1], edge_mask=[34], num_classes=2, num_nodes=18),\n",
       "  Data(x=[28, 14], edge_index=[2, 58], y=[1], edge_mask=[58], num_classes=2, num_nodes=28),\n",
       "  Data(x=[34, 14], edge_index=[2, 70], y=[1], edge_mask=[70], num_classes=2, num_nodes=34),\n",
       "  Data(x=[24, 14], edge_index=[2, 52], y=[1], edge_mask=[52], num_classes=2, num_nodes=24),\n",
       "  Data(x=[26, 14], edge_index=[2, 54], y=[1], edge_mask=[54], num_classes=2, num_nodes=26),\n",
       "  Data(x=[34, 14], edge_index=[2, 76], y=[1], edge_mask=[76], num_classes=2, num_nodes=34),\n",
       "  Data(x=[31, 14], edge_index=[2, 66], y=[1], edge_mask=[66], num_classes=2, num_nodes=31),\n",
       "  Data(x=[35, 14], edge_index=[2, 72], y=[1], edge_mask=[72], num_classes=2, num_nodes=35),\n",
       "  Data(x=[26, 14], edge_index=[2, 56], y=[1], edge_mask=[56], num_classes=2, num_nodes=26),\n",
       "  Data(x=[38, 14], edge_index=[2, 74], y=[1], edge_mask=[74], num_classes=2, num_nodes=38),\n",
       "  Data(x=[63, 14], edge_index=[2, 134], y=[1], edge_mask=[134], num_classes=2, num_nodes=63),\n",
       "  Data(x=[27, 14], edge_index=[2, 56], y=[1], edge_mask=[56], num_classes=2, num_nodes=27),\n",
       "  Data(x=[22, 14], edge_index=[2, 44], y=[1], edge_mask=[44], num_classes=2, num_nodes=22),\n",
       "  Data(x=[21, 14], edge_index=[2, 44], y=[1], edge_mask=[44], num_classes=2, num_nodes=21),\n",
       "  Data(x=[21, 14], edge_index=[2, 42], y=[1], edge_mask=[42], num_classes=2, num_nodes=21),\n",
       "  Data(x=[17, 14], edge_index=[2, 34], y=[1], edge_mask=[34], num_classes=2, num_nodes=17),\n",
       "  Data(x=[28, 14], edge_index=[2, 58], y=[1], edge_mask=[58], num_classes=2, num_nodes=28),\n",
       "  Data(x=[32, 14], edge_index=[2, 68], y=[1], edge_mask=[68], num_classes=2, num_nodes=32),\n",
       "  Data(x=[28, 14], edge_index=[2, 58], y=[1], edge_mask=[58], num_classes=2, num_nodes=28),\n",
       "  Data(x=[31, 14], edge_index=[2, 66], y=[1], edge_mask=[66], num_classes=2, num_nodes=31),\n",
       "  Data(x=[17, 14], edge_index=[2, 34], y=[1], edge_mask=[34], num_classes=2, num_nodes=17),\n",
       "  Data(x=[70, 14], edge_index=[2, 144], y=[1], edge_mask=[144], num_classes=2, num_nodes=70),\n",
       "  Data(x=[30, 14], edge_index=[2, 64], y=[1], edge_mask=[64], num_classes=2, num_nodes=30),\n",
       "  Data(x=[20, 14], edge_index=[2, 42], y=[1], edge_mask=[42], num_classes=2, num_nodes=20),\n",
       "  Data(x=[34, 14], edge_index=[2, 68], y=[1], edge_mask=[68], num_classes=2, num_nodes=34),\n",
       "  Data(x=[16, 14], edge_index=[2, 34], y=[1], edge_mask=[34], num_classes=2, num_nodes=16),\n",
       "  Data(x=[22, 14], edge_index=[2, 46], y=[1], edge_mask=[46], num_classes=2, num_nodes=22),\n",
       "  Data(x=[38, 14], edge_index=[2, 84], y=[1], edge_mask=[84], num_classes=2, num_nodes=38),\n",
       "  Data(x=[24, 14], edge_index=[2, 48], y=[1], edge_mask=[48], num_classes=2, num_nodes=24),\n",
       "  Data(x=[13, 14], edge_index=[2, 24], y=[1], edge_mask=[24], num_classes=2, num_nodes=13),\n",
       "  Data(x=[23, 14], edge_index=[2, 46], y=[1], edge_mask=[46], num_classes=2, num_nodes=23),\n",
       "  Data(x=[23, 14], edge_index=[2, 50], y=[1], edge_mask=[50], num_classes=2, num_nodes=23),\n",
       "  Data(x=[29, 14], edge_index=[2, 58], y=[1], edge_mask=[58], num_classes=2, num_nodes=29),\n",
       "  Data(x=[37, 14], edge_index=[2, 80], y=[1], edge_mask=[80], num_classes=2, num_nodes=37),\n",
       "  Data(x=[64, 14], edge_index=[2, 136], y=[1], edge_mask=[136], num_classes=2, num_nodes=64),\n",
       "  Data(x=[20, 14], edge_index=[2, 42], y=[1], edge_mask=[42], num_classes=2, num_nodes=20),\n",
       "  Data(x=[35, 14], edge_index=[2, 78], y=[1], edge_mask=[78], num_classes=2, num_nodes=35),\n",
       "  Data(x=[25, 14], edge_index=[2, 52], y=[1], edge_mask=[52], num_classes=2, num_nodes=25),\n",
       "  Data(x=[20, 14], edge_index=[2, 42], y=[1], edge_mask=[42], num_classes=2, num_nodes=20),\n",
       "  Data(x=[44, 14], edge_index=[2, 92], y=[1], edge_mask=[92], num_classes=2, num_nodes=44),\n",
       "  Data(x=[34, 14], edge_index=[2, 76], y=[1], edge_mask=[76], num_classes=2, num_nodes=34),\n",
       "  Data(x=[16, 14], edge_index=[2, 32], y=[1], edge_mask=[32], num_classes=2, num_nodes=16),\n",
       "  Data(x=[38, 14], edge_index=[2, 84], y=[1], edge_mask=[84], num_classes=2, num_nodes=38),\n",
       "  Data(x=[29, 14], edge_index=[2, 64], y=[1], edge_mask=[64], num_classes=2, num_nodes=29),\n",
       "  Data(x=[25, 14], edge_index=[2, 50], y=[1], edge_mask=[50], num_classes=2, num_nodes=25),\n",
       "  Data(x=[21, 14], edge_index=[2, 42], y=[1], edge_mask=[42], num_classes=2, num_nodes=21),\n",
       "  Data(x=[26, 14], edge_index=[2, 56], y=[1], edge_mask=[56], num_classes=2, num_nodes=26),\n",
       "  Data(x=[17, 14], edge_index=[2, 34], y=[1], edge_mask=[34], num_classes=2, num_nodes=17),\n",
       "  Data(x=[18, 14], edge_index=[2, 36], y=[1], edge_mask=[36], num_classes=2, num_nodes=18),\n",
       "  Data(x=[18, 14], edge_index=[2, 36], y=[1], edge_mask=[36], num_classes=2, num_nodes=18),\n",
       "  Data(x=[20, 14], edge_index=[2, 42], y=[1], edge_mask=[42], num_classes=2, num_nodes=20),\n",
       "  Data(x=[29, 14], edge_index=[2, 62], y=[1], edge_mask=[62], num_classes=2, num_nodes=29),\n",
       "  Data(x=[40, 14], edge_index=[2, 88], y=[1], edge_mask=[88], num_classes=2, num_nodes=40),\n",
       "  Data(x=[36, 14], edge_index=[2, 74], y=[1], edge_mask=[74], num_classes=2, num_nodes=36),\n",
       "  Data(x=[18, 14], edge_index=[2, 36], y=[1], edge_mask=[36], num_classes=2, num_nodes=18),\n",
       "  Data(x=[36, 14], edge_index=[2, 78], y=[1], edge_mask=[78], num_classes=2, num_nodes=36),\n",
       "  Data(x=[27, 14], edge_index=[2, 58], y=[1], edge_mask=[58], num_classes=2, num_nodes=27),\n",
       "  Data(x=[21, 14], edge_index=[2, 42], y=[1], edge_mask=[42], num_classes=2, num_nodes=21),\n",
       "  Data(x=[27, 14], edge_index=[2, 56], y=[1], edge_mask=[56], num_classes=2, num_nodes=27),\n",
       "  Data(x=[70, 14], edge_index=[2, 146], y=[1], edge_mask=[146], num_classes=2, num_nodes=70),\n",
       "  Data(x=[16, 14], edge_index=[2, 34], y=[1], edge_mask=[34], num_classes=2, num_nodes=16),\n",
       "  Data(x=[78, 14], edge_index=[2, 162], y=[1], edge_mask=[162], num_classes=2, num_nodes=78),\n",
       "  Data(x=[28, 14], edge_index=[2, 58], y=[1], edge_mask=[58], num_classes=2, num_nodes=28),\n",
       "  Data(x=[25, 14], edge_index=[2, 50], y=[1], edge_mask=[50], num_classes=2, num_nodes=25),\n",
       "  Data(x=[22, 14], edge_index=[2, 48], y=[1], edge_mask=[48], num_classes=2, num_nodes=22),\n",
       "  Data(x=[32, 14], edge_index=[2, 70], y=[1], edge_mask=[70], num_classes=2, num_nodes=32),\n",
       "  Data(x=[18, 14], edge_index=[2, 34], y=[1], edge_mask=[34], num_classes=2, num_nodes=18),\n",
       "  Data(x=[22, 14], edge_index=[2, 44], y=[1], edge_mask=[44], num_classes=2, num_nodes=22),\n",
       "  Data(x=[22, 14], edge_index=[2, 44], y=[1], edge_mask=[44], num_classes=2, num_nodes=22),\n",
       "  Data(x=[39, 14], edge_index=[2, 82], y=[1], edge_mask=[82], num_classes=2, num_nodes=39),\n",
       "  Data(x=[27, 14], edge_index=[2, 58], y=[1], edge_mask=[58], num_classes=2, num_nodes=27),\n",
       "  Data(x=[30, 14], edge_index=[2, 62], y=[1], edge_mask=[62], num_classes=2, num_nodes=30),\n",
       "  Data(x=[17, 14], edge_index=[2, 36], y=[1], edge_mask=[36], num_classes=2, num_nodes=17),\n",
       "  Data(x=[16, 14], edge_index=[2, 34], y=[1], edge_mask=[34], num_classes=2, num_nodes=16),\n",
       "  Data(x=[16, 14], edge_index=[2, 34], y=[1], edge_mask=[34], num_classes=2, num_nodes=16),\n",
       "  Data(x=[31, 14], edge_index=[2, 64], y=[1], edge_mask=[64], num_classes=2, num_nodes=31),\n",
       "  Data(x=[33, 14], edge_index=[2, 74], y=[1], edge_mask=[74], num_classes=2, num_nodes=33),\n",
       "  Data(x=[30, 14], edge_index=[2, 64], y=[1], edge_mask=[64], num_classes=2, num_nodes=30),\n",
       "  Data(x=[17, 14], edge_index=[2, 34], y=[1], edge_mask=[34], num_classes=2, num_nodes=17),\n",
       "  Data(x=[26, 14], edge_index=[2, 54], y=[1], edge_mask=[54], num_classes=2, num_nodes=26),\n",
       "  Data(x=[23, 14], edge_index=[2, 46], y=[1], edge_mask=[46], num_classes=2, num_nodes=23),\n",
       "  Data(x=[41, 14], edge_index=[2, 82], y=[1], edge_mask=[82], num_classes=2, num_nodes=41),\n",
       "  Data(x=[18, 14], edge_index=[2, 38], y=[1], edge_mask=[38], num_classes=2, num_nodes=18),\n",
       "  Data(x=[21, 14], edge_index=[2, 42], y=[1], edge_mask=[42], num_classes=2, num_nodes=21),\n",
       "  Data(x=[27, 14], edge_index=[2, 56], y=[1], edge_mask=[56], num_classes=2, num_nodes=27),\n",
       "  Data(x=[24, 14], edge_index=[2, 52], y=[1], edge_mask=[52], num_classes=2, num_nodes=24),\n",
       "  Data(x=[22, 14], edge_index=[2, 44], y=[1], edge_mask=[44], num_classes=2, num_nodes=22),\n",
       "  Data(x=[82, 14], edge_index=[2, 164], y=[1], edge_mask=[164], num_classes=2, num_nodes=82),\n",
       "  Data(x=[25, 14], edge_index=[2, 54], y=[1], edge_mask=[54], num_classes=2, num_nodes=25),\n",
       "  Data(x=[29, 14], edge_index=[2, 60], y=[1], edge_mask=[60], num_classes=2, num_nodes=29),\n",
       "  Data(x=[25, 14], edge_index=[2, 52], y=[1], edge_mask=[52], num_classes=2, num_nodes=25),\n",
       "  Data(x=[16, 14], edge_index=[2, 32], y=[1], edge_mask=[32], num_classes=2, num_nodes=16),\n",
       "  Data(x=[17, 14], edge_index=[2, 34], y=[1], edge_mask=[34], num_classes=2, num_nodes=17),\n",
       "  Data(x=[17, 14], edge_index=[2, 36], y=[1], edge_mask=[36], num_classes=2, num_nodes=17),\n",
       "  Data(x=[18, 14], edge_index=[2, 36], y=[1], edge_mask=[36], num_classes=2, num_nodes=18),\n",
       "  Data(x=[7, 14], edge_index=[2, 12], y=[1], edge_mask=[12], num_classes=2, num_nodes=7),\n",
       "  Data(x=[42, 14], edge_index=[2, 88], y=[1], edge_mask=[88], num_classes=2, num_nodes=42),\n",
       "  Data(x=[14, 14], edge_index=[2, 28], y=[1], edge_mask=[28], num_classes=2, num_nodes=14),\n",
       "  Data(x=[32, 14], edge_index=[2, 64], y=[1], edge_mask=[64], num_classes=2, num_nodes=32),\n",
       "  Data(x=[21, 14], edge_index=[2, 42], y=[1], edge_mask=[42], num_classes=2, num_nodes=21),\n",
       "  Data(x=[26, 14], edge_index=[2, 56], y=[1], edge_mask=[56], num_classes=2, num_nodes=26),\n",
       "  Data(x=[79, 14], edge_index=[2, 162], y=[1], edge_mask=[162], num_classes=2, num_nodes=79),\n",
       "  Data(x=[33, 14], edge_index=[2, 74], y=[1], edge_mask=[74], num_classes=2, num_nodes=33),\n",
       "  Data(x=[19, 14], edge_index=[2, 38], y=[1], edge_mask=[38], num_classes=2, num_nodes=19),\n",
       "  Data(x=[23, 14], edge_index=[2, 44], y=[1], edge_mask=[44], num_classes=2, num_nodes=23),\n",
       "  Data(x=[26, 14], edge_index=[2, 56], y=[1], edge_mask=[56], num_classes=2, num_nodes=26),\n",
       "  Data(x=[31, 14], edge_index=[2, 70], y=[1], edge_mask=[70], num_classes=2, num_nodes=31),\n",
       "  Data(x=[24, 14], edge_index=[2, 50], y=[1], edge_mask=[50], num_classes=2, num_nodes=24),\n",
       "  Data(x=[18, 14], edge_index=[2, 36], y=[1], edge_mask=[36], num_classes=2, num_nodes=18),\n",
       "  Data(x=[26, 14], edge_index=[2, 56], y=[1], edge_mask=[56], num_classes=2, num_nodes=26),\n",
       "  Data(x=[29, 14], edge_index=[2, 60], y=[1], edge_mask=[60], num_classes=2, num_nodes=29),\n",
       "  Data(x=[17, 14], edge_index=[2, 34], y=[1], edge_mask=[34], num_classes=2, num_nodes=17),\n",
       "  Data(x=[22, 14], edge_index=[2, 46], y=[1], edge_mask=[46], num_classes=2, num_nodes=22),\n",
       "  Data(x=[30, 14], edge_index=[2, 66], y=[1], edge_mask=[66], num_classes=2, num_nodes=30),\n",
       "  Data(x=[40, 14], edge_index=[2, 88], y=[1], edge_mask=[88], num_classes=2, num_nodes=40),\n",
       "  Data(x=[23, 14], edge_index=[2, 50], y=[1], edge_mask=[50], num_classes=2, num_nodes=23),\n",
       "  Data(x=[16, 14], edge_index=[2, 30], y=[1], edge_mask=[30], num_classes=2, num_nodes=16),\n",
       "  Data(x=[24, 14], edge_index=[2, 52], y=[1], edge_mask=[52], num_classes=2, num_nodes=24),\n",
       "  Data(x=[30, 14], edge_index=[2, 66], y=[1], edge_mask=[66], num_classes=2, num_nodes=30),\n",
       "  Data(x=[27, 14], edge_index=[2, 56], y=[1], edge_mask=[56], num_classes=2, num_nodes=27),\n",
       "  Data(x=[15, 14], edge_index=[2, 28], y=[1], edge_mask=[28], num_classes=2, num_nodes=15),\n",
       "  Data(x=[44, 14], edge_index=[2, 86], y=[1], edge_mask=[86], num_classes=2, num_nodes=44),\n",
       "  ...],\n",
       " 2)"
      ]
     },
     "execution_count": 25,
     "metadata": {},
     "output_type": "execute_result"
    }
   ],
   "source": [
    "did = 1\n",
    "models = dataset_models[did]\n",
    "dataset_name, data_list, num_classes = datasets[did]\n",
    "dataset_name, data_list, num_classes"
   ]
  },
  {
   "cell_type": "code",
   "execution_count": 26,
   "id": "209c251aa975b9ef",
   "metadata": {
    "ExecuteTime": {
     "end_time": "2025-05-16T01:50:39.268790Z",
     "start_time": "2025-05-16T01:50:38.984416Z"
    }
   },
   "outputs": [
    {
     "data": {
      "text/plain": [
       "102"
      ]
     },
     "execution_count": 26,
     "metadata": {},
     "output_type": "execute_result"
    }
   ],
   "source": [
    "train_size = int(0.8 * len(data_list))\n",
    "val_size = int(0.1 * len(data_list))\n",
    "test_data_list = data_list[train_size + val_size:]\n",
    "len(test_data_list)"
   ]
  },
  {
   "cell_type": "code",
   "execution_count": 27,
   "id": "a295bf39451e5eac",
   "metadata": {
    "ExecuteTime": {
     "end_time": "2025-05-16T01:50:40.428592Z",
     "start_time": "2025-05-16T01:50:40.166270Z"
    }
   },
   "outputs": [
    {
     "data": {
      "text/plain": [
       "('gcn',\n",
       " GC_GNN(\n",
       "   (model): GCN(-1, 20, num_layers=3)\n",
       "   (criterion): BCEWithLogitsLoss()\n",
       "   (lin): Linear(in_features=20, out_features=1, bias=True)\n",
       " ))"
      ]
     },
     "execution_count": 27,
     "metadata": {},
     "output_type": "execute_result"
    }
   ],
   "source": [
    "model_name, model = models[0]\n",
    "model_name, model"
   ]
  },
  {
   "cell_type": "code",
   "execution_count": 28,
   "id": "bc63c89dadd9dd68",
   "metadata": {
    "ExecuteTime": {
     "end_time": "2025-05-16T01:50:42.907694Z",
     "start_time": "2025-05-16T01:50:42.178507Z"
    }
   },
   "outputs": [
    {
     "data": {
      "text/plain": [
       "0.7450980392156863"
      ]
     },
     "execution_count": 28,
     "metadata": {},
     "output_type": "execute_result"
    }
   ],
   "source": [
    "# evaluate model on test_data_list\n",
    "acc = 0\n",
    "for data in test_data_list:\n",
    "    pred = (model(data.x, data.edge_index).sigmoid() > 0.5).long()\n",
    "    acc += pred.eq(data.y).sum().item()\n",
    "acc / len(test_data_list)"
   ]
  },
  {
   "cell_type": "markdown",
   "id": "240fd6d2",
   "metadata": {},
   "source": [
    "# Explainers"
   ]
  },
  {
   "cell_type": "code",
   "execution_count": 56,
   "id": "fa85ba76edbebe27",
   "metadata": {
    "ExecuteTime": {
     "end_time": "2025-05-16T01:50:45.956456Z",
     "start_time": "2025-05-16T01:50:45.692412Z"
    }
   },
   "outputs": [
    {
     "data": {
      "text/plain": [
       "Data(x=[70, 14], edge_index=[2, 146], y=[1], edge_mask=[146], num_classes=2, num_nodes=70)"
      ]
     },
     "execution_count": 56,
     "metadata": {},
     "output_type": "execute_result"
    }
   ],
   "source": [
    "test_graph_idx = 24\n",
    "data = test_data_list[test_graph_idx]\n",
    "data"
   ]
  },
  {
   "cell_type": "markdown",
   "id": "ba3d6f32cf11ff09",
   "metadata": {},
   "source": [
    "## Random"
   ]
  },
  {
   "cell_type": "code",
   "execution_count": 57,
   "id": "736e2bc9306a2074",
   "metadata": {
    "ExecuteTime": {
     "end_time": "2025-05-16T01:50:53.602304Z",
     "start_time": "2025-05-16T01:50:53.324436Z"
    }
   },
   "outputs": [
    {
     "data": {
      "text/plain": [
       "Explanation(node_mask=[70, 1], edge_mask=[146], target=[1], x=[70, 14], edge_index=[2, 146])"
      ]
     },
     "execution_count": 57,
     "metadata": {},
     "output_type": "execute_result"
    }
   ],
   "source": [
    "explainer_name = explainer_names[0]\n",
    "explainer = get_explainer(explainer_name, explainer_config, model, model_config)\n",
    "explanation = explainer(data.x, data.edge_index, target=data.y)\n",
    "explanation"
   ]
  },
  {
   "cell_type": "code",
   "execution_count": 48,
   "id": "1636bcfea9e6f29",
   "metadata": {
    "ExecuteTime": {
     "end_time": "2025-05-16T01:58:21.090280Z",
     "start_time": "2025-05-16T01:58:19.156256Z"
    }
   },
   "outputs": [
    {
     "data": {
      "text/plain": [
       "{'accuracy': 0.477629878357345,\n",
       " 'precision': 0.14106755,\n",
       " 'recall': 0.14106755,\n",
       " 'iou': 0.086317845,\n",
       " 'fid+': 0.37254901960784315,\n",
       " 'fid-': 0.2647058823529412,\n",
       " 'unfaithfulness': 0.0,\n",
       " 'characterization_score': 0.4945340968245706,\n",
       " 'inference_time': 0.00023971118179022096}"
      ]
     },
     "execution_count": 48,
     "metadata": {},
     "output_type": "execute_result"
    }
   ],
   "source": [
    "evaluate_gc_explainer_on_data(explainer, test_data_list, metric_names)"
   ]
  },
  {
   "cell_type": "code",
   "execution_count": null,
   "id": "8aea28167e8621a8",
   "metadata": {
    "ExecuteTime": {
     "end_time": "2025-05-16T01:58:05.291995Z",
     "start_time": "2025-05-16T01:58:04.363340Z"
    }
   },
   "outputs": [],
   "source": [
    "eval_metrics = evaluate_gc_explainer(model_path, explainer_name, explainer_config, datasets, metric_names, std=std)\n",
    "eval_metrics_df = evaluation_df(eval_metrics, gc_datasets, metric_names)\n",
    "eval_metrics_df"
   ]
  },
  {
   "cell_type": "markdown",
   "id": "a5b49871c45c7ea0",
   "metadata": {},
   "source": [
    "## GNNExplainer"
   ]
  },
  {
   "cell_type": "code",
   "execution_count": 61,
   "id": "360ca838329f1a12",
   "metadata": {
    "ExecuteTime": {
     "end_time": "2025-05-15T13:05:59.683879Z",
     "start_time": "2025-05-15T13:05:56.117581Z"
    }
   },
   "outputs": [
    {
     "data": {
      "text/plain": [
       "Explanation(node_mask=[70, 1], edge_mask=[146], target=[1, 1], x=[70, 14], edge_index=[2, 146])"
      ]
     },
     "execution_count": 61,
     "metadata": {},
     "output_type": "execute_result"
    }
   ],
   "source": [
    "explainer_name = explainer_names[1]\n",
    "explainer = get_explainer(explainer_name, explainer_config, model, model_config)\n",
    "explanation = explainer(data.x, data.edge_index, target=data.y.unsqueeze(0))\n",
    "explanation"
   ]
  },
  {
   "cell_type": "code",
   "execution_count": null,
   "id": "e31dab3fc48154bd",
   "metadata": {
    "ExecuteTime": {
     "end_time": "2025-05-15T13:05:32.635511Z",
     "start_time": "2025-05-15T13:05:27.274411Z"
    }
   },
   "outputs": [
    {
     "name": "stderr",
     "output_type": "stream",
     "text": [
      "c:\\Users\\DMSS_\\miniconda3\\envs\\thesis-code\\lib\\site-packages\\torch_geometric\\explain\\metric\\fidelity.py:131: RuntimeWarning: divide by zero encountered in scalar divide\n",
      "  denom = (pos_weight / pos_fidelity) + (neg_weight / (1. - neg_fidelity))\n"
     ]
    },
    {
     "data": {
      "text/plain": [
       "{'accuracy': 1.0,\n",
       " 'precision': 1.0,\n",
       " 'recall': 1.0,\n",
       " 'iou': 1.0,\n",
       " 'fid+': 0.0,\n",
       " 'fid-': 0.0,\n",
       " 'unfaithfulness': 0.0,\n",
       " 'characterization_score': 0.0,\n",
       " 'inference_time': 1.0242867469787598}"
      ]
     },
     "execution_count": 62,
     "metadata": {},
     "output_type": "execute_result"
    }
   ],
   "source": [
    "evaluate_gc_explainer_on_data(explainer, test_data_list, metric_names)"
   ]
  },
  {
   "cell_type": "code",
   "execution_count": null,
   "id": "60265e27",
   "metadata": {},
   "outputs": [],
   "source": [
    "eval_metrics = evaluate_gc_explainer(model_path, explainer_name, explainer_config, datasets, metric_names, std=std)\n",
    "eval_metrics_df = evaluation_df(eval_metrics, gc_datasets, metric_names)\n",
    "eval_metrics_df"
   ]
  },
  {
   "cell_type": "markdown",
   "id": "f45e6231b94db5bc",
   "metadata": {},
   "source": [
    "## PGExplainer"
   ]
  },
  {
   "cell_type": "code",
   "execution_count": null,
   "id": "dce9468bc772268",
   "metadata": {
    "ExecuteTime": {
     "end_time": "2025-05-15T13:13:29.944288Z",
     "start_time": "2025-05-15T13:13:29.436414Z"
    }
   },
   "outputs": [
    {
     "name": "stdout",
     "output_type": "stream",
     "text": [
      "PGExplainer took 1.07 minutes to train. Best loss: 0.4581\n"
     ]
    }
   ],
   "source": [
    "explainer_name = explainer_names[2]\n",
    "explainer = get_explainer(explainer_name, explainer_config, model, model_config, dataset=test_data_list)"
   ]
  },
  {
   "cell_type": "code",
   "execution_count": 64,
   "id": "20d66314",
   "metadata": {},
   "outputs": [
    {
     "data": {
      "text/plain": [
       "Explanation(edge_mask=[146], target=[1], x=[70, 14], edge_index=[2, 146])"
      ]
     },
     "execution_count": 64,
     "metadata": {},
     "output_type": "execute_result"
    }
   ],
   "source": [
    "explanation = explainer(data.x, data.edge_index, target=data.y)\n",
    "explanation"
   ]
  },
  {
   "cell_type": "code",
   "execution_count": null,
   "id": "23d9657e42b2ce74",
   "metadata": {
    "ExecuteTime": {
     "end_time": "2025-05-15T13:17:32.363801Z",
     "start_time": "2025-05-15T13:17:31.638714Z"
    }
   },
   "outputs": [
    {
     "name": "stderr",
     "output_type": "stream",
     "text": [
      "c:\\Users\\DMSS_\\miniconda3\\envs\\thesis-code\\lib\\site-packages\\torch_geometric\\explain\\metric\\fidelity.py:131: RuntimeWarning: divide by zero encountered in scalar divide\n",
      "  denom = (pos_weight / pos_fidelity) + (neg_weight / (1. - neg_fidelity))\n"
     ]
    },
    {
     "data": {
      "text/plain": [
       "{'accuracy': 0.6535714268684387,\n",
       " 'precision': 0.0,\n",
       " 'recall': 0.0,\n",
       " 'iou': 0.0,\n",
       " 'fid+': 0.0,\n",
       " 'fid-': 0.5,\n",
       " 'unfaithfulness': 0.0,\n",
       " 'characterization_score': 0.0,\n",
       " 'inference_time': 0.003965973854064941}"
      ]
     },
     "execution_count": 65,
     "metadata": {},
     "output_type": "execute_result"
    }
   ],
   "source": [
    "evaluate_gc_explainer_on_data(explainer, test_data_list, metric_names)"
   ]
  },
  {
   "cell_type": "code",
   "execution_count": null,
   "id": "eca8b860",
   "metadata": {},
   "outputs": [],
   "source": [
    "eval_metrics = evaluate_gc_explainer(model_path, explainer_name, explainer_config, datasets, metric_names, std=std)\n",
    "eval_metrics_df = evaluation_df(eval_metrics, gc_datasets, metric_names)\n",
    "eval_metrics_df"
   ]
  },
  {
   "cell_type": "markdown",
   "id": "baf4f9fd1513ddc7",
   "metadata": {},
   "source": [
    "## SubgraphX"
   ]
  },
  {
   "cell_type": "code",
   "execution_count": 66,
   "id": "5dab3c651be5a037",
   "metadata": {
    "ExecuteTime": {
     "end_time": "2025-05-15T13:25:57.064151Z",
     "start_time": "2025-05-15T13:25:56.064646Z"
    }
   },
   "outputs": [
    {
     "name": "stdout",
     "output_type": "stream",
     "text": [
      "The nodes in graph is Data(x=[70, 14], edge_index=[2, 146])\n",
      "At the 0 rollout, 311states that have been explored.\n",
      "At the 1 rollout, 311states that have been explored.\n",
      "At the 2 rollout, 311states that have been explored.\n",
      "At the 3 rollout, 311states that have been explored.\n",
      "At the 4 rollout, 311states that have been explored.\n",
      "At the 5 rollout, 311states that have been explored.\n",
      "At the 6 rollout, 311states that have been explored.\n",
      "At the 7 rollout, 311states that have been explored.\n",
      "At the 8 rollout, 311states that have been explored.\n",
      "At the 9 rollout, 311states that have been explored.\n"
     ]
    },
    {
     "data": {
      "text/plain": [
       "Explanation(\n",
       "  x=[70, 14],\n",
       "  edge_index=[2, 146],\n",
       "  node_mask=[70, 1],\n",
       "  edge_mask=[146],\n",
       "  results=[311],\n",
       "  related_pred={\n",
       "    masked=1.0,\n",
       "    maskout=1.0,\n",
       "    origin=1.0,\n",
       "    sparsity=0.9285714285714286,\n",
       "  },\n",
       "  masked_node_list=[5],\n",
       "  explained_edge_list=[2, 8],\n",
       "  target=[1]\n",
       ")"
      ]
     },
     "execution_count": 66,
     "metadata": {},
     "output_type": "execute_result"
    }
   ],
   "source": [
    "explainer_name = explainer_names[3]\n",
    "explainer = get_explainer(explainer_name, explainer_config, model, model_config)\n",
    "explanation = explainer(data.x, data.edge_index, target=data.y)\n",
    "explanation"
   ]
  },
  {
   "cell_type": "code",
   "execution_count": null,
   "id": "23c36556bbd2bb0b",
   "metadata": {
    "ExecuteTime": {
     "end_time": "2025-05-15T13:26:05.036128Z",
     "start_time": "2025-05-15T13:26:00.323303Z"
    }
   },
   "outputs": [
    {
     "name": "stdout",
     "output_type": "stream",
     "text": [
      "The nodes in graph is Data(x=[20, 14], edge_index=[2, 42])\n",
      "At the 0 rollout, 89states that have been explored.\n",
      "At the 1 rollout, 89states that have been explored.\n",
      "At the 2 rollout, 89states that have been explored.\n",
      "At the 3 rollout, 89states that have been explored.\n",
      "At the 4 rollout, 89states that have been explored.\n",
      "At the 5 rollout, 89states that have been explored.\n",
      "At the 6 rollout, 89states that have been explored.\n",
      "At the 7 rollout, 89states that have been explored.\n",
      "At the 8 rollout, 89states that have been explored.\n",
      "At the 9 rollout, 89states that have been explored.\n",
      "The nodes in graph is Data(x=[35, 14], edge_index=[2, 78])\n",
      "At the 0 rollout, 235states that have been explored.\n",
      "At the 1 rollout, 235states that have been explored.\n",
      "At the 2 rollout, 235states that have been explored.\n",
      "At the 3 rollout, 235states that have been explored.\n",
      "At the 4 rollout, 235states that have been explored.\n",
      "At the 5 rollout, 235states that have been explored.\n",
      "At the 6 rollout, 235states that have been explored.\n",
      "At the 7 rollout, 235states that have been explored.\n",
      "At the 8 rollout, 235states that have been explored.\n",
      "At the 9 rollout, 235states that have been explored.\n"
     ]
    },
    {
     "data": {
      "text/plain": [
       "{'accuracy': 0.6857143044471741,\n",
       " 'precision': 0.0,\n",
       " 'recall': 0.0,\n",
       " 'iou': 0.0,\n",
       " 'fid+': 0.0,\n",
       " 'fid-': 0.0,\n",
       " 'unfaithfulness': 0.0,\n",
       " 'characterization_score': 0.0,\n",
       " 'inference_time': 1.3401110172271729}"
      ]
     },
     "execution_count": 67,
     "metadata": {},
     "output_type": "execute_result"
    }
   ],
   "source": [
    "evaluate_gc_explainer_on_data(explainer, test_data_list, metric_names)"
   ]
  },
  {
   "cell_type": "code",
   "execution_count": null,
   "id": "d6a26af0",
   "metadata": {},
   "outputs": [],
   "source": [
    "eval_metrics = evaluate_gc_explainer(model_path, explainer_name, explainer_config, datasets, metric_names, std=std)\n",
    "eval_metrics_df = evaluation_df(eval_metrics, gc_datasets, metric_names)\n",
    "eval_metrics_df"
   ]
  },
  {
   "cell_type": "markdown",
   "id": "51f094f90c0a0e7a",
   "metadata": {},
   "source": [
    "## CIExplainer"
   ]
  },
  {
   "cell_type": "code",
   "execution_count": 71,
   "id": "a56cb2c7cf4fd3d2",
   "metadata": {
    "ExecuteTime": {
     "end_time": "2025-05-15T13:27:02.675522Z",
     "start_time": "2025-05-15T13:27:01.876996Z"
    }
   },
   "outputs": [
    {
     "data": {
      "text/plain": [
       "Explanation(node_mask=[70, 1], edge_mask=[146], target=[1], x=[70, 14], edge_index=[2, 146])"
      ]
     },
     "execution_count": 71,
     "metadata": {},
     "output_type": "execute_result"
    }
   ],
   "source": [
    "explainer_name = explainer_names[4]\n",
    "explainer = get_explainer(explainer_name, explainer_config, model, model_config, dataset=test_data_list)\n",
    "target = torch.sigmoid(model(data.x, data.edge_index)).view(-1)\n",
    "explanation = explainer(data.x, data.edge_index, target=target)\n",
    "explanation"
   ]
  },
  {
   "cell_type": "code",
   "execution_count": null,
   "id": "fb3a4e0c9705d73a",
   "metadata": {
    "ExecuteTime": {
     "end_time": "2025-05-15T13:27:12.516004Z",
     "start_time": "2025-05-15T13:27:11.030284Z"
    }
   },
   "outputs": [
    {
     "name": "stderr",
     "output_type": "stream",
     "text": [
      "c:\\Users\\DMSS_\\miniconda3\\envs\\thesis-code\\lib\\site-packages\\torch_geometric\\explain\\metric\\fidelity.py:131: RuntimeWarning: divide by zero encountered in scalar divide\n",
      "  denom = (pos_weight / pos_fidelity) + (neg_weight / (1. - neg_fidelity))\n"
     ]
    },
    {
     "data": {
      "text/plain": [
       "{'accuracy': 0.8852207899093628,\n",
       " 'precision': 0.0,\n",
       " 'recall': 0.0,\n",
       " 'iou': 0.0,\n",
       " 'fid+': 0.0,\n",
       " 'fid-': 0.4,\n",
       " 'unfaithfulness': 0.0,\n",
       " 'characterization_score': 0.0,\n",
       " 'inference_time': 0.002267122268676758}"
      ]
     },
     "execution_count": 72,
     "metadata": {},
     "output_type": "execute_result"
    }
   ],
   "source": [
    "evaluate_gc_explainer_on_data(explainer, test_data_list, metric_names)"
   ]
  },
  {
   "cell_type": "code",
   "execution_count": null,
   "id": "51229e11e482934",
   "metadata": {},
   "outputs": [],
   "source": [
    "eval_metrics = evaluate_gc_explainer(model_path, explainer_name, explainer_config, datasets, metric_names, std=std)\n",
    "eval_metrics_df = evaluation_df(eval_metrics, gc_datasets, metric_names)\n",
    "eval_metrics_df"
   ]
  }
 ],
 "metadata": {
  "kernelspec": {
   "display_name": "thesis-code",
   "language": "python",
   "name": "python3"
  },
  "language_info": {
   "codemirror_mode": {
    "name": "ipython",
    "version": 3
   },
   "file_extension": ".py",
   "mimetype": "text/x-python",
   "name": "python",
   "nbconvert_exporter": "python",
   "pygments_lexer": "ipython3",
   "version": "3.9.18"
  }
 },
 "nbformat": 4,
 "nbformat_minor": 5
}
