{
 "cells": [
  {
   "cell_type": "code",
   "execution_count": 1,
   "id": "initial_id",
   "metadata": {
    "ExecuteTime": {
     "end_time": "2025-05-16T01:38:25.904429Z",
     "start_time": "2025-05-16T01:38:25.751806Z"
    },
    "collapsed": true
   },
   "outputs": [],
   "source": [
    "import os\n",
    "%load_ext autoreload\n",
    "%autoreload 2\n",
    "#os.environ['CUDA_LAUNCH_BLOCKING'] = '1'"
   ]
  },
  {
   "cell_type": "markdown",
   "id": "b6b9d29eb4238df2",
   "metadata": {},
   "source": [
    "# Import Libraries"
   ]
  },
  {
   "cell_type": "code",
   "execution_count": 2,
   "id": "7f6e5f3f134d8937",
   "metadata": {
    "ExecuteTime": {
     "end_time": "2025-05-16T01:38:43.098997Z",
     "start_time": "2025-05-16T01:38:25.904429Z"
    }
   },
   "outputs": [],
   "source": [
    "import pandas as pd\n",
    "import torch\n",
    "import torch_geometric as pyg\n",
    "\n",
    "from torch_geometric.explain import ExplainerConfig, ModelConfig\n",
    "from torch_geometric.explain.config import ModelMode \n",
    "\n",
    "from model_store import get_gnn, model_names\n",
    "from data_store import get_lp_dataset, lp_datasets\n",
    "from explainer_store import get_explainer, explainer_names\n",
    "from explain_lp import evaluate_lp_explainer, evaluate_lp_explainer_on_data\n",
    "from utils import setup_models, get_motif_nodes"
   ]
  },
  {
   "cell_type": "code",
   "execution_count": 3,
   "id": "791ca815b9cef262",
   "metadata": {
    "ExecuteTime": {
     "end_time": "2025-05-16T01:38:43.362999Z",
     "start_time": "2025-05-16T01:38:43.098997Z"
    }
   },
   "outputs": [],
   "source": [
    "device = 'cpu'#torch.device('cuda' if torch.cuda.is_available() else 'cpu')"
   ]
  },
  {
   "cell_type": "code",
   "execution_count": 4,
   "id": "44cb2974ffcd6a86",
   "metadata": {
    "ExecuteTime": {
     "end_time": "2025-05-16T01:38:43.619757Z",
     "start_time": "2025-05-16T01:38:43.362999Z"
    }
   },
   "outputs": [],
   "source": [
    "dataset_path = 'datasets/'\n",
    "model_path = 'models/'\n",
    "model_name = 'all'\n",
    "stds = ['00', '01', '02', '03', '04', '05', '06', '07', '08', '09', '10']\n",
    "std = stds[4]"
   ]
  },
  {
   "cell_type": "code",
   "execution_count": 5,
   "id": "fa31da9eb88f8535",
   "metadata": {
    "ExecuteTime": {
     "end_time": "2025-05-16T01:38:44.647592Z",
     "start_time": "2025-05-16T01:38:44.154635Z"
    }
   },
   "outputs": [],
   "source": [
    "gcn = pyg.nn.GCN(in_channels=-1, hidden_channels=1, num_layers=1)\n",
    "grapsage = pyg.nn.GraphSAGE(in_channels=-1, hidden_channels=1, num_layers=1)\n",
    "gat = pyg.nn.GAT(in_channels=-1, hidden_channels=1, num_layers=1)\n",
    "gin = pyg.nn.GIN(in_channels=-1, hidden_channels=1, num_layers=1)"
   ]
  },
  {
   "cell_type": "markdown",
   "id": "19df23615f647196",
   "metadata": {},
   "source": [
    "# Explain Link Predictions"
   ]
  },
  {
   "cell_type": "code",
   "execution_count": 6,
   "id": "db234f2a0408f5de",
   "metadata": {
    "ExecuteTime": {
     "end_time": "2025-05-16T01:38:44.911581Z",
     "start_time": "2025-05-16T01:38:44.647592Z"
    }
   },
   "outputs": [],
   "source": [
    "metric_names = ['accuracy', 'precision', 'recall', 'iou', 'fid+', 'fid-', 'unfaithfulness', 'characterization_score',\n",
    "                'inference_time']\n",
    "explainer_config = ExplainerConfig(\n",
    "    explanation_type='phenomenon',\n",
    "    node_mask_type='object',\n",
    "    edge_mask_type='object',\n",
    ")"
   ]
  },
  {
   "cell_type": "code",
   "execution_count": 7,
   "id": "8ace3b3bed16588b",
   "metadata": {
    "ExecuteTime": {
     "end_time": "2025-05-16T01:38:45.182563Z",
     "start_time": "2025-05-16T01:38:44.911581Z"
    }
   },
   "outputs": [],
   "source": [
    "def evaluation_df(eval_data, dataset_names, metric_names):\n",
    "    # Flatten the nested dictionary into a list of rows\n",
    "    rows = []\n",
    "    for (explainer, model), dataset_metrics in eval_data.items():\n",
    "        for dataset in dataset_names:\n",
    "            row = {\n",
    "                'explainer': explainer,\n",
    "                'dataset': dataset\n",
    "            }\n",
    "\n",
    "            # Split the model name into 'model' (before the hyphen) and 'std' (after the hyphen)\n",
    "            model_parts = model.split('-')\n",
    "            if len(model_parts) == 2:\n",
    "                row['model'] = model_parts[0]  # e.g., 'gcn'\n",
    "                row['std'] = model_parts[1]  # e.g., '00' (store as 'std')\n",
    "            else:\n",
    "                row['model'] = model  # If no hyphen, keep the entire model as 'model'\n",
    "                row['std'] = None  # No model ID, set 'std' as None\n",
    "\n",
    "            # Add metric values to the row\n",
    "            for metric in metric_names:\n",
    "                row[metric] = dataset_metrics.get((dataset, metric), None)\n",
    "\n",
    "            rows.append(row)\n",
    "\n",
    "    # Create DataFrame from the list of rows\n",
    "    dataframe = pd.DataFrame(rows)\n",
    "\n",
    "    # Reorder columns: model and std columns should come before accuracy\n",
    "    column_order = ['explainer', 'dataset', 'model', 'std'] + metric_names\n",
    "    dataframe = dataframe[column_order]\n",
    "\n",
    "    return dataframe"
   ]
  },
  {
   "cell_type": "markdown",
   "id": "405b931a0cf58d94",
   "metadata": {},
   "source": [
    "# Load Link Prediction Datasets"
   ]
  },
  {
   "cell_type": "code",
   "execution_count": 9,
   "id": "fbab1bc9af0240f2",
   "metadata": {
    "ExecuteTime": {
     "end_time": "2025-05-15T17:27:32.882609Z",
     "start_time": "2025-05-15T17:27:32.556327Z"
    }
   },
   "outputs": [
    {
     "name": "stdout",
     "output_type": "stream",
     "text": [
      "$$$$$$$$$$$$$$$$$$$$$$$$$$$$$$$$$$$$$$$$$$$$$$$$$$$$$$$$$$$$$$$$$$$$$$$$$$$$$$$$$$$$$$$$$$$$$$$$$$$$$\n",
      "ba_shapes_link with 04 standard deviation pickle file information\n",
      "Train data: Data(x=[700, 2], edge_index=[2, 4110], y=[700], edge_label=[3288], edge_label_index=[2, 3288], motif_edge_label=[3288], node_mask=[700])\n",
      "Validation data: Data(x=[700, 2], edge_index=[2, 4110], y=[700], edge_label=[410], edge_label_index=[2, 410], motif_edge_label=[410], node_mask=[700])\n",
      "Test data: Data(x=[700, 2], edge_index=[2, 4110], y=[700], edge_label=[410], edge_label_index=[2, 410], motif_edge_label=[410], node_mask=[700])\n",
      "$$$$$$$$$$$$$$$$$$$$$$$$$$$$$$$$$$$$$$$$$$$$$$$$$$$$$$$$$$$$$$$$$$$$$$$$$$$$$$$$$$$$$$$$$$$$$$$$$$$$$\n",
      "tree_grid_link with 04 standard deviation pickle file information\n",
      "Train data: Data(x=[1231, 2], edge_index=[2, 3130], y=[1231], edge_label=[2504], edge_label_index=[2, 2504], motif_edge_label=[2504], node_mask=[1231])\n",
      "Validation data: Data(x=[1231, 2], edge_index=[2, 3130], y=[1231], edge_label=[312], edge_label_index=[2, 312], motif_edge_label=[312], node_mask=[1231])\n",
      "Test data: Data(x=[1231, 2], edge_index=[2, 3130], y=[1231], edge_label=[312], edge_label_index=[2, 312], motif_edge_label=[312], node_mask=[1231])\n"
     ]
    }
   ],
   "source": [
    "datasets = get_lp_dataset(dataset_path, 'all', std=std)\n",
    "for idx, (dataset_name, train_data, val_data, test_data) in enumerate(datasets):\n",
    "        datasets[idx] = (dataset_name, train_data.to(device), val_data.to(device), test_data.to(device))"
   ]
  },
  {
   "cell_type": "markdown",
   "id": "117917f0642d03d8",
   "metadata": {},
   "source": [
    "## Load Link Prediction Models"
   ]
  },
  {
   "cell_type": "code",
   "execution_count": 10,
   "id": "4bc7e2d276a584b2",
   "metadata": {
    "ExecuteTime": {
     "end_time": "2025-05-15T17:27:58.118983Z",
     "start_time": "2025-05-15T17:27:57.834683Z"
    }
   },
   "outputs": [],
   "source": [
    "task = 'lp'\n",
    "dataset_models = []"
   ]
  },
  {
   "cell_type": "markdown",
   "id": "2ee81288f32c236d",
   "metadata": {},
   "source": [
    "### BA-Shapes-Link"
   ]
  },
  {
   "cell_type": "code",
   "execution_count": 11,
   "id": "74d40c353137e746",
   "metadata": {},
   "outputs": [],
   "source": [
    "basl_models = get_gnn(model_path, task, model_name, 'ba_shapes_link', std=std)\n",
    "basl_models = setup_models(basl_models, device)\n",
    "dataset_models.append(basl_models)"
   ]
  },
  {
   "cell_type": "markdown",
   "id": "1e243e5bbfc0e026",
   "metadata": {},
   "source": [
    "### Tree-Grid-Link"
   ]
  },
  {
   "cell_type": "code",
   "execution_count": 12,
   "id": "3746ab4c22cc4ef4",
   "metadata": {},
   "outputs": [],
   "source": [
    "trgl_models = get_gnn(model_path, task, model_name, 'tree_grid_link', std=std)\n",
    "trgl_models = setup_models(trgl_models, device)\n",
    "dataset_models.append(trgl_models)"
   ]
  },
  {
   "cell_type": "code",
   "execution_count": 13,
   "id": "c67d619e",
   "metadata": {},
   "outputs": [],
   "source": [
    "model_config = ModelConfig(\n",
    "    mode='binary_classification',\n",
    "    task_level='edge',\n",
    "    return_type='raw'\n",
    ")"
   ]
  },
  {
   "cell_type": "code",
   "execution_count": 14,
   "id": "3f7a8e59",
   "metadata": {},
   "outputs": [],
   "source": [
    "did = 0\n",
    "data = datasets[did][-1]\n",
    "models = dataset_models[did]\n",
    "motif_nodes = (data.y > 0).nonzero().view(-1)\n",
    "start = motif_nodes[0].item()\n",
    "end = motif_nodes[-1].item()\n",
    "step = 5 if dataset_name == 'ba_shapes_link' else 9"
   ]
  },
  {
   "cell_type": "code",
   "execution_count": 15,
   "id": "47fbcffd8ffb4c0c",
   "metadata": {
    "ExecuteTime": {
     "end_time": "2025-03-23T18:23:58.224139Z",
     "start_time": "2025-03-23T18:23:57.752588Z"
    }
   },
   "outputs": [
    {
     "data": {
      "text/plain": [
       "LP_GNN(\n",
       "  (model): GCN(-1, 20, num_layers=2)\n",
       "  (criterion): BCEWithLogitsLoss()\n",
       "  (decoder): InnerProductDecoder()\n",
       ")"
      ]
     },
     "execution_count": 15,
     "metadata": {},
     "output_type": "execute_result"
    }
   ],
   "source": [
    "model_name, model = models[0]\n",
    "model"
   ]
  },
  {
   "cell_type": "markdown",
   "id": "eb9bcaf1",
   "metadata": {},
   "source": [
    "# Explainers"
   ]
  },
  {
   "cell_type": "code",
   "execution_count": 16,
   "id": "7fab9b3a7263e882",
   "metadata": {
    "ExecuteTime": {
     "end_time": "2025-05-15T18:23:10.413806Z",
     "start_time": "2025-05-15T18:23:10.149630Z"
    }
   },
   "outputs": [
    {
     "data": {
      "text/plain": [
       "(tensor([[545],\n",
       "         [549]]),\n",
       " tensor([1]))"
      ]
     },
     "execution_count": 16,
     "metadata": {},
     "output_type": "execute_result"
    }
   ],
   "source": [
    "pos_edges = data.edge_label_index[:, (data.motif_edge_label.bool() & data.edge_label.bool())]\n",
    "#pos_edges = data.edge_label_index[:, data.edge_label.bool()]\n",
    "deg = pyg.utils.degree(data.edge_index[0], num_nodes=data.num_nodes)\n",
    "degree_zero_nodes = torch.nonzero(deg == 0, as_tuple=True)[0]\n",
    "source_nodes = pos_edges[0]\n",
    "target_nodes = pos_edges[1]\n",
    "\n",
    "mask = ~torch.isin(source_nodes, degree_zero_nodes) & ~torch.isin(target_nodes, degree_zero_nodes)\n",
    "\n",
    "num_examples = 200\n",
    "edge_label_indices = pos_edges[:, mask][:, :num_examples]\n",
    "\n",
    "idx = 50\n",
    "edge_label_index = edge_label_indices[:, idx].view(-1, 1)\n",
    "target = torch.tensor([1])  #data.edge_label[idx].unsqueeze(dim=0).long()\n",
    "edge_label_index, target"
   ]
  },
  {
   "cell_type": "markdown",
   "id": "bd93a228e8f194b6",
   "metadata": {},
   "source": [
    "## Random"
   ]
  },
  {
   "cell_type": "code",
   "execution_count": 17,
   "id": "5f838057e1365df0",
   "metadata": {
    "ExecuteTime": {
     "end_time": "2025-05-15T19:36:57.558338Z",
     "start_time": "2025-05-15T19:36:57.008189Z"
    }
   },
   "outputs": [
    {
     "data": {
      "text/plain": [
       "Explanation(node_mask=[700, 1], edge_mask=[4110], target=[1], x=[700, 2], edge_index=[2, 4110], edge_label_index=[2, 1])"
      ]
     },
     "execution_count": 17,
     "metadata": {},
     "output_type": "execute_result"
    }
   ],
   "source": [
    "explainer_name = explainer_names[0]\n",
    "explainer = get_explainer(explainer_name, explainer_config, model, model_config)\n",
    "explanation = explainer(data.x, data.edge_index, target=target, edge_label_index=edge_label_index)\n",
    "explanation"
   ]
  },
  {
   "cell_type": "code",
   "execution_count": 18,
   "id": "2a1b77ca689aafbc",
   "metadata": {
    "ExecuteTime": {
     "end_time": "2025-05-15T19:53:32.294859Z",
     "start_time": "2025-05-15T19:53:31.482085Z"
    }
   },
   "outputs": [
    {
     "data": {
      "text/plain": [
       "{'accuracy': 1.0,\n",
       " 'precision': 0.013182675,\n",
       " 'recall': 0.013182675,\n",
       " 'iou': 0.0069790627,\n",
       " 'fid+': 0.06779661016949153,\n",
       " 'fid-': 0.0847457627118644,\n",
       " 'unfaithfulness': 0.0,\n",
       " 'characterization_score': 0.12624196376388078,\n",
       " 'inference_time': 0.00026919882176286084}"
      ]
     },
     "execution_count": 18,
     "metadata": {},
     "output_type": "execute_result"
    }
   ],
   "source": [
    "evaluate_lp_explainer_on_data(explainer, data, edge_label_indices, metric_names, start, end, step)"
   ]
  },
  {
   "cell_type": "code",
   "execution_count": 19,
   "id": "4ad9a4b2aa4fa548",
   "metadata": {},
   "outputs": [
    {
     "name": "stdout",
     "output_type": "stream",
     "text": [
      "-- Evaluating random_explainer explainer on link prediction datasets...\n",
      "--- Evaluating random_explainer explainer on ba_shapes_link dataset...\n",
      "----- Evaluating random_explainer explainer on gcn-04 model...\n",
      "------- Evaluation on gcn-04 model took 0.01 minutes.\n",
      "----- Evaluating random_explainer explainer on graphsage-04 model...\n"
     ]
    },
    {
     "name": "stderr",
     "output_type": "stream",
     "text": [
      "c:\\Users\\DMSS_\\miniconda3\\envs\\thesis-code\\lib\\site-packages\\torch_geometric\\explain\\metric\\fidelity.py:131: RuntimeWarning: divide by zero encountered in scalar divide\n",
      "  denom = (pos_weight / pos_fidelity) + (neg_weight / (1. - neg_fidelity))\n"
     ]
    },
    {
     "name": "stdout",
     "output_type": "stream",
     "text": [
      "------- Evaluation on graphsage-04 model took 0.01 minutes.\n",
      "----- Evaluating random_explainer explainer on gat-04 model...\n",
      "------- Evaluation on gat-04 model took 0.02 minutes.\n",
      "----- Evaluating random_explainer explainer on gin-04 model...\n",
      "------- Evaluation on gin-04 model took 0.01 minutes.\n",
      "------ Evaluation on ba_shapes_link dataset took 0.04 minutes.\n",
      "--- Evaluating random_explainer explainer on tree_grid_link dataset...\n",
      "----- Evaluating random_explainer explainer on gcn-04 model...\n",
      "------- Evaluation on gcn-04 model took 0.02 minutes.\n",
      "----- Evaluating random_explainer explainer on graphsage-04 model...\n",
      "------- Evaluation on graphsage-04 model took 0.01 minutes.\n",
      "----- Evaluating random_explainer explainer on gat-04 model...\n",
      "------- Evaluation on gat-04 model took 0.02 minutes.\n",
      "----- Evaluating random_explainer explainer on gin-04 model...\n",
      "------- Evaluation on gin-04 model took 0.01 minutes.\n",
      "------ Evaluation on tree_grid_link dataset took 0.07 minutes.\n",
      "--- Evaluation on node classification took 0.11 minutes.\n"
     ]
    },
    {
     "data": {
      "text/html": [
       "<div>\n",
       "<style scoped>\n",
       "    .dataframe tbody tr th:only-of-type {\n",
       "        vertical-align: middle;\n",
       "    }\n",
       "\n",
       "    .dataframe tbody tr th {\n",
       "        vertical-align: top;\n",
       "    }\n",
       "\n",
       "    .dataframe thead th {\n",
       "        text-align: right;\n",
       "    }\n",
       "</style>\n",
       "<table border=\"1\" class=\"dataframe\">\n",
       "  <thead>\n",
       "    <tr style=\"text-align: right;\">\n",
       "      <th></th>\n",
       "      <th>explainer</th>\n",
       "      <th>dataset</th>\n",
       "      <th>model</th>\n",
       "      <th>std</th>\n",
       "      <th>accuracy</th>\n",
       "      <th>precision</th>\n",
       "      <th>recall</th>\n",
       "      <th>iou</th>\n",
       "      <th>fid+</th>\n",
       "      <th>fid-</th>\n",
       "      <th>unfaithfulness</th>\n",
       "      <th>characterization_score</th>\n",
       "      <th>inference_time</th>\n",
       "    </tr>\n",
       "  </thead>\n",
       "  <tbody>\n",
       "    <tr>\n",
       "      <th>0</th>\n",
       "      <td>random_explainer</td>\n",
       "      <td>ba_shapes_link</td>\n",
       "      <td>gcn</td>\n",
       "      <td>04</td>\n",
       "      <td>1.0</td>\n",
       "      <td>0.003390</td>\n",
       "      <td>0.003390</td>\n",
       "      <td>0.001883</td>\n",
       "      <td>0.084746</td>\n",
       "      <td>0.067797</td>\n",
       "      <td>0.0</td>\n",
       "      <td>0.155367</td>\n",
       "      <td>0.000510</td>\n",
       "    </tr>\n",
       "    <tr>\n",
       "      <th>1</th>\n",
       "      <td>random_explainer</td>\n",
       "      <td>tree_grid_link</td>\n",
       "      <td>gcn</td>\n",
       "      <td>04</td>\n",
       "      <td>1.0</td>\n",
       "      <td>0.002554</td>\n",
       "      <td>0.002554</td>\n",
       "      <td>0.001352</td>\n",
       "      <td>0.011494</td>\n",
       "      <td>0.011494</td>\n",
       "      <td>0.0</td>\n",
       "      <td>0.022724</td>\n",
       "      <td>0.000673</td>\n",
       "    </tr>\n",
       "    <tr>\n",
       "      <th>2</th>\n",
       "      <td>random_explainer</td>\n",
       "      <td>ba_shapes_link</td>\n",
       "      <td>graphsage</td>\n",
       "      <td>04</td>\n",
       "      <td>1.0</td>\n",
       "      <td>0.003390</td>\n",
       "      <td>0.003390</td>\n",
       "      <td>0.001883</td>\n",
       "      <td>0.000000</td>\n",
       "      <td>0.000000</td>\n",
       "      <td>0.0</td>\n",
       "      <td>0.000000</td>\n",
       "      <td>0.000388</td>\n",
       "    </tr>\n",
       "    <tr>\n",
       "      <th>3</th>\n",
       "      <td>random_explainer</td>\n",
       "      <td>tree_grid_link</td>\n",
       "      <td>graphsage</td>\n",
       "      <td>04</td>\n",
       "      <td>1.0</td>\n",
       "      <td>0.002554</td>\n",
       "      <td>0.002554</td>\n",
       "      <td>0.001352</td>\n",
       "      <td>0.000000</td>\n",
       "      <td>0.000000</td>\n",
       "      <td>0.0</td>\n",
       "      <td>0.000000</td>\n",
       "      <td>0.000579</td>\n",
       "    </tr>\n",
       "    <tr>\n",
       "      <th>4</th>\n",
       "      <td>random_explainer</td>\n",
       "      <td>ba_shapes_link</td>\n",
       "      <td>gat</td>\n",
       "      <td>04</td>\n",
       "      <td>1.0</td>\n",
       "      <td>0.013559</td>\n",
       "      <td>0.013559</td>\n",
       "      <td>0.007533</td>\n",
       "      <td>0.084746</td>\n",
       "      <td>0.084746</td>\n",
       "      <td>0.0</td>\n",
       "      <td>0.155128</td>\n",
       "      <td>0.000193</td>\n",
       "    </tr>\n",
       "    <tr>\n",
       "      <th>5</th>\n",
       "      <td>random_explainer</td>\n",
       "      <td>tree_grid_link</td>\n",
       "      <td>gat</td>\n",
       "      <td>04</td>\n",
       "      <td>1.0</td>\n",
       "      <td>0.007663</td>\n",
       "      <td>0.007663</td>\n",
       "      <td>0.004057</td>\n",
       "      <td>0.080460</td>\n",
       "      <td>0.045977</td>\n",
       "      <td>0.0</td>\n",
       "      <td>0.148404</td>\n",
       "      <td>0.000283</td>\n",
       "    </tr>\n",
       "    <tr>\n",
       "      <th>6</th>\n",
       "      <td>random_explainer</td>\n",
       "      <td>ba_shapes_link</td>\n",
       "      <td>gin</td>\n",
       "      <td>04</td>\n",
       "      <td>1.0</td>\n",
       "      <td>0.010169</td>\n",
       "      <td>0.010169</td>\n",
       "      <td>0.005650</td>\n",
       "      <td>0.067797</td>\n",
       "      <td>0.050847</td>\n",
       "      <td>0.0</td>\n",
       "      <td>0.126554</td>\n",
       "      <td>0.000191</td>\n",
       "    </tr>\n",
       "    <tr>\n",
       "      <th>7</th>\n",
       "      <td>random_explainer</td>\n",
       "      <td>tree_grid_link</td>\n",
       "      <td>gin</td>\n",
       "      <td>04</td>\n",
       "      <td>1.0</td>\n",
       "      <td>0.008940</td>\n",
       "      <td>0.008940</td>\n",
       "      <td>0.004733</td>\n",
       "      <td>0.000000</td>\n",
       "      <td>0.000000</td>\n",
       "      <td>0.0</td>\n",
       "      <td>0.000000</td>\n",
       "      <td>0.000329</td>\n",
       "    </tr>\n",
       "  </tbody>\n",
       "</table>\n",
       "</div>"
      ],
      "text/plain": [
       "          explainer         dataset      model std  accuracy  precision  \\\n",
       "0  random_explainer  ba_shapes_link        gcn  04       1.0   0.003390   \n",
       "1  random_explainer  tree_grid_link        gcn  04       1.0   0.002554   \n",
       "2  random_explainer  ba_shapes_link  graphsage  04       1.0   0.003390   \n",
       "3  random_explainer  tree_grid_link  graphsage  04       1.0   0.002554   \n",
       "4  random_explainer  ba_shapes_link        gat  04       1.0   0.013559   \n",
       "5  random_explainer  tree_grid_link        gat  04       1.0   0.007663   \n",
       "6  random_explainer  ba_shapes_link        gin  04       1.0   0.010169   \n",
       "7  random_explainer  tree_grid_link        gin  04       1.0   0.008940   \n",
       "\n",
       "     recall       iou      fid+      fid-  unfaithfulness  \\\n",
       "0  0.003390  0.001883  0.084746  0.067797             0.0   \n",
       "1  0.002554  0.001352  0.011494  0.011494             0.0   \n",
       "2  0.003390  0.001883  0.000000  0.000000             0.0   \n",
       "3  0.002554  0.001352  0.000000  0.000000             0.0   \n",
       "4  0.013559  0.007533  0.084746  0.084746             0.0   \n",
       "5  0.007663  0.004057  0.080460  0.045977             0.0   \n",
       "6  0.010169  0.005650  0.067797  0.050847             0.0   \n",
       "7  0.008940  0.004733  0.000000  0.000000             0.0   \n",
       "\n",
       "   characterization_score  inference_time  \n",
       "0                0.155367        0.000510  \n",
       "1                0.022724        0.000673  \n",
       "2                0.000000        0.000388  \n",
       "3                0.000000        0.000579  \n",
       "4                0.155128        0.000193  \n",
       "5                0.148404        0.000283  \n",
       "6                0.126554        0.000191  \n",
       "7                0.000000        0.000329  "
      ]
     },
     "execution_count": 19,
     "metadata": {},
     "output_type": "execute_result"
    }
   ],
   "source": [
    "eval_metrics = evaluate_lp_explainer(model_path, explainer_name, explainer_config, datasets, metric_names,\n",
    "                                     std=std)\n",
    "eval_metrics_df = evaluation_df(eval_metrics, lp_datasets, metric_names)\n",
    "eval_metrics_df"
   ]
  },
  {
   "cell_type": "markdown",
   "id": "ad49d1df23777ad3",
   "metadata": {},
   "source": [
    "## GNNExplainer"
   ]
  },
  {
   "cell_type": "code",
   "execution_count": 20,
   "id": "9e9260f41ee8c605",
   "metadata": {
    "ExecuteTime": {
     "end_time": "2025-05-15T22:13:49.518153Z",
     "start_time": "2025-05-15T22:13:47.654060Z"
    }
   },
   "outputs": [
    {
     "data": {
      "text/plain": [
       "Explanation(node_mask=[700, 1], edge_mask=[4110], target=[1], x=[700, 2], edge_index=[2, 4110], edge_label_index=[2, 1])"
      ]
     },
     "execution_count": 20,
     "metadata": {},
     "output_type": "execute_result"
    }
   ],
   "source": [
    "explainer_name = explainer_names[1]\n",
    "explainer = get_explainer(explainer_name, explainer_config, model, model_config)\n",
    "explanation = explainer(data.x, data.edge_index, target=target, edge_label_index=edge_label_index)\n",
    "explanation"
   ]
  },
  {
   "cell_type": "code",
   "execution_count": 21,
   "id": "28f6703622aa34de",
   "metadata": {
    "ExecuteTime": {
     "end_time": "2025-05-15T19:54:11.212503Z",
     "start_time": "2025-05-15T19:54:01.155087Z"
    }
   },
   "outputs": [
    {
     "name": "stderr",
     "output_type": "stream",
     "text": [
      "c:\\Users\\DMSS_\\miniconda3\\envs\\thesis-code\\lib\\site-packages\\torch_geometric\\explain\\metric\\fidelity.py:131: RuntimeWarning: divide by zero encountered in scalar divide\n",
      "  denom = (pos_weight / pos_fidelity) + (neg_weight / (1. - neg_fidelity))\n"
     ]
    },
    {
     "data": {
      "text/plain": [
       "{'accuracy': 1.0,\n",
       " 'precision': 0.2888889,\n",
       " 'recall': 0.2888889,\n",
       " 'iou': 0.1804525,\n",
       " 'fid+': 0.0,\n",
       " 'fid-': 0.0,\n",
       " 'unfaithfulness': 0.0,\n",
       " 'characterization_score': 0.0,\n",
       " 'inference_time': 1.8985695838928223}"
      ]
     },
     "execution_count": 21,
     "metadata": {},
     "output_type": "execute_result"
    }
   ],
   "source": [
    "evaluate_lp_explainer_on_data(explainer, data, edge_label_indices, metric_names, start, end, step)"
   ]
  },
  {
   "cell_type": "code",
   "execution_count": null,
   "id": "e0e1bad6",
   "metadata": {},
   "outputs": [],
   "source": [
    "eval_metrics = evaluate_lp_explainer(model_path, explainer_name, explainer_config, datasets, metric_names,\n",
    "                                     std=std)\n",
    "eval_metrics_df = evaluation_df(eval_metrics, lp_datasets, metric_names)\n",
    "eval_metrics_df"
   ]
  },
  {
   "cell_type": "markdown",
   "id": "d23c1bed10815a80",
   "metadata": {},
   "source": [
    "## PGExplainer"
   ]
  },
  {
   "cell_type": "code",
   "execution_count": 27,
   "id": "fa62039425d81469",
   "metadata": {},
   "outputs": [
    {
     "name": "stdout",
     "output_type": "stream",
     "text": [
      "PGExplainer took 0.45 minutes to train. Best loss: 0.7040\n"
     ]
    }
   ],
   "source": [
    "explainer_name = explainer_names[2]\n",
    "explainer = get_explainer(explainer_name, explainer_config, model, model_config, dataset=data, edge_label_indices=edge_label_indices)"
   ]
  },
  {
   "cell_type": "code",
   "execution_count": 28,
   "id": "f8a2c7df73fa3dff",
   "metadata": {
    "ExecuteTime": {
     "end_time": "2025-05-15T19:56:54.696599Z",
     "start_time": "2025-05-15T19:56:54.006057Z"
    }
   },
   "outputs": [
    {
     "data": {
      "text/plain": [
       "Explanation(edge_mask=[4110], target=[1], x=[700, 2], edge_index=[2, 4110], edge_label_index=[2, 1])"
      ]
     },
     "execution_count": 28,
     "metadata": {},
     "output_type": "execute_result"
    }
   ],
   "source": [
    "explanation = explainer(data.x, data.edge_index, target=target, edge_label_index=edge_label_index)\n",
    "explanation"
   ]
  },
  {
   "cell_type": "code",
   "execution_count": null,
   "id": "6dc8990a38a1293d",
   "metadata": {
    "ExecuteTime": {
     "end_time": "2025-05-15T19:57:13.581838Z",
     "start_time": "2025-05-15T19:57:12.724061Z"
    }
   },
   "outputs": [
    {
     "data": {
      "text/plain": [
       "{'accuracy': 1.0,\n",
       " 'precision': 0.22222224,\n",
       " 'recall': 0.22222224,\n",
       " 'iou': 0.14192308,\n",
       " 'fid+': 0.2,\n",
       " 'fid-': 0.2,\n",
       " 'unfaithfulness': 0.0,\n",
       " 'characterization_score': 0.32,\n",
       " 'inference_time': 0.007938146591186523}"
      ]
     },
     "execution_count": 29,
     "metadata": {},
     "output_type": "execute_result"
    }
   ],
   "source": [
    "evaluate_lp_explainer_on_data(explainer, data, edge_label_indices, metric_names, start, end, step)"
   ]
  },
  {
   "cell_type": "code",
   "execution_count": null,
   "id": "93ba2a6517406263",
   "metadata": {},
   "outputs": [],
   "source": [
    "eval_metrics = evaluate_lp_explainer(model_path, explainer_name, explainer_config, datasets, metric_names,\n",
    "                                     std=std)\n",
    "eval_metrics_df = evaluation_df(eval_metrics, lp_datasets, metric_names)\n",
    "eval_metrics_df"
   ]
  },
  {
   "cell_type": "markdown",
   "id": "e0a69a122be50f00",
   "metadata": {},
   "source": [
    "## CIExplainer"
   ]
  },
  {
   "cell_type": "code",
   "execution_count": 30,
   "id": "22c58acd09e37a2d",
   "metadata": {
    "ExecuteTime": {
     "end_time": "2025-05-15T20:06:54.626375Z",
     "start_time": "2025-05-15T20:06:53.983941Z"
    }
   },
   "outputs": [
    {
     "data": {
      "text/plain": [
       "Explanation(node_mask=[700, 1], edge_mask=[4110], target=[1], x=[700, 2], edge_index=[2, 4110], edge_label_index=[2, 1])"
      ]
     },
     "execution_count": 30,
     "metadata": {},
     "output_type": "execute_result"
    }
   ],
   "source": [
    "explainer_name = explainer_names[4]\n",
    "explainer = get_explainer(explainer_name, explainer_config, model, model_config, dataset=data, dataset_name=dataset_name, edge_label_indices=edge_label_indices)\n",
    "target = model(data.x, data.edge_index, edge_label_index=edge_label_index).sigmoid()\n",
    "explanation = explainer(data.x, data.edge_index, target=target, edge_label_index=edge_label_index)\n",
    "explanation"
   ]
  },
  {
   "cell_type": "code",
   "execution_count": null,
   "id": "66664ee288d6fe13",
   "metadata": {
    "ExecuteTime": {
     "end_time": "2025-05-15T20:08:05.011969Z",
     "start_time": "2025-05-15T20:08:04.045581Z"
    }
   },
   "outputs": [
    {
     "name": "stderr",
     "output_type": "stream",
     "text": [
      "c:\\Users\\DMSS_\\miniconda3\\envs\\thesis-code\\lib\\site-packages\\torch_geometric\\explain\\metric\\fidelity.py:131: RuntimeWarning: divide by zero encountered in scalar divide\n",
      "  denom = (pos_weight / pos_fidelity) + (neg_weight / (1. - neg_fidelity))\n"
     ]
    },
    {
     "data": {
      "text/plain": [
       "{'accuracy': 1.0,\n",
       " 'precision': 0.24444444,\n",
       " 'recall': 0.24444444,\n",
       " 'iou': 0.15368779,\n",
       " 'fid+': 0.0,\n",
       " 'fid-': 0.0,\n",
       " 'unfaithfulness': 0.0,\n",
       " 'characterization_score': 0.0,\n",
       " 'inference_time': 0.024094915390014647}"
      ]
     },
     "execution_count": 31,
     "metadata": {},
     "output_type": "execute_result"
    }
   ],
   "source": [
    "evaluate_lp_explainer_on_data(explainer, data, edge_label_indices, metric_names, start, end, step)"
   ]
  },
  {
   "cell_type": "code",
   "execution_count": null,
   "id": "00cbd0ef",
   "metadata": {},
   "outputs": [],
   "source": [
    "eval_metrics = evaluate_lp_explainer(model_path, explainer_name, explainer_config, datasets, metric_names,\n",
    "                                     std=std)\n",
    "eval_metrics_df = evaluation_df(eval_metrics, lp_datasets, metric_names)\n",
    "eval_metrics_df"
   ]
  }
 ],
 "metadata": {
  "kernelspec": {
   "display_name": "thesis-code",
   "language": "python",
   "name": "python3"
  },
  "language_info": {
   "codemirror_mode": {
    "name": "ipython",
    "version": 3
   },
   "file_extension": ".py",
   "mimetype": "text/x-python",
   "name": "python",
   "nbconvert_exporter": "python",
   "pygments_lexer": "ipython3",
   "version": "3.9.18"
  }
 },
 "nbformat": 4,
 "nbformat_minor": 5
}
