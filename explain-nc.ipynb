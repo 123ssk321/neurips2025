{
 "cells": [
  {
   "cell_type": "code",
   "execution_count": 1,
   "id": "951c2f21",
   "metadata": {},
   "outputs": [],
   "source": [
    "import os\n",
    "%load_ext autoreload\n",
    "%autoreload 2\n",
    "#os.environ['CUDA_LAUNCH_BLOCKING'] = '1'"
   ]
  },
  {
   "cell_type": "markdown",
   "id": "b6b9d29eb4238df2",
   "metadata": {},
   "source": [
    "# Import Libraries"
   ]
  },
  {
   "cell_type": "code",
   "execution_count": null,
   "id": "7f6e5f3f134d8937",
   "metadata": {
    "ExecuteTime": {
     "end_time": "2025-05-16T01:38:43.098997Z",
     "start_time": "2025-05-16T01:38:25.904429Z"
    }
   },
   "outputs": [],
   "source": [
    "\n",
    "import pandas as pd\n",
    "import torch\n",
    "import torch_geometric as pyg\n",
    "\n",
    "from torch_geometric.explain import ExplainerConfig, ModelConfig\n",
    "from torch_geometric.explain.config import ModelMode \n",
    "\n",
    "from model_store import get_gnn, model_names\n",
    "from data_store import get_nc_dataset, nc_datasets\n",
    "from explainer_store import get_explainer, explainer_names\n",
    "from explain_nc import evaluate_nc_explainer, evaluate_nc_explainer_on_data\n",
    "from utils import setup_models, get_motif_nodes"
   ]
  },
  {
   "cell_type": "code",
   "execution_count": null,
   "id": "791ca815b9cef262",
   "metadata": {
    "ExecuteTime": {
     "end_time": "2025-05-16T01:38:43.362999Z",
     "start_time": "2025-05-16T01:38:43.098997Z"
    }
   },
   "outputs": [],
   "source": [
    "device = torch.device('cuda' if torch.cuda.is_available() else 'cpu')"
   ]
  },
  {
   "cell_type": "code",
   "execution_count": 4,
   "id": "44cb2974ffcd6a86",
   "metadata": {
    "ExecuteTime": {
     "end_time": "2025-05-16T01:38:43.619757Z",
     "start_time": "2025-05-16T01:38:43.362999Z"
    }
   },
   "outputs": [],
   "source": [
    "dataset_path = 'datasets/'\n",
    "model_path = 'models/'\n",
    "model_name = 'all'\n",
    "stds = ['00', '01', '02', '03', '04', '05', '06', '07', '08', '09', '10']\n",
    "std = stds[4]"
   ]
  },
  {
   "cell_type": "code",
   "execution_count": 6,
   "id": "fa31da9eb88f8535",
   "metadata": {
    "ExecuteTime": {
     "end_time": "2025-05-16T01:38:44.647592Z",
     "start_time": "2025-05-16T01:38:44.154635Z"
    }
   },
   "outputs": [],
   "source": [
    "gcn = pyg.nn.GCN(in_channels=-1, hidden_channels=1, num_layers=1)\n",
    "grapsage = pyg.nn.GraphSAGE(in_channels=-1, hidden_channels=1, num_layers=1)\n",
    "gat = pyg.nn.GAT(in_channels=-1, hidden_channels=1, num_layers=1)\n",
    "gin = pyg.nn.GIN(in_channels=-1, hidden_channels=1, num_layers=1)"
   ]
  },
  {
   "cell_type": "markdown",
   "id": "19df23615f647196",
   "metadata": {},
   "source": [
    "# Explain Node Classification Predictions"
   ]
  },
  {
   "cell_type": "code",
   "execution_count": 7,
   "id": "db234f2a0408f5de",
   "metadata": {
    "ExecuteTime": {
     "end_time": "2025-05-16T01:38:44.911581Z",
     "start_time": "2025-05-16T01:38:44.647592Z"
    }
   },
   "outputs": [],
   "source": [
    "metric_names = ['accuracy', 'precision', 'recall', 'iou', 'fid+', 'fid-', 'unfaithfulness', 'characterization_score',\n",
    "                'inference_time']\n",
    "explainer_config = ExplainerConfig(\n",
    "    explanation_type='phenomenon',\n",
    "    node_mask_type='object',\n",
    "    edge_mask_type='object',\n",
    ")"
   ]
  },
  {
   "cell_type": "code",
   "execution_count": 43,
   "id": "8ace3b3bed16588b",
   "metadata": {
    "ExecuteTime": {
     "end_time": "2025-05-16T01:38:45.182563Z",
     "start_time": "2025-05-16T01:38:44.911581Z"
    }
   },
   "outputs": [],
   "source": [
    "def evaluation_df(eval_data, dataset_names, metric_names):\n",
    "    # Flatten the nested dictionary into a list of rows\n",
    "    rows = []\n",
    "    for (explainer, model), dataset_metrics in eval_data.items():\n",
    "        for dataset in dataset_names:\n",
    "            row = {\n",
    "                'explainer': explainer,\n",
    "                'dataset': dataset\n",
    "            }\n",
    "\n",
    "            # Split the model name into 'model' (before the hyphen) and 'std' (after the hyphen)\n",
    "            model_parts = model.split('-')\n",
    "            if len(model_parts) == 2:\n",
    "                row['model'] = model_parts[0]  # e.g., 'gcn'\n",
    "                row['std'] = model_parts[1]  # e.g., '00' (store as 'std')\n",
    "            else:\n",
    "                row['model'] = model  # If no hyphen, keep the entire model as 'model'\n",
    "                row['std'] = None  # No model ID, set 'std' as None\n",
    "\n",
    "            # Add metric values to the row\n",
    "            for metric in metric_names:\n",
    "                row[metric] = dataset_metrics.get((dataset, metric), None)\n",
    "\n",
    "            rows.append(row)\n",
    "\n",
    "    # Create DataFrame from the list of rows\n",
    "    dataframe = pd.DataFrame(rows)\n",
    "\n",
    "    # Reorder columns: model and std columns should come before accuracy\n",
    "    column_order = ['explainer', 'dataset', 'model', 'std'] + metric_names\n",
    "    dataframe = dataframe[column_order]\n",
    "\n",
    "    return dataframe"
   ]
  },
  {
   "cell_type": "markdown",
   "id": "f0e6e3083dbab001",
   "metadata": {},
   "source": [
    "# Load Node Classification Datasets"
   ]
  },
  {
   "cell_type": "code",
   "execution_count": 12,
   "id": "41a5f84dfabe0c48",
   "metadata": {
    "ExecuteTime": {
     "end_time": "2025-05-14T15:27:14.114755Z",
     "start_time": "2025-05-14T15:27:13.442075Z"
    }
   },
   "outputs": [
    {
     "name": "stdout",
     "output_type": "stream",
     "text": [
      "$$$$$$$$$$$$$$$$$$$$$$$$$$$$$$$$$$$$$$$$$$$$$$$$$$$$$$$$$$$$$$$$$$$$$$$$$$$$$$$$$$$$$$$$$$$$$$$$$$$$$\n",
      "Loading ba_shapes dataset with 04 standard deviation from datasets/ba_shapes/ba_shapes04.pth\n",
      "Number of PyTorch Geometric Data object (undirected) edges: 4110\n",
      "Used feature matrix shape: torch.Size([700, 2])\n",
      "Average node degree: 5.87\n",
      "Number of ground truth edges: 480\n",
      "Node mask shape: torch.Size([700])\n",
      "Edge mask shape: torch.Size([4110])\n",
      "$$$$$$$$$$$$$$$$$$$$$$$$$$$$$$$$$$$$$$$$$$$$$$$$$$$$$$$$$$$$$$$$$$$$$$$$$$$$$$$$$$$$$$$$$$$$$$$$$$$$$\n",
      "Loading tree_grid dataset with 04 standard deviation from datasets/tree_grid/tree_grid04.pth\n",
      "Number of PyTorch Geometric Data object (undirected) edges: 3130\n",
      "Used feature matrix shape: torch.Size([1231, 2])\n",
      "Average node degree: 2.54\n",
      "Number of ground truth edges: 960\n",
      "Node mask shape: torch.Size([1231])\n",
      "Edge mask shape: torch.Size([3130])\n"
     ]
    }
   ],
   "source": [
    "datasets = get_nc_dataset(dataset_path, 'all', std_str=std, new=False)\n",
    "for idx, (dataset_name, data) in enumerate(datasets):\n",
    "    datasets[idx] = (dataset_name, data.to(device))"
   ]
  },
  {
   "cell_type": "markdown",
   "id": "4ec5863fa985d4b6",
   "metadata": {},
   "source": [
    "# Load Node Classification Models"
   ]
  },
  {
   "cell_type": "code",
   "execution_count": 27,
   "id": "cae9fcd37e7f4026",
   "metadata": {
    "ExecuteTime": {
     "end_time": "2025-05-14T15:27:16.760633Z",
     "start_time": "2025-05-14T15:27:16.448141Z"
    }
   },
   "outputs": [],
   "source": [
    "task = 'nc'\n",
    "dataset_models = []"
   ]
  },
  {
   "cell_type": "markdown",
   "id": "ce919d97cde8b141",
   "metadata": {},
   "source": [
    "## BA-Shapes"
   ]
  },
  {
   "cell_type": "code",
   "execution_count": 28,
   "id": "5a6e45543689580e",
   "metadata": {
    "ExecuteTime": {
     "end_time": "2025-05-14T15:27:49.246912Z",
     "start_time": "2025-05-14T15:27:48.702900Z"
    }
   },
   "outputs": [],
   "source": [
    "bas_models = get_gnn(model_path, task, model_name, 'ba_shapes', std=std)\n",
    "bas_models = setup_models(bas_models, device)\n",
    "dataset_models.append(bas_models)"
   ]
  },
  {
   "cell_type": "markdown",
   "id": "bebab0b2524579fd",
   "metadata": {},
   "source": [
    "## Tree-Grid"
   ]
  },
  {
   "cell_type": "code",
   "execution_count": 29,
   "id": "f9aeafbc1f50d6e3",
   "metadata": {},
   "outputs": [],
   "source": [
    "trg_models = get_gnn(model_path, task, model_name, 'tree_grid', std=std)\n",
    "trg_models = setup_models(trg_models, device)\n",
    "dataset_models.append(trg_models)"
   ]
  },
  {
   "cell_type": "code",
   "execution_count": 17,
   "id": "8b5aae0f592a2c0",
   "metadata": {
    "ExecuteTime": {
     "end_time": "2025-05-14T15:29:35.706077Z",
     "start_time": "2025-05-14T15:29:35.039281Z"
    }
   },
   "outputs": [],
   "source": [
    "model_config = ModelConfig(\n",
    "    mode='multiclass_classification',\n",
    "    task_level='node',\n",
    "    return_type='raw'\n",
    ")"
   ]
  },
  {
   "cell_type": "code",
   "execution_count": 30,
   "id": "89c60276abd0f306",
   "metadata": {
    "ExecuteTime": {
     "end_time": "2025-05-14T15:29:39.941945Z",
     "start_time": "2025-05-14T15:29:39.365515Z"
    }
   },
   "outputs": [
    {
     "data": {
      "text/plain": [
       "('ba_shapes',\n",
       " Data(edge_index=[2, 4110], y=[700], train_mask=[700], val_mask=[700], test_mask=[700], gt_edges=[2, 480], edge_mask=[4110], node_mask=[700], num_classes=4, num_nodes=700, x=[700, 2]),\n",
       " 42)"
      ]
     },
     "execution_count": 30,
     "metadata": {},
     "output_type": "execute_result"
    }
   ],
   "source": [
    "did = 0\n",
    "models = dataset_models[did]\n",
    "dataset_name, data = datasets[did]\n",
    "motif_nodes = (data.y > 0).nonzero().view(-1)\n",
    "start = motif_nodes[0].item()\n",
    "end = motif_nodes[-1].item()\n",
    "step = 5 if dataset_name == 'ba_shapes' else 9\n",
    "motif_nodes_mask = (data.y > 0) & data.test_mask\n",
    "test_nodes = motif_nodes_mask.nonzero().view(-1)\n",
    "if 'tree' in dataset_name:\n",
    "    model_config.mode = ModelMode.binary_classification\n",
    "dataset_name, data, test_nodes.size(0)"
   ]
  },
  {
   "cell_type": "code",
   "execution_count": 19,
   "id": "7b41b11666de0b8b",
   "metadata": {
    "ExecuteTime": {
     "end_time": "2025-05-14T15:29:41.657303Z",
     "start_time": "2025-05-14T15:29:40.993535Z"
    }
   },
   "outputs": [
    {
     "data": {
      "text/plain": [
       "tensor([300, 301, 302, 303, 304])"
      ]
     },
     "execution_count": 19,
     "metadata": {},
     "output_type": "execute_result"
    }
   ],
   "source": [
    "get_motif_nodes(start, end, step, test_nodes[0].item())"
   ]
  },
  {
   "cell_type": "code",
   "execution_count": 41,
   "id": "bc61c0459c160391",
   "metadata": {
    "ExecuteTime": {
     "end_time": "2025-05-14T15:29:42.893416Z",
     "start_time": "2025-05-14T15:29:42.518458Z"
    }
   },
   "outputs": [
    {
     "data": {
      "text/plain": [
       "('gcn',\n",
       " NC_GNN(\n",
       "   (model): GCN(-1, 4, num_layers=3)\n",
       "   (criterion): CrossEntropyLoss()\n",
       " ))"
      ]
     },
     "execution_count": 41,
     "metadata": {},
     "output_type": "execute_result"
    }
   ],
   "source": [
    "model_name, model = models[0]\n",
    "model_name, model"
   ]
  },
  {
   "cell_type": "code",
   "execution_count": 32,
   "id": "7d9839318f011301",
   "metadata": {
    "ExecuteTime": {
     "end_time": "2025-05-14T15:29:44.129339Z",
     "start_time": "2025-05-14T15:29:43.796403Z"
    }
   },
   "outputs": [
    {
     "name": "stdout",
     "output_type": "stream",
     "text": [
      "0.8333333333333334\n"
     ]
    }
   ],
   "source": [
    "model.eval()\n",
    "with torch.no_grad():\n",
    "    pred = model(data.x, data.edge_index)\n",
    "    pred = torch.softmax(pred, dim=-1).argmax(dim=-1) if model_config.mode == ModelMode.multiclass_classification else (\n",
    "            pred.sigmoid().view(-1) > 0.5).long()\n",
    "    acc = pred[test_nodes].eq(data.y[test_nodes]).sum().item() / test_nodes.size(0)\n",
    "print(acc)"
   ]
  },
  {
   "cell_type": "markdown",
   "id": "3b8e33cd",
   "metadata": {},
   "source": [
    "# Explainers"
   ]
  },
  {
   "cell_type": "code",
   "execution_count": 33,
   "id": "fb1eeac1",
   "metadata": {},
   "outputs": [],
   "source": [
    "test_node_idx = 0"
   ]
  },
  {
   "cell_type": "markdown",
   "id": "318f651f4168776a",
   "metadata": {},
   "source": [
    "## Random"
   ]
  },
  {
   "cell_type": "code",
   "execution_count": 36,
   "id": "8aa0ad6d58c1ff4b",
   "metadata": {
    "ExecuteTime": {
     "end_time": "2025-05-14T15:50:20.235570Z",
     "start_time": "2025-05-14T15:50:19.711352Z"
    }
   },
   "outputs": [
    {
     "data": {
      "text/plain": [
       "Explanation(node_mask=[700, 1], edge_mask=[4110], target=[700], index=[1], x=[700, 2], edge_index=[2, 4110])"
      ]
     },
     "execution_count": 36,
     "metadata": {},
     "output_type": "execute_result"
    }
   ],
   "source": [
    "explainer_name = explainer_names[0]\n",
    "explainer = get_explainer(explainer_name, explainer_config, model, model_config)\n",
    "explanation = explainer(data.x, data.edge_index, target=data.y, index=test_nodes[test_node_idx].item())\n",
    "explanation"
   ]
  },
  {
   "cell_type": "code",
   "execution_count": 40,
   "id": "3ed3ed064c1336d0",
   "metadata": {
    "ExecuteTime": {
     "end_time": "2025-05-12T23:12:49.201958Z",
     "start_time": "2025-05-12T23:12:47.508148Z"
    }
   },
   "outputs": [
    {
     "data": {
      "text/plain": [
       "{'accuracy': 0.5129643621898833,\n",
       " 'precision': 0.02857143,\n",
       " 'recall': 0.02857143,\n",
       " 'iou': 0.016534392,\n",
       " 'fid+': 0.30952380952380953,\n",
       " 'fid-': 0.3333333333333333,\n",
       " 'unfaithfulness': 0.4449986834522514,\n",
       " 'characterization_score': 0.4227642276422764,\n",
       " 'inference_time': 0.0005607321148826962}"
      ]
     },
     "execution_count": 40,
     "metadata": {},
     "output_type": "execute_result"
    }
   ],
   "source": [
    "evaluate_nc_explainer_on_data(explainer, data, test_nodes, metric_names, start, end, step)"
   ]
  },
  {
   "cell_type": "code",
   "execution_count": 42,
   "id": "a958af6b7e6f5561",
   "metadata": {
    "ExecuteTime": {
     "end_time": "2025-05-13T00:05:01.683663Z",
     "start_time": "2025-05-13T00:05:00.607249Z"
    }
   },
   "outputs": [
    {
     "name": "stdout",
     "output_type": "stream",
     "text": [
      "-- Evaluating random_explainer explainer on node classification datasets...\n",
      "--- Evaluating random_explainer explainer on ba_shapes dataset...\n",
      "----- Evaluating random_explainer explainer on gcn-04 model...\n",
      "------- Evaluation on gcn-04 model took 0.02 minutes.\n",
      "----- Evaluating random_explainer explainer on graphsage-04 model...\n",
      "------- Evaluation on graphsage-04 model took 0.01 minutes.\n",
      "----- Evaluating random_explainer explainer on gat-04 model...\n",
      "------- Evaluation on gat-04 model took 0.02 minutes.\n",
      "----- Evaluating random_explainer explainer on gin-04 model...\n",
      "------- Evaluation on gin-04 model took 0.01 minutes.\n",
      "------ Evaluation on ba_shapes dataset took 0.08 minutes.\n",
      "--- Evaluating random_explainer explainer on tree_grid dataset...\n",
      "----- Evaluating random_explainer explainer on gcn-04 model...\n",
      "------- Evaluation on gcn-04 model took 0.03 minutes.\n",
      "----- Evaluating random_explainer explainer on graphsage-04 model...\n"
     ]
    },
    {
     "name": "stderr",
     "output_type": "stream",
     "text": [
      "c:\\Users\\DMSS_\\miniconda3\\envs\\thesis-code\\lib\\site-packages\\torch_geometric\\explain\\metric\\fidelity.py:131: RuntimeWarning: divide by zero encountered in scalar divide\n",
      "  denom = (pos_weight / pos_fidelity) + (neg_weight / (1. - neg_fidelity))\n"
     ]
    },
    {
     "name": "stdout",
     "output_type": "stream",
     "text": [
      "------- Evaluation on graphsage-04 model took 0.02 minutes.\n",
      "----- Evaluating random_explainer explainer on gat-04 model...\n",
      "------- Evaluation on gat-04 model took 0.03 minutes.\n",
      "----- Evaluating random_explainer explainer on gin-04 model...\n",
      "------- Evaluation on gin-04 model took 0.02 minutes.\n",
      "------ Evaluation on tree_grid dataset took 0.11 minutes.\n",
      "--- Evaluation on node classification took 0.18 minutes.\n"
     ]
    },
    {
     "data": {
      "text/html": [
       "<div>\n",
       "<style scoped>\n",
       "    .dataframe tbody tr th:only-of-type {\n",
       "        vertical-align: middle;\n",
       "    }\n",
       "\n",
       "    .dataframe tbody tr th {\n",
       "        vertical-align: top;\n",
       "    }\n",
       "\n",
       "    .dataframe thead th {\n",
       "        text-align: right;\n",
       "    }\n",
       "</style>\n",
       "<table border=\"1\" class=\"dataframe\">\n",
       "  <thead>\n",
       "    <tr style=\"text-align: right;\">\n",
       "      <th></th>\n",
       "      <th>explainer</th>\n",
       "      <th>dataset</th>\n",
       "      <th>model</th>\n",
       "      <th>std</th>\n",
       "      <th>accuracy</th>\n",
       "      <th>precision</th>\n",
       "      <th>recall</th>\n",
       "      <th>iou</th>\n",
       "      <th>fid+</th>\n",
       "      <th>fid-</th>\n",
       "      <th>unfaithfulness</th>\n",
       "      <th>characterization_score</th>\n",
       "      <th>inference_time</th>\n",
       "    </tr>\n",
       "  </thead>\n",
       "  <tbody>\n",
       "    <tr>\n",
       "      <th>0</th>\n",
       "      <td>random_explainer</td>\n",
       "      <td>ba_shapes</td>\n",
       "      <td>gcn</td>\n",
       "      <td>04</td>\n",
       "      <td>0.528513</td>\n",
       "      <td>0.009524</td>\n",
       "      <td>0.009524</td>\n",
       "      <td>0.005291</td>\n",
       "      <td>0.428571</td>\n",
       "      <td>0.476190</td>\n",
       "      <td>0.346600</td>\n",
       "      <td>0.471429</td>\n",
       "      <td>0.001017</td>\n",
       "    </tr>\n",
       "    <tr>\n",
       "      <th>1</th>\n",
       "      <td>random_explainer</td>\n",
       "      <td>tree_grid</td>\n",
       "      <td>gcn</td>\n",
       "      <td>04</td>\n",
       "      <td>0.505284</td>\n",
       "      <td>0.004566</td>\n",
       "      <td>0.004566</td>\n",
       "      <td>0.002417</td>\n",
       "      <td>0.027397</td>\n",
       "      <td>0.095890</td>\n",
       "      <td>0.000000</td>\n",
       "      <td>0.053183</td>\n",
       "      <td>0.000556</td>\n",
       "    </tr>\n",
       "    <tr>\n",
       "      <th>2</th>\n",
       "      <td>random_explainer</td>\n",
       "      <td>ba_shapes</td>\n",
       "      <td>graphsage</td>\n",
       "      <td>04</td>\n",
       "      <td>0.489850</td>\n",
       "      <td>0.000000</td>\n",
       "      <td>0.000000</td>\n",
       "      <td>0.000000</td>\n",
       "      <td>0.142857</td>\n",
       "      <td>0.238095</td>\n",
       "      <td>0.299182</td>\n",
       "      <td>0.240602</td>\n",
       "      <td>0.000491</td>\n",
       "    </tr>\n",
       "    <tr>\n",
       "      <th>3</th>\n",
       "      <td>random_explainer</td>\n",
       "      <td>tree_grid</td>\n",
       "      <td>graphsage</td>\n",
       "      <td>04</td>\n",
       "      <td>0.487908</td>\n",
       "      <td>0.003044</td>\n",
       "      <td>0.003044</td>\n",
       "      <td>0.001612</td>\n",
       "      <td>0.000000</td>\n",
       "      <td>0.095890</td>\n",
       "      <td>0.000000</td>\n",
       "      <td>0.000000</td>\n",
       "      <td>0.000289</td>\n",
       "    </tr>\n",
       "    <tr>\n",
       "      <th>4</th>\n",
       "      <td>random_explainer</td>\n",
       "      <td>ba_shapes</td>\n",
       "      <td>gat</td>\n",
       "      <td>04</td>\n",
       "      <td>0.512814</td>\n",
       "      <td>0.014286</td>\n",
       "      <td>0.014286</td>\n",
       "      <td>0.007937</td>\n",
       "      <td>0.380952</td>\n",
       "      <td>0.380952</td>\n",
       "      <td>0.248987</td>\n",
       "      <td>0.471655</td>\n",
       "      <td>0.000467</td>\n",
       "    </tr>\n",
       "    <tr>\n",
       "      <th>5</th>\n",
       "      <td>random_explainer</td>\n",
       "      <td>tree_grid</td>\n",
       "      <td>gat</td>\n",
       "      <td>04</td>\n",
       "      <td>0.508708</td>\n",
       "      <td>0.009132</td>\n",
       "      <td>0.009132</td>\n",
       "      <td>0.004835</td>\n",
       "      <td>0.082192</td>\n",
       "      <td>0.328767</td>\n",
       "      <td>0.000000</td>\n",
       "      <td>0.146451</td>\n",
       "      <td>0.000272</td>\n",
       "    </tr>\n",
       "    <tr>\n",
       "      <th>6</th>\n",
       "      <td>random_explainer</td>\n",
       "      <td>ba_shapes</td>\n",
       "      <td>gin</td>\n",
       "      <td>04</td>\n",
       "      <td>0.498207</td>\n",
       "      <td>0.000000</td>\n",
       "      <td>0.000000</td>\n",
       "      <td>0.000000</td>\n",
       "      <td>0.309524</td>\n",
       "      <td>0.595238</td>\n",
       "      <td>0.541563</td>\n",
       "      <td>0.350794</td>\n",
       "      <td>0.000545</td>\n",
       "    </tr>\n",
       "    <tr>\n",
       "      <th>7</th>\n",
       "      <td>random_explainer</td>\n",
       "      <td>tree_grid</td>\n",
       "      <td>gin</td>\n",
       "      <td>04</td>\n",
       "      <td>0.488495</td>\n",
       "      <td>0.007610</td>\n",
       "      <td>0.007610</td>\n",
       "      <td>0.004029</td>\n",
       "      <td>0.000000</td>\n",
       "      <td>0.000000</td>\n",
       "      <td>0.000000</td>\n",
       "      <td>0.000000</td>\n",
       "      <td>0.000579</td>\n",
       "    </tr>\n",
       "  </tbody>\n",
       "</table>\n",
       "</div>"
      ],
      "text/plain": [
       "          explainer    dataset      model std  accuracy  precision    recall  \\\n",
       "0  random_explainer  ba_shapes        gcn  04  0.528513   0.009524  0.009524   \n",
       "1  random_explainer  tree_grid        gcn  04  0.505284   0.004566  0.004566   \n",
       "2  random_explainer  ba_shapes  graphsage  04  0.489850   0.000000  0.000000   \n",
       "3  random_explainer  tree_grid  graphsage  04  0.487908   0.003044  0.003044   \n",
       "4  random_explainer  ba_shapes        gat  04  0.512814   0.014286  0.014286   \n",
       "5  random_explainer  tree_grid        gat  04  0.508708   0.009132  0.009132   \n",
       "6  random_explainer  ba_shapes        gin  04  0.498207   0.000000  0.000000   \n",
       "7  random_explainer  tree_grid        gin  04  0.488495   0.007610  0.007610   \n",
       "\n",
       "        iou      fid+      fid-  unfaithfulness  characterization_score  \\\n",
       "0  0.005291  0.428571  0.476190        0.346600                0.471429   \n",
       "1  0.002417  0.027397  0.095890        0.000000                0.053183   \n",
       "2  0.000000  0.142857  0.238095        0.299182                0.240602   \n",
       "3  0.001612  0.000000  0.095890        0.000000                0.000000   \n",
       "4  0.007937  0.380952  0.380952        0.248987                0.471655   \n",
       "5  0.004835  0.082192  0.328767        0.000000                0.146451   \n",
       "6  0.000000  0.309524  0.595238        0.541563                0.350794   \n",
       "7  0.004029  0.000000  0.000000        0.000000                0.000000   \n",
       "\n",
       "   inference_time  \n",
       "0        0.001017  \n",
       "1        0.000556  \n",
       "2        0.000491  \n",
       "3        0.000289  \n",
       "4        0.000467  \n",
       "5        0.000272  \n",
       "6        0.000545  \n",
       "7        0.000579  "
      ]
     },
     "execution_count": 42,
     "metadata": {},
     "output_type": "execute_result"
    }
   ],
   "source": [
    "eval_metrics = evaluate_nc_explainer(model_path, 'random_explainer', explainer_config, datasets, metric_names,\n",
    "                                     std=std)\n",
    "eval_metrics_df = evaluation_df(eval_metrics, nc_datasets, metric_names)\n",
    "eval_metrics_df"
   ]
  },
  {
   "cell_type": "markdown",
   "id": "3c52fc42b1725563",
   "metadata": {},
   "source": [
    "## GNNExplainer"
   ]
  },
  {
   "cell_type": "code",
   "execution_count": 44,
   "id": "f7e6b5fcd43c14ab",
   "metadata": {
    "ExecuteTime": {
     "end_time": "2025-05-14T15:54:20.469561Z",
     "start_time": "2025-05-14T15:54:16.265670Z"
    }
   },
   "outputs": [
    {
     "data": {
      "text/plain": [
       "Explanation(node_mask=[700, 1], edge_mask=[4110], target=[700], index=[1], x=[700, 2], edge_index=[2, 4110])"
      ]
     },
     "execution_count": 44,
     "metadata": {},
     "output_type": "execute_result"
    }
   ],
   "source": [
    "explainer_name = explainer_names[1]\n",
    "explainer = get_explainer(explainer_name, explainer_config, model, model_config)\n",
    "explanation = explainer(data.x, data.edge_index, target=data.y, index=test_nodes[test_node_idx].item())\n",
    "explanation"
   ]
  },
  {
   "cell_type": "code",
   "execution_count": 46,
   "id": "4ba9fd47162ea48b",
   "metadata": {
    "ExecuteTime": {
     "end_time": "2025-04-23T17:19:47.140586Z",
     "start_time": "2025-04-23T17:19:38.878823Z"
    }
   },
   "outputs": [
    {
     "data": {
      "text/plain": [
       "{'accuracy': 0.7070877254009247,\n",
       " 'precision': 0.76,\n",
       " 'recall': 0.76,\n",
       " 'iou': 0.65000004,\n",
       " 'fid+': 0.4,\n",
       " 'fid-': 0.2,\n",
       " 'unfaithfulness': 0.1726197600364685,\n",
       " 'characterization_score': 0.5333333333333333,\n",
       " 'inference_time': 3.3128846168518065}"
      ]
     },
     "execution_count": 46,
     "metadata": {},
     "output_type": "execute_result"
    }
   ],
   "source": [
    "evaluate_nc_explainer_on_data(explainer, data, test_nodes, metric_names, start, end, step)"
   ]
  },
  {
   "cell_type": "code",
   "execution_count": null,
   "id": "5662373e9f8f485b",
   "metadata": {},
   "outputs": [],
   "source": [
    "eval_metrics = evaluate_nc_explainer(model_path, explainer_name, explainer_config, datasets, metric_names,\n",
    "                                     std=std)\n",
    "eval_metrics_df = evaluation_df(eval_metrics, nc_datasets, metric_names)\n",
    "eval_metrics_df"
   ]
  },
  {
   "cell_type": "markdown",
   "id": "7f819763d2f22c10",
   "metadata": {},
   "source": [
    "## PGExplainer"
   ]
  },
  {
   "cell_type": "code",
   "execution_count": 47,
   "id": "e9f032dece0bd100",
   "metadata": {},
   "outputs": [
    {
     "name": "stdout",
     "output_type": "stream",
     "text": [
      "PGExplainer took 2.12 minutes to train. Best loss: 1.4407\n"
     ]
    }
   ],
   "source": [
    "explainer_name = explainer_names[2]\n",
    "explainer = get_explainer(explainer_name, explainer_config, model, model_config, dataset=data)"
   ]
  },
  {
   "cell_type": "code",
   "execution_count": 48,
   "id": "60daf29c70c42cca",
   "metadata": {},
   "outputs": [
    {
     "data": {
      "text/plain": [
       "Explanation(edge_mask=[4110], target=[700], index=[1], x=[700, 2], edge_index=[2, 4110])"
      ]
     },
     "execution_count": 48,
     "metadata": {},
     "output_type": "execute_result"
    }
   ],
   "source": [
    "explanation = explainer(data.x, data.edge_index, target=data.y, index=test_nodes[test_node_idx].item())\n",
    "explanation"
   ]
  },
  {
   "cell_type": "code",
   "execution_count": 49,
   "id": "302d151b3f585af",
   "metadata": {},
   "outputs": [
    {
     "data": {
      "text/plain": [
       "{'accuracy': 0.40384192587364287,\n",
       " 'precision': 0.13809524,\n",
       " 'recall': 0.13809524,\n",
       " 'iou': 0.11139456,\n",
       " 'fid+': 0.5952380952380952,\n",
       " 'fid-': 0.3333333333333333,\n",
       " 'unfaithfulness': 0.6410738031956411,\n",
       " 'characterization_score': 0.628930817610063,\n",
       " 'inference_time': 0.00857302120753697}"
      ]
     },
     "execution_count": 49,
     "metadata": {},
     "output_type": "execute_result"
    }
   ],
   "source": [
    "evaluate_nc_explainer_on_data(explainer, data, test_nodes, metric_names, start, end, step)"
   ]
  },
  {
   "cell_type": "code",
   "execution_count": 50,
   "id": "9fb6341c",
   "metadata": {},
   "outputs": [
    {
     "data": {
      "text/plain": [
       "['random_explainer', 'gnnexplainer', 'pgexplainer', 'subgraphx', 'ciexplainer']"
      ]
     },
     "execution_count": 50,
     "metadata": {},
     "output_type": "execute_result"
    }
   ],
   "source": [
    "explainer_names"
   ]
  },
  {
   "cell_type": "code",
   "execution_count": null,
   "id": "24b6dcd4bac6785d",
   "metadata": {},
   "outputs": [],
   "source": [
    "eval_metrics = evaluate_nc_explainer(model_path, explainer_name, explainer_config, datasets, metric_names,\n",
    "                                     std=std)\n",
    "eval_metrics_df = evaluation_df(eval_metrics, nc_datasets, metric_names)\n",
    "eval_metrics_df"
   ]
  },
  {
   "cell_type": "markdown",
   "id": "210ac784b243636",
   "metadata": {},
   "source": [
    "## SubgraphX"
   ]
  },
  {
   "cell_type": "code",
   "execution_count": 52,
   "id": "a2b523c433303cea",
   "metadata": {
    "ExecuteTime": {
     "end_time": "2025-02-12T17:20:03.882084Z",
     "start_time": "2025-02-12T17:20:03.409827Z"
    }
   },
   "outputs": [
    {
     "name": "stdout",
     "output_type": "stream",
     "text": [
      "The nodes in graph is Data(x=[6, 2], edge_index=[2, 14])\n",
      "At the 0 rollout, 6states that have been explored.\n",
      "At the 1 rollout, 6states that have been explored.\n",
      "At the 2 rollout, 6states that have been explored.\n",
      "At the 3 rollout, 6states that have been explored.\n",
      "At the 4 rollout, 6states that have been explored.\n",
      "At the 5 rollout, 6states that have been explored.\n",
      "At the 6 rollout, 6states that have been explored.\n",
      "At the 7 rollout, 6states that have been explored.\n",
      "At the 8 rollout, 6states that have been explored.\n",
      "At the 9 rollout, 6states that have been explored.\n"
     ]
    },
    {
     "data": {
      "text/plain": [
       "Explanation(\n",
       "  x=[700, 2],\n",
       "  edge_index=[2, 4110],\n",
       "  node_mask=[700, 1],\n",
       "  edge_mask=[4110],\n",
       "  results=[6],\n",
       "  subselt=[6],\n",
       "  related_pred={\n",
       "    masked=0.9828965067863464,\n",
       "    maskout=0.02969662845134735,\n",
       "    origin=0.8863950371742249,\n",
       "    sparsity=0.16666666666666663,\n",
       "  },\n",
       "  masked_node_list=[5],\n",
       "  explained_edge_list=[2, 8],\n",
       "  target=[700],\n",
       "  index=[1]\n",
       ")"
      ]
     },
     "execution_count": 52,
     "metadata": {},
     "output_type": "execute_result"
    }
   ],
   "source": [
    "explainer_name = explainer_names[3]\n",
    "explainer = get_explainer(explainer_name, explainer_config, model, model_config)\n",
    "explanation = explainer(data.x, data.edge_index, target=data.y, index=test_nodes[test_node_idx].item())\n",
    "explanation"
   ]
  },
  {
   "cell_type": "code",
   "execution_count": 53,
   "id": "ff92f623ad5085a",
   "metadata": {},
   "outputs": [
    {
     "name": "stdout",
     "output_type": "stream",
     "text": [
      "The nodes in graph is Data(x=[6, 2], edge_index=[2, 14])\n",
      "At the 0 rollout, 6states that have been explored.\n",
      "At the 1 rollout, 6states that have been explored.\n",
      "At the 2 rollout, 6states that have been explored.\n",
      "At the 3 rollout, 6states that have been explored.\n",
      "At the 4 rollout, 6states that have been explored.\n",
      "At the 5 rollout, 6states that have been explored.\n",
      "At the 6 rollout, 6states that have been explored.\n",
      "At the 7 rollout, 6states that have been explored.\n",
      "At the 8 rollout, 6states that have been explored.\n",
      "At the 9 rollout, 6states that have been explored.\n"
     ]
    },
    {
     "data": {
      "text/plain": [
       "{'accuracy': 0.6666666865348816,\n",
       " 'precision': 0.8,\n",
       " 'recall': 0.8,\n",
       " 'iou': 0.6666667,\n",
       " 'fid+': 1.0,\n",
       " 'fid-': 0.0,\n",
       " 'unfaithfulness': 0.0445246696472168,\n",
       " 'characterization_score': 1.0,\n",
       " 'inference_time': 0.0999295711517334}"
      ]
     },
     "execution_count": 53,
     "metadata": {},
     "output_type": "execute_result"
    }
   ],
   "source": [
    "evaluate_nc_explainer_on_data(explainer, data, test_nodes, metric_names, start, end, step)"
   ]
  },
  {
   "cell_type": "code",
   "execution_count": null,
   "id": "0e05e32f",
   "metadata": {},
   "outputs": [],
   "source": [
    "eval_metrics = evaluate_nc_explainer(model_path, explainer_name, explainer_config, datasets, metric_names,\n",
    "                                     std=std)\n",
    "eval_metrics_df = evaluation_df(eval_metrics, nc_datasets, metric_names)\n",
    "eval_metrics_df"
   ]
  },
  {
   "cell_type": "markdown",
   "id": "a2e49e36deff6c1c",
   "metadata": {},
   "source": [
    "## CIExplainer"
   ]
  },
  {
   "cell_type": "code",
   "execution_count": 56,
   "id": "da4648e0b2c10594",
   "metadata": {
    "ExecuteTime": {
     "end_time": "2025-05-06T18:05:14.596436Z",
     "start_time": "2025-05-06T18:05:14.323339Z"
    }
   },
   "outputs": [
    {
     "data": {
      "text/plain": [
       "Explanation(node_mask=[700, 1], edge_mask=[4110], target=[700], index=[1], x=[700, 2], edge_index=[2, 4110])"
      ]
     },
     "execution_count": 56,
     "metadata": {},
     "output_type": "execute_result"
    }
   ],
   "source": [
    "explainer_name = explainer_names[4]\n",
    "explainer = get_explainer(explainer_name, explainer_config, model, model_config, dataset=data, dataset_name=dataset_name)\n",
    "test_node_idx = 0\n",
    "index = test_nodes[test_node_idx].item()\n",
    "target = model(data.x, data.edge_index).softmax(dim=-1).max(dim=-1)[0]\n",
    "explanation = explainer(data.x, data.edge_index, target=target, index=index)\n",
    "explanation"
   ]
  },
  {
   "cell_type": "code",
   "execution_count": 57,
   "id": "c0f24317d0c12bc8",
   "metadata": {},
   "outputs": [
    {
     "name": "stderr",
     "output_type": "stream",
     "text": [
      "c:\\Users\\DMSS_\\miniconda3\\envs\\thesis-code\\lib\\site-packages\\torch_geometric\\explain\\metric\\fidelity.py:131: RuntimeWarning: divide by zero encountered in scalar divide\n",
      "  denom = (pos_weight / pos_fidelity) + (neg_weight / (1. - neg_fidelity))\n"
     ]
    },
    {
     "data": {
      "text/plain": [
       "{'accuracy': 1.0,\n",
       " 'precision': 0.8428572,\n",
       " 'recall': 0.8428572,\n",
       " 'iou': 0.7764551,\n",
       " 'fid+': 0.0,\n",
       " 'fid-': 0.0,\n",
       " 'unfaithfulness': 0.24025894346691312,\n",
       " 'characterization_score': 0.0,\n",
       " 'inference_time': 0.1358734198978969}"
      ]
     },
     "execution_count": 57,
     "metadata": {},
     "output_type": "execute_result"
    }
   ],
   "source": [
    "y_p = torch.zeros_like(data.y, device=data.y.device, dtype=torch.double)\n",
    "for idx in test_nodes:\n",
    "    y_p[idx] = torch.softmax(model(data.x, data.edge_index)[idx], dim=-1).max()\n",
    "data.y_p = y_p\n",
    "evaluate_nc_explainer_on_data(explainer, data, test_nodes, metric_names, start, end, step, use_prob=True, threshold=0.0)"
   ]
  },
  {
   "cell_type": "code",
   "execution_count": null,
   "id": "50965043",
   "metadata": {},
   "outputs": [],
   "source": [
    "eval_metrics = evaluate_nc_explainer(model_path, explainer_name, explainer_config, datasets, metric_names,\n",
    "                                     std=std)\n",
    "eval_metrics_df = evaluation_df(eval_metrics, nc_datasets, metric_names)\n",
    "eval_metrics_df"
   ]
  }
 ],
 "metadata": {
  "kernelspec": {
   "display_name": "thesis-code",
   "language": "python",
   "name": "python3"
  },
  "language_info": {
   "codemirror_mode": {
    "name": "ipython",
    "version": 3
   },
   "file_extension": ".py",
   "mimetype": "text/x-python",
   "name": "python",
   "nbconvert_exporter": "python",
   "pygments_lexer": "ipython3",
   "version": "3.9.18"
  }
 },
 "nbformat": 4,
 "nbformat_minor": 5
}
